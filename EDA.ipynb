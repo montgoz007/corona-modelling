{
 "cells": [
  {
   "cell_type": "code",
   "execution_count": 78,
   "source": [
    "import pandas as pd  # Handling data\r\n",
    "import numpy as np # Handling numbers\r\n",
    "\r\n",
    "# Plotting\r\n",
    "import plotly.express as px \r\n",
    "import seaborn as sns \r\n",
    "import matplotlib.pyplot as plt\r\n",
    "sns.set_theme(style=\"white\")"
   ],
   "outputs": [],
   "metadata": {}
  },
  {
   "cell_type": "markdown",
   "source": [
    "# Modelling Covid restrictions from Covid statistics (Cases, hospitalisations, deaths, vaccinations)"
   ],
   "metadata": {}
  },
  {
   "cell_type": "markdown",
   "source": [
    "## Covid statistics"
   ],
   "metadata": {}
  },
  {
   "cell_type": "code",
   "execution_count": 67,
   "source": [
    "# Loading seperate data sets\r\n",
    "cases_data = pd.read_csv(r'data\\Cases\\cases_covid.csv', parse_dates=['date'])\r\n",
    "admissions_data = pd.read_csv(r'data\\Admissions\\admissions_covid.csv', parse_dates=['date'])\r\n",
    "deaths_data = pd.read_csv(r'data\\Deaths\\deaths_covid.csv', parse_dates=['date'])\r\n",
    "vaccinations_data = pd.read_csv(r'data\\Vaccinations\\vaccinations_covid.csv', parse_dates=['date'])\r\n",
    "\r\n",
    "# Merging to a single dataset\r\n",
    "covid_data = cases_data.merge(admissions_data)\r\n",
    "covid_data = covid_data.merge(deaths_data)\r\n",
    "covid_data = covid_data.merge(vaccinations_data)\r\n",
    "covid_data"
   ],
   "outputs": [
    {
     "output_type": "execute_result",
     "data": {
      "text/html": [
       "<div>\n",
       "<style scoped>\n",
       "    .dataframe tbody tr th:only-of-type {\n",
       "        vertical-align: middle;\n",
       "    }\n",
       "\n",
       "    .dataframe tbody tr th {\n",
       "        vertical-align: top;\n",
       "    }\n",
       "\n",
       "    .dataframe thead th {\n",
       "        text-align: right;\n",
       "    }\n",
       "</style>\n",
       "<table border=\"1\" class=\"dataframe\">\n",
       "  <thead>\n",
       "    <tr style=\"text-align: right;\">\n",
       "      <th></th>\n",
       "      <th>areaCode</th>\n",
       "      <th>areaName</th>\n",
       "      <th>areaType</th>\n",
       "      <th>date</th>\n",
       "      <th>hospitalCases</th>\n",
       "      <th>newCasesByPublishDate</th>\n",
       "      <th>newAdmissions</th>\n",
       "      <th>newDeaths28DaysByDeathDate</th>\n",
       "      <th>cumPeopleVaccinatedCompleteByPublishDate</th>\n",
       "      <th>cumPeopleVaccinatedFirstDoseByPublishDate</th>\n",
       "      <th>cumPeopleVaccinatedSecondDoseByPublishDate</th>\n",
       "      <th>cumVaccinationCompleteCoverageByPublishDatePercentage</th>\n",
       "      <th>newVaccinesGivenByPublishDate</th>\n",
       "    </tr>\n",
       "  </thead>\n",
       "  <tbody>\n",
       "    <tr>\n",
       "      <th>0</th>\n",
       "      <td>K02000001</td>\n",
       "      <td>United Kingdom</td>\n",
       "      <td>overview</td>\n",
       "      <td>2021-10-04</td>\n",
       "      <td>6777.0</td>\n",
       "      <td>35077</td>\n",
       "      <td>747</td>\n",
       "      <td>74</td>\n",
       "      <td>45021381</td>\n",
       "      <td>48994530</td>\n",
       "      <td>45021381</td>\n",
       "      <td>78.3</td>\n",
       "      <td>67008.0</td>\n",
       "    </tr>\n",
       "    <tr>\n",
       "      <th>1</th>\n",
       "      <td>K02000001</td>\n",
       "      <td>United Kingdom</td>\n",
       "      <td>overview</td>\n",
       "      <td>2021-10-03</td>\n",
       "      <td>6592.0</td>\n",
       "      <td>30439</td>\n",
       "      <td>682</td>\n",
       "      <td>82</td>\n",
       "      <td>44992044</td>\n",
       "      <td>48956859</td>\n",
       "      <td>44992044</td>\n",
       "      <td>78.2</td>\n",
       "      <td>45655.0</td>\n",
       "    </tr>\n",
       "    <tr>\n",
       "      <th>2</th>\n",
       "      <td>K02000001</td>\n",
       "      <td>United Kingdom</td>\n",
       "      <td>overview</td>\n",
       "      <td>2021-10-02</td>\n",
       "      <td>6437.0</td>\n",
       "      <td>30301</td>\n",
       "      <td>669</td>\n",
       "      <td>92</td>\n",
       "      <td>44970512</td>\n",
       "      <td>48932736</td>\n",
       "      <td>44970512</td>\n",
       "      <td>78.2</td>\n",
       "      <td>65457.0</td>\n",
       "    </tr>\n",
       "    <tr>\n",
       "      <th>3</th>\n",
       "      <td>K02000001</td>\n",
       "      <td>United Kingdom</td>\n",
       "      <td>overview</td>\n",
       "      <td>2021-10-01</td>\n",
       "      <td>6590.0</td>\n",
       "      <td>35577</td>\n",
       "      <td>651</td>\n",
       "      <td>103</td>\n",
       "      <td>44936121</td>\n",
       "      <td>48901670</td>\n",
       "      <td>44936121</td>\n",
       "      <td>78.1</td>\n",
       "      <td>72469.0</td>\n",
       "    </tr>\n",
       "    <tr>\n",
       "      <th>4</th>\n",
       "      <td>K02000001</td>\n",
       "      <td>United Kingdom</td>\n",
       "      <td>overview</td>\n",
       "      <td>2021-09-30</td>\n",
       "      <td>6763.0</td>\n",
       "      <td>36480</td>\n",
       "      <td>654</td>\n",
       "      <td>106</td>\n",
       "      <td>44901832</td>\n",
       "      <td>48863490</td>\n",
       "      <td>44901832</td>\n",
       "      <td>78.1</td>\n",
       "      <td>68831.0</td>\n",
       "    </tr>\n",
       "    <tr>\n",
       "      <th>...</th>\n",
       "      <td>...</td>\n",
       "      <td>...</td>\n",
       "      <td>...</td>\n",
       "      <td>...</td>\n",
       "      <td>...</td>\n",
       "      <td>...</td>\n",
       "      <td>...</td>\n",
       "      <td>...</td>\n",
       "      <td>...</td>\n",
       "      <td>...</td>\n",
       "      <td>...</td>\n",
       "      <td>...</td>\n",
       "      <td>...</td>\n",
       "    </tr>\n",
       "    <tr>\n",
       "      <th>263</th>\n",
       "      <td>K02000001</td>\n",
       "      <td>United Kingdom</td>\n",
       "      <td>overview</td>\n",
       "      <td>2021-01-14</td>\n",
       "      <td>37691.0</td>\n",
       "      <td>48682</td>\n",
       "      <td>4103</td>\n",
       "      <td>1227</td>\n",
       "      <td>443234</td>\n",
       "      <td>3234946</td>\n",
       "      <td>443234</td>\n",
       "      <td>0.8</td>\n",
       "      <td>321951.0</td>\n",
       "    </tr>\n",
       "    <tr>\n",
       "      <th>264</th>\n",
       "      <td>K02000001</td>\n",
       "      <td>United Kingdom</td>\n",
       "      <td>overview</td>\n",
       "      <td>2021-01-13</td>\n",
       "      <td>37487.0</td>\n",
       "      <td>47525</td>\n",
       "      <td>4224</td>\n",
       "      <td>1214</td>\n",
       "      <td>437977</td>\n",
       "      <td>2918252</td>\n",
       "      <td>437977</td>\n",
       "      <td>0.8</td>\n",
       "      <td>288688.0</td>\n",
       "    </tr>\n",
       "    <tr>\n",
       "      <th>265</th>\n",
       "      <td>K02000001</td>\n",
       "      <td>United Kingdom</td>\n",
       "      <td>overview</td>\n",
       "      <td>2021-01-12</td>\n",
       "      <td>36981.0</td>\n",
       "      <td>45533</td>\n",
       "      <td>4583</td>\n",
       "      <td>1210</td>\n",
       "      <td>428232</td>\n",
       "      <td>2639309</td>\n",
       "      <td>428232</td>\n",
       "      <td>0.7</td>\n",
       "      <td>223726.0</td>\n",
       "    </tr>\n",
       "    <tr>\n",
       "      <th>266</th>\n",
       "      <td>K02000001</td>\n",
       "      <td>United Kingdom</td>\n",
       "      <td>overview</td>\n",
       "      <td>2021-01-11</td>\n",
       "      <td>36751.0</td>\n",
       "      <td>46169</td>\n",
       "      <td>4309</td>\n",
       "      <td>1129</td>\n",
       "      <td>412167</td>\n",
       "      <td>2431648</td>\n",
       "      <td>412167</td>\n",
       "      <td>0.7</td>\n",
       "      <td>165844.0</td>\n",
       "    </tr>\n",
       "    <tr>\n",
       "      <th>267</th>\n",
       "      <td>K02000001</td>\n",
       "      <td>United Kingdom</td>\n",
       "      <td>overview</td>\n",
       "      <td>2021-01-10</td>\n",
       "      <td>35391.0</td>\n",
       "      <td>54940</td>\n",
       "      <td>3937</td>\n",
       "      <td>1095</td>\n",
       "      <td>391399</td>\n",
       "      <td>2286572</td>\n",
       "      <td>391399</td>\n",
       "      <td>0.7</td>\n",
       "      <td>NaN</td>\n",
       "    </tr>\n",
       "  </tbody>\n",
       "</table>\n",
       "<p>268 rows × 13 columns</p>\n",
       "</div>"
      ],
      "text/plain": [
       "      areaCode        areaName  areaType       date  hospitalCases  \\\n",
       "0    K02000001  United Kingdom  overview 2021-10-04         6777.0   \n",
       "1    K02000001  United Kingdom  overview 2021-10-03         6592.0   \n",
       "2    K02000001  United Kingdom  overview 2021-10-02         6437.0   \n",
       "3    K02000001  United Kingdom  overview 2021-10-01         6590.0   \n",
       "4    K02000001  United Kingdom  overview 2021-09-30         6763.0   \n",
       "..         ...             ...       ...        ...            ...   \n",
       "263  K02000001  United Kingdom  overview 2021-01-14        37691.0   \n",
       "264  K02000001  United Kingdom  overview 2021-01-13        37487.0   \n",
       "265  K02000001  United Kingdom  overview 2021-01-12        36981.0   \n",
       "266  K02000001  United Kingdom  overview 2021-01-11        36751.0   \n",
       "267  K02000001  United Kingdom  overview 2021-01-10        35391.0   \n",
       "\n",
       "     newCasesByPublishDate  newAdmissions  newDeaths28DaysByDeathDate  \\\n",
       "0                    35077            747                          74   \n",
       "1                    30439            682                          82   \n",
       "2                    30301            669                          92   \n",
       "3                    35577            651                         103   \n",
       "4                    36480            654                         106   \n",
       "..                     ...            ...                         ...   \n",
       "263                  48682           4103                        1227   \n",
       "264                  47525           4224                        1214   \n",
       "265                  45533           4583                        1210   \n",
       "266                  46169           4309                        1129   \n",
       "267                  54940           3937                        1095   \n",
       "\n",
       "     cumPeopleVaccinatedCompleteByPublishDate  \\\n",
       "0                                    45021381   \n",
       "1                                    44992044   \n",
       "2                                    44970512   \n",
       "3                                    44936121   \n",
       "4                                    44901832   \n",
       "..                                        ...   \n",
       "263                                    443234   \n",
       "264                                    437977   \n",
       "265                                    428232   \n",
       "266                                    412167   \n",
       "267                                    391399   \n",
       "\n",
       "     cumPeopleVaccinatedFirstDoseByPublishDate  \\\n",
       "0                                     48994530   \n",
       "1                                     48956859   \n",
       "2                                     48932736   \n",
       "3                                     48901670   \n",
       "4                                     48863490   \n",
       "..                                         ...   \n",
       "263                                    3234946   \n",
       "264                                    2918252   \n",
       "265                                    2639309   \n",
       "266                                    2431648   \n",
       "267                                    2286572   \n",
       "\n",
       "     cumPeopleVaccinatedSecondDoseByPublishDate  \\\n",
       "0                                      45021381   \n",
       "1                                      44992044   \n",
       "2                                      44970512   \n",
       "3                                      44936121   \n",
       "4                                      44901832   \n",
       "..                                          ...   \n",
       "263                                      443234   \n",
       "264                                      437977   \n",
       "265                                      428232   \n",
       "266                                      412167   \n",
       "267                                      391399   \n",
       "\n",
       "     cumVaccinationCompleteCoverageByPublishDatePercentage  \\\n",
       "0                                                 78.3       \n",
       "1                                                 78.2       \n",
       "2                                                 78.2       \n",
       "3                                                 78.1       \n",
       "4                                                 78.1       \n",
       "..                                                 ...       \n",
       "263                                                0.8       \n",
       "264                                                0.8       \n",
       "265                                                0.7       \n",
       "266                                                0.7       \n",
       "267                                                0.7       \n",
       "\n",
       "     newVaccinesGivenByPublishDate  \n",
       "0                          67008.0  \n",
       "1                          45655.0  \n",
       "2                          65457.0  \n",
       "3                          72469.0  \n",
       "4                          68831.0  \n",
       "..                             ...  \n",
       "263                       321951.0  \n",
       "264                       288688.0  \n",
       "265                       223726.0  \n",
       "266                       165844.0  \n",
       "267                            NaN  \n",
       "\n",
       "[268 rows x 13 columns]"
      ]
     },
     "metadata": {},
     "execution_count": 67
    }
   ],
   "metadata": {}
  },
  {
   "cell_type": "code",
   "execution_count": 68,
   "source": [
    "covid_data.info()"
   ],
   "outputs": [
    {
     "output_type": "stream",
     "name": "stdout",
     "text": [
      "<class 'pandas.core.frame.DataFrame'>\n",
      "Int64Index: 268 entries, 0 to 267\n",
      "Data columns (total 13 columns):\n",
      " #   Column                                                 Non-Null Count  Dtype         \n",
      "---  ------                                                 --------------  -----         \n",
      " 0   areaCode                                               268 non-null    object        \n",
      " 1   areaName                                               268 non-null    object        \n",
      " 2   areaType                                               268 non-null    object        \n",
      " 3   date                                                   268 non-null    datetime64[ns]\n",
      " 4   hospitalCases                                          268 non-null    float64       \n",
      " 5   newCasesByPublishDate                                  268 non-null    int64         \n",
      " 6   newAdmissions                                          268 non-null    int64         \n",
      " 7   newDeaths28DaysByDeathDate                             268 non-null    int64         \n",
      " 8   cumPeopleVaccinatedCompleteByPublishDate               268 non-null    int64         \n",
      " 9   cumPeopleVaccinatedFirstDoseByPublishDate              268 non-null    int64         \n",
      " 10  cumPeopleVaccinatedSecondDoseByPublishDate             268 non-null    int64         \n",
      " 11  cumVaccinationCompleteCoverageByPublishDatePercentage  268 non-null    float64       \n",
      " 12  newVaccinesGivenByPublishDate                          267 non-null    float64       \n",
      "dtypes: datetime64[ns](1), float64(3), int64(6), object(3)\n",
      "memory usage: 29.3+ KB\n"
     ]
    }
   ],
   "metadata": {}
  },
  {
   "cell_type": "code",
   "execution_count": 69,
   "source": [
    "covid_data.describe(include=['datetime']).T"
   ],
   "outputs": [
    {
     "output_type": "stream",
     "name": "stderr",
     "text": [
      "C:\\Users\\steph\\anaconda3\\envs\\montVenv\\lib\\site-packages\\ipykernel_launcher.py:1: FutureWarning:\n",
      "\n",
      "Treating datetime data as categorical rather than numeric in `.describe` is deprecated and will be removed in a future version of pandas. Specify `datetime_is_numeric=True` to silence this warning and adopt the future behavior now.\n",
      "\n"
     ]
    },
    {
     "output_type": "execute_result",
     "data": {
      "text/html": [
       "<div>\n",
       "<style scoped>\n",
       "    .dataframe tbody tr th:only-of-type {\n",
       "        vertical-align: middle;\n",
       "    }\n",
       "\n",
       "    .dataframe tbody tr th {\n",
       "        vertical-align: top;\n",
       "    }\n",
       "\n",
       "    .dataframe thead th {\n",
       "        text-align: right;\n",
       "    }\n",
       "</style>\n",
       "<table border=\"1\" class=\"dataframe\">\n",
       "  <thead>\n",
       "    <tr style=\"text-align: right;\">\n",
       "      <th></th>\n",
       "      <th>count</th>\n",
       "      <th>unique</th>\n",
       "      <th>top</th>\n",
       "      <th>freq</th>\n",
       "      <th>first</th>\n",
       "      <th>last</th>\n",
       "    </tr>\n",
       "  </thead>\n",
       "  <tbody>\n",
       "    <tr>\n",
       "      <th>date</th>\n",
       "      <td>268</td>\n",
       "      <td>268</td>\n",
       "      <td>2021-04-03</td>\n",
       "      <td>1</td>\n",
       "      <td>2021-01-10</td>\n",
       "      <td>2021-10-04</td>\n",
       "    </tr>\n",
       "  </tbody>\n",
       "</table>\n",
       "</div>"
      ],
      "text/plain": [
       "     count unique        top freq      first       last\n",
       "date   268    268 2021-04-03    1 2021-01-10 2021-10-04"
      ]
     },
     "metadata": {},
     "execution_count": 69
    }
   ],
   "metadata": {}
  },
  {
   "cell_type": "code",
   "execution_count": null,
   "source": [
    "covid_data.describe(include=['datetime']).T"
   ],
   "outputs": [
    {
     "output_type": "stream",
     "name": "stderr",
     "text": [
      "C:\\Users\\steph\\anaconda3\\envs\\montVenv\\lib\\site-packages\\ipykernel_launcher.py:1: FutureWarning:\n",
      "\n",
      "Treating datetime data as categorical rather than numeric in `.describe` is deprecated and will be removed in a future version of pandas. Specify `datetime_is_numeric=True` to silence this warning and adopt the future behavior now.\n",
      "\n"
     ]
    },
    {
     "data": {
      "text/html": [
       "<div>\n",
       "<style scoped>\n",
       "    .dataframe tbody tr th:only-of-type {\n",
       "        vertical-align: middle;\n",
       "    }\n",
       "\n",
       "    .dataframe tbody tr th {\n",
       "        vertical-align: top;\n",
       "    }\n",
       "\n",
       "    .dataframe thead th {\n",
       "        text-align: right;\n",
       "    }\n",
       "</style>\n",
       "<table border=\"1\" class=\"dataframe\">\n",
       "  <thead>\n",
       "    <tr style=\"text-align: right;\">\n",
       "      <th></th>\n",
       "      <th>count</th>\n",
       "      <th>unique</th>\n",
       "      <th>top</th>\n",
       "      <th>freq</th>\n",
       "      <th>first</th>\n",
       "      <th>last</th>\n",
       "    </tr>\n",
       "  </thead>\n",
       "  <tbody>\n",
       "    <tr>\n",
       "      <th>date</th>\n",
       "      <td>268</td>\n",
       "      <td>268</td>\n",
       "      <td>2021-04-03</td>\n",
       "      <td>1</td>\n",
       "      <td>2021-01-10</td>\n",
       "      <td>2021-10-04</td>\n",
       "    </tr>\n",
       "  </tbody>\n",
       "</table>\n",
       "</div>"
      ],
      "text/plain": [
       "     count unique        top freq      first       last\n",
       "date   268    268 2021-04-03    1 2021-01-10 2021-10-04"
      ]
     },
     "metadata": {},
     "output_type": "display_data"
    }
   ],
   "metadata": {}
  },
  {
   "cell_type": "code",
   "execution_count": 70,
   "source": [
    "covid_data.describe().T"
   ],
   "outputs": [
    {
     "output_type": "execute_result",
     "data": {
      "text/html": [
       "<div>\n",
       "<style scoped>\n",
       "    .dataframe tbody tr th:only-of-type {\n",
       "        vertical-align: middle;\n",
       "    }\n",
       "\n",
       "    .dataframe tbody tr th {\n",
       "        vertical-align: top;\n",
       "    }\n",
       "\n",
       "    .dataframe thead th {\n",
       "        text-align: right;\n",
       "    }\n",
       "</style>\n",
       "<table border=\"1\" class=\"dataframe\">\n",
       "  <thead>\n",
       "    <tr style=\"text-align: right;\">\n",
       "      <th></th>\n",
       "      <th>count</th>\n",
       "      <th>mean</th>\n",
       "      <th>std</th>\n",
       "      <th>min</th>\n",
       "      <th>25%</th>\n",
       "      <th>50%</th>\n",
       "      <th>75%</th>\n",
       "      <th>max</th>\n",
       "    </tr>\n",
       "  </thead>\n",
       "  <tbody>\n",
       "    <tr>\n",
       "      <th>hospitalCases</th>\n",
       "      <td>268.0</td>\n",
       "      <td>8.816246e+03</td>\n",
       "      <td>1.044042e+04</td>\n",
       "      <td>872.0</td>\n",
       "      <td>1748.25</td>\n",
       "      <td>5881.0</td>\n",
       "      <td>8.131000e+03</td>\n",
       "      <td>39254.0</td>\n",
       "    </tr>\n",
       "    <tr>\n",
       "      <th>newCasesByPublishDate</th>\n",
       "      <td>268.0</td>\n",
       "      <td>1.860689e+04</td>\n",
       "      <td>1.481469e+04</td>\n",
       "      <td>1649.0</td>\n",
       "      <td>4645.00</td>\n",
       "      <td>14490.0</td>\n",
       "      <td>3.183450e+04</td>\n",
       "      <td>55761.0</td>\n",
       "    </tr>\n",
       "    <tr>\n",
       "      <th>newAdmissions</th>\n",
       "      <td>268.0</td>\n",
       "      <td>8.506791e+02</td>\n",
       "      <td>9.425095e+02</td>\n",
       "      <td>80.0</td>\n",
       "      <td>208.00</td>\n",
       "      <td>671.5</td>\n",
       "      <td>9.375000e+02</td>\n",
       "      <td>4583.0</td>\n",
       "    </tr>\n",
       "    <tr>\n",
       "      <th>newDeaths28DaysByDeathDate</th>\n",
       "      <td>268.0</td>\n",
       "      <td>1.977948e+02</td>\n",
       "      <td>3.319787e+02</td>\n",
       "      <td>4.0</td>\n",
       "      <td>19.00</td>\n",
       "      <td>79.0</td>\n",
       "      <td>1.397500e+02</td>\n",
       "      <td>1359.0</td>\n",
       "    </tr>\n",
       "    <tr>\n",
       "      <th>cumPeopleVaccinatedCompleteByPublishDate</th>\n",
       "      <td>268.0</td>\n",
       "      <td>2.159713e+07</td>\n",
       "      <td>1.695124e+07</td>\n",
       "      <td>391399.0</td>\n",
       "      <td>1978066.00</td>\n",
       "      <td>23062033.5</td>\n",
       "      <td>3.798184e+07</td>\n",
       "      <td>45021381.0</td>\n",
       "    </tr>\n",
       "    <tr>\n",
       "      <th>cumPeopleVaccinatedFirstDoseByPublishDate</th>\n",
       "      <td>268.0</td>\n",
       "      <td>3.463544e+07</td>\n",
       "      <td>1.374805e+07</td>\n",
       "      <td>2286572.0</td>\n",
       "      <td>26131667.00</td>\n",
       "      <td>38131227.5</td>\n",
       "      <td>4.675001e+07</td>\n",
       "      <td>48994530.0</td>\n",
       "    </tr>\n",
       "    <tr>\n",
       "      <th>cumPeopleVaccinatedSecondDoseByPublishDate</th>\n",
       "      <td>268.0</td>\n",
       "      <td>2.159713e+07</td>\n",
       "      <td>1.695124e+07</td>\n",
       "      <td>391399.0</td>\n",
       "      <td>1978066.00</td>\n",
       "      <td>23062033.5</td>\n",
       "      <td>3.798184e+07</td>\n",
       "      <td>45021381.0</td>\n",
       "    </tr>\n",
       "    <tr>\n",
       "      <th>cumVaccinationCompleteCoverageByPublishDatePercentage</th>\n",
       "      <td>268.0</td>\n",
       "      <td>3.755821e+01</td>\n",
       "      <td>2.947414e+01</td>\n",
       "      <td>0.7</td>\n",
       "      <td>3.45</td>\n",
       "      <td>40.1</td>\n",
       "      <td>6.607500e+01</td>\n",
       "      <td>78.3</td>\n",
       "    </tr>\n",
       "    <tr>\n",
       "      <th>newVaccinesGivenByPublishDate</th>\n",
       "      <td>267.0</td>\n",
       "      <td>3.420897e+05</td>\n",
       "      <td>1.819118e+05</td>\n",
       "      <td>41523.0</td>\n",
       "      <td>199539.50</td>\n",
       "      <td>316965.0</td>\n",
       "      <td>4.936240e+05</td>\n",
       "      <td>844285.0</td>\n",
       "    </tr>\n",
       "  </tbody>\n",
       "</table>\n",
       "</div>"
      ],
      "text/plain": [
       "                                                    count          mean  \\\n",
       "hospitalCases                                       268.0  8.816246e+03   \n",
       "newCasesByPublishDate                               268.0  1.860689e+04   \n",
       "newAdmissions                                       268.0  8.506791e+02   \n",
       "newDeaths28DaysByDeathDate                          268.0  1.977948e+02   \n",
       "cumPeopleVaccinatedCompleteByPublishDate            268.0  2.159713e+07   \n",
       "cumPeopleVaccinatedFirstDoseByPublishDate           268.0  3.463544e+07   \n",
       "cumPeopleVaccinatedSecondDoseByPublishDate          268.0  2.159713e+07   \n",
       "cumVaccinationCompleteCoverageByPublishDatePerc...  268.0  3.755821e+01   \n",
       "newVaccinesGivenByPublishDate                       267.0  3.420897e+05   \n",
       "\n",
       "                                                             std        min  \\\n",
       "hospitalCases                                       1.044042e+04      872.0   \n",
       "newCasesByPublishDate                               1.481469e+04     1649.0   \n",
       "newAdmissions                                       9.425095e+02       80.0   \n",
       "newDeaths28DaysByDeathDate                          3.319787e+02        4.0   \n",
       "cumPeopleVaccinatedCompleteByPublishDate            1.695124e+07   391399.0   \n",
       "cumPeopleVaccinatedFirstDoseByPublishDate           1.374805e+07  2286572.0   \n",
       "cumPeopleVaccinatedSecondDoseByPublishDate          1.695124e+07   391399.0   \n",
       "cumVaccinationCompleteCoverageByPublishDatePerc...  2.947414e+01        0.7   \n",
       "newVaccinesGivenByPublishDate                       1.819118e+05    41523.0   \n",
       "\n",
       "                                                            25%         50%  \\\n",
       "hospitalCases                                           1748.25      5881.0   \n",
       "newCasesByPublishDate                                   4645.00     14490.0   \n",
       "newAdmissions                                            208.00       671.5   \n",
       "newDeaths28DaysByDeathDate                                19.00        79.0   \n",
       "cumPeopleVaccinatedCompleteByPublishDate             1978066.00  23062033.5   \n",
       "cumPeopleVaccinatedFirstDoseByPublishDate           26131667.00  38131227.5   \n",
       "cumPeopleVaccinatedSecondDoseByPublishDate           1978066.00  23062033.5   \n",
       "cumVaccinationCompleteCoverageByPublishDatePerc...         3.45        40.1   \n",
       "newVaccinesGivenByPublishDate                         199539.50    316965.0   \n",
       "\n",
       "                                                             75%         max  \n",
       "hospitalCases                                       8.131000e+03     39254.0  \n",
       "newCasesByPublishDate                               3.183450e+04     55761.0  \n",
       "newAdmissions                                       9.375000e+02      4583.0  \n",
       "newDeaths28DaysByDeathDate                          1.397500e+02      1359.0  \n",
       "cumPeopleVaccinatedCompleteByPublishDate            3.798184e+07  45021381.0  \n",
       "cumPeopleVaccinatedFirstDoseByPublishDate           4.675001e+07  48994530.0  \n",
       "cumPeopleVaccinatedSecondDoseByPublishDate          3.798184e+07  45021381.0  \n",
       "cumVaccinationCompleteCoverageByPublishDatePerc...  6.607500e+01        78.3  \n",
       "newVaccinesGivenByPublishDate                       4.936240e+05    844285.0  "
      ]
     },
     "metadata": {},
     "execution_count": 70
    }
   ],
   "metadata": {}
  },
  {
   "cell_type": "code",
   "execution_count": 71,
   "source": [
    "covid_data.describe(include=['object']).T"
   ],
   "outputs": [
    {
     "output_type": "execute_result",
     "data": {
      "text/html": [
       "<div>\n",
       "<style scoped>\n",
       "    .dataframe tbody tr th:only-of-type {\n",
       "        vertical-align: middle;\n",
       "    }\n",
       "\n",
       "    .dataframe tbody tr th {\n",
       "        vertical-align: top;\n",
       "    }\n",
       "\n",
       "    .dataframe thead th {\n",
       "        text-align: right;\n",
       "    }\n",
       "</style>\n",
       "<table border=\"1\" class=\"dataframe\">\n",
       "  <thead>\n",
       "    <tr style=\"text-align: right;\">\n",
       "      <th></th>\n",
       "      <th>count</th>\n",
       "      <th>unique</th>\n",
       "      <th>top</th>\n",
       "      <th>freq</th>\n",
       "    </tr>\n",
       "  </thead>\n",
       "  <tbody>\n",
       "    <tr>\n",
       "      <th>areaCode</th>\n",
       "      <td>268</td>\n",
       "      <td>1</td>\n",
       "      <td>K02000001</td>\n",
       "      <td>268</td>\n",
       "    </tr>\n",
       "    <tr>\n",
       "      <th>areaName</th>\n",
       "      <td>268</td>\n",
       "      <td>1</td>\n",
       "      <td>United Kingdom</td>\n",
       "      <td>268</td>\n",
       "    </tr>\n",
       "    <tr>\n",
       "      <th>areaType</th>\n",
       "      <td>268</td>\n",
       "      <td>1</td>\n",
       "      <td>overview</td>\n",
       "      <td>268</td>\n",
       "    </tr>\n",
       "  </tbody>\n",
       "</table>\n",
       "</div>"
      ],
      "text/plain": [
       "         count unique             top freq\n",
       "areaCode   268      1       K02000001  268\n",
       "areaName   268      1  United Kingdom  268\n",
       "areaType   268      1        overview  268"
      ]
     },
     "metadata": {},
     "execution_count": 71
    }
   ],
   "metadata": {}
  },
  {
   "cell_type": "code",
   "execution_count": 72,
   "source": [
    "list(covid_data.columns)"
   ],
   "outputs": [
    {
     "output_type": "execute_result",
     "data": {
      "text/plain": [
       "['areaCode',\n",
       " 'areaName',\n",
       " 'areaType',\n",
       " 'date',\n",
       " 'hospitalCases',\n",
       " 'newCasesByPublishDate',\n",
       " 'newAdmissions',\n",
       " 'newDeaths28DaysByDeathDate',\n",
       " 'cumPeopleVaccinatedCompleteByPublishDate',\n",
       " 'cumPeopleVaccinatedFirstDoseByPublishDate',\n",
       " 'cumPeopleVaccinatedSecondDoseByPublishDate',\n",
       " 'cumVaccinationCompleteCoverageByPublishDatePercentage',\n",
       " 'newVaccinesGivenByPublishDate']"
      ]
     },
     "metadata": {},
     "execution_count": 72
    }
   ],
   "metadata": {}
  },
  {
   "cell_type": "markdown",
   "source": [
    "### Charting Covid features"
   ],
   "metadata": {}
  },
  {
   "cell_type": "code",
   "execution_count": 73,
   "source": [
    "covid_features = ['hospitalCases', \r\n",
    "                'newCasesByPublishDate',\r\n",
    "                'newAdmissions',\r\n",
    "                'newDeaths28DaysByDeathDate',\r\n",
    "                'cumPeopleVaccinatedCompleteByPublishDate',\r\n",
    "                'cumPeopleVaccinatedFirstDoseByPublishDate', \r\n",
    "                'cumPeopleVaccinatedSecondDoseByPublishDate',\r\n",
    "                'cumVaccinationCompleteCoverageByPublishDatePercentage',\r\n",
    "                'newVaccinesGivenByPublishDate']\r\n",
    "#covid_features\r\n",
    "for feature in covid_features:\r\n",
    "    fig = px.line(covid_data, x=\"date\", y=feature, title=f'{feature}')\r\n",
    "    fig.show()"
   ],
   "outputs": [
    {
     "output_type": "display_data",
     "data": {
      "application/vnd.plotly.v1+json": {
       "config": {
        "plotlyServerURL": "https://plot.ly"
       },
       "data": [
        {
         "hovertemplate": "date=%{x}<br>hospitalCases=%{y}<extra></extra>",
         "legendgroup": "",
         "line": {
          "color": "#636efa",
          "dash": "solid"
         },
         "marker": {
          "symbol": "circle"
         },
         "mode": "lines",
         "name": "",
         "orientation": "v",
         "showlegend": false,
         "type": "scatter",
         "x": [
          "2021-10-04T00:00:00",
          "2021-10-03T00:00:00",
          "2021-10-02T00:00:00",
          "2021-10-01T00:00:00",
          "2021-09-30T00:00:00",
          "2021-09-29T00:00:00",
          "2021-09-28T00:00:00",
          "2021-09-27T00:00:00",
          "2021-09-26T00:00:00",
          "2021-09-25T00:00:00",
          "2021-09-24T00:00:00",
          "2021-09-23T00:00:00",
          "2021-09-22T00:00:00",
          "2021-09-21T00:00:00",
          "2021-09-20T00:00:00",
          "2021-09-19T00:00:00",
          "2021-09-18T00:00:00",
          "2021-09-17T00:00:00",
          "2021-09-16T00:00:00",
          "2021-09-15T00:00:00",
          "2021-09-14T00:00:00",
          "2021-09-13T00:00:00",
          "2021-09-12T00:00:00",
          "2021-09-11T00:00:00",
          "2021-09-10T00:00:00",
          "2021-09-09T00:00:00",
          "2021-09-08T00:00:00",
          "2021-09-07T00:00:00",
          "2021-09-06T00:00:00",
          "2021-09-05T00:00:00",
          "2021-09-04T00:00:00",
          "2021-09-03T00:00:00",
          "2021-09-02T00:00:00",
          "2021-09-01T00:00:00",
          "2021-08-31T00:00:00",
          "2021-08-30T00:00:00",
          "2021-08-29T00:00:00",
          "2021-08-28T00:00:00",
          "2021-08-27T00:00:00",
          "2021-08-26T00:00:00",
          "2021-08-25T00:00:00",
          "2021-08-24T00:00:00",
          "2021-08-23T00:00:00",
          "2021-08-22T00:00:00",
          "2021-08-21T00:00:00",
          "2021-08-20T00:00:00",
          "2021-08-19T00:00:00",
          "2021-08-18T00:00:00",
          "2021-08-17T00:00:00",
          "2021-08-16T00:00:00",
          "2021-08-15T00:00:00",
          "2021-08-14T00:00:00",
          "2021-08-13T00:00:00",
          "2021-08-12T00:00:00",
          "2021-08-11T00:00:00",
          "2021-08-10T00:00:00",
          "2021-08-09T00:00:00",
          "2021-08-08T00:00:00",
          "2021-08-07T00:00:00",
          "2021-08-06T00:00:00",
          "2021-08-05T00:00:00",
          "2021-08-04T00:00:00",
          "2021-08-03T00:00:00",
          "2021-08-02T00:00:00",
          "2021-08-01T00:00:00",
          "2021-07-31T00:00:00",
          "2021-07-30T00:00:00",
          "2021-07-29T00:00:00",
          "2021-07-28T00:00:00",
          "2021-07-27T00:00:00",
          "2021-07-26T00:00:00",
          "2021-07-25T00:00:00",
          "2021-07-24T00:00:00",
          "2021-07-23T00:00:00",
          "2021-07-22T00:00:00",
          "2021-07-21T00:00:00",
          "2021-07-20T00:00:00",
          "2021-07-19T00:00:00",
          "2021-07-18T00:00:00",
          "2021-07-17T00:00:00",
          "2021-07-16T00:00:00",
          "2021-07-15T00:00:00",
          "2021-07-14T00:00:00",
          "2021-07-13T00:00:00",
          "2021-07-12T00:00:00",
          "2021-07-11T00:00:00",
          "2021-07-10T00:00:00",
          "2021-07-09T00:00:00",
          "2021-07-08T00:00:00",
          "2021-07-07T00:00:00",
          "2021-07-06T00:00:00",
          "2021-07-05T00:00:00",
          "2021-07-04T00:00:00",
          "2021-07-03T00:00:00",
          "2021-07-02T00:00:00",
          "2021-07-01T00:00:00",
          "2021-06-30T00:00:00",
          "2021-06-29T00:00:00",
          "2021-06-28T00:00:00",
          "2021-06-27T00:00:00",
          "2021-06-26T00:00:00",
          "2021-06-25T00:00:00",
          "2021-06-24T00:00:00",
          "2021-06-23T00:00:00",
          "2021-06-22T00:00:00",
          "2021-06-21T00:00:00",
          "2021-06-20T00:00:00",
          "2021-06-19T00:00:00",
          "2021-06-18T00:00:00",
          "2021-06-17T00:00:00",
          "2021-06-16T00:00:00",
          "2021-06-15T00:00:00",
          "2021-06-14T00:00:00",
          "2021-06-13T00:00:00",
          "2021-06-12T00:00:00",
          "2021-06-11T00:00:00",
          "2021-06-10T00:00:00",
          "2021-06-09T00:00:00",
          "2021-06-08T00:00:00",
          "2021-06-07T00:00:00",
          "2021-06-06T00:00:00",
          "2021-06-05T00:00:00",
          "2021-06-04T00:00:00",
          "2021-06-03T00:00:00",
          "2021-06-02T00:00:00",
          "2021-06-01T00:00:00",
          "2021-05-31T00:00:00",
          "2021-05-30T00:00:00",
          "2021-05-29T00:00:00",
          "2021-05-28T00:00:00",
          "2021-05-27T00:00:00",
          "2021-05-26T00:00:00",
          "2021-05-25T00:00:00",
          "2021-05-24T00:00:00",
          "2021-05-23T00:00:00",
          "2021-05-22T00:00:00",
          "2021-05-21T00:00:00",
          "2021-05-20T00:00:00",
          "2021-05-19T00:00:00",
          "2021-05-18T00:00:00",
          "2021-05-17T00:00:00",
          "2021-05-16T00:00:00",
          "2021-05-15T00:00:00",
          "2021-05-14T00:00:00",
          "2021-05-13T00:00:00",
          "2021-05-12T00:00:00",
          "2021-05-11T00:00:00",
          "2021-05-10T00:00:00",
          "2021-05-09T00:00:00",
          "2021-05-08T00:00:00",
          "2021-05-07T00:00:00",
          "2021-05-06T00:00:00",
          "2021-05-05T00:00:00",
          "2021-05-04T00:00:00",
          "2021-05-03T00:00:00",
          "2021-05-02T00:00:00",
          "2021-05-01T00:00:00",
          "2021-04-30T00:00:00",
          "2021-04-29T00:00:00",
          "2021-04-28T00:00:00",
          "2021-04-27T00:00:00",
          "2021-04-26T00:00:00",
          "2021-04-25T00:00:00",
          "2021-04-24T00:00:00",
          "2021-04-23T00:00:00",
          "2021-04-22T00:00:00",
          "2021-04-21T00:00:00",
          "2021-04-20T00:00:00",
          "2021-04-19T00:00:00",
          "2021-04-18T00:00:00",
          "2021-04-17T00:00:00",
          "2021-04-16T00:00:00",
          "2021-04-15T00:00:00",
          "2021-04-14T00:00:00",
          "2021-04-13T00:00:00",
          "2021-04-12T00:00:00",
          "2021-04-11T00:00:00",
          "2021-04-10T00:00:00",
          "2021-04-09T00:00:00",
          "2021-04-08T00:00:00",
          "2021-04-07T00:00:00",
          "2021-04-06T00:00:00",
          "2021-04-05T00:00:00",
          "2021-04-04T00:00:00",
          "2021-04-03T00:00:00",
          "2021-04-02T00:00:00",
          "2021-04-01T00:00:00",
          "2021-03-31T00:00:00",
          "2021-03-30T00:00:00",
          "2021-03-29T00:00:00",
          "2021-03-28T00:00:00",
          "2021-03-27T00:00:00",
          "2021-03-26T00:00:00",
          "2021-03-25T00:00:00",
          "2021-03-24T00:00:00",
          "2021-03-23T00:00:00",
          "2021-03-22T00:00:00",
          "2021-03-21T00:00:00",
          "2021-03-20T00:00:00",
          "2021-03-19T00:00:00",
          "2021-03-18T00:00:00",
          "2021-03-17T00:00:00",
          "2021-03-16T00:00:00",
          "2021-03-15T00:00:00",
          "2021-03-14T00:00:00",
          "2021-03-13T00:00:00",
          "2021-03-12T00:00:00",
          "2021-03-11T00:00:00",
          "2021-03-10T00:00:00",
          "2021-03-09T00:00:00",
          "2021-03-08T00:00:00",
          "2021-03-07T00:00:00",
          "2021-03-06T00:00:00",
          "2021-03-05T00:00:00",
          "2021-03-04T00:00:00",
          "2021-03-03T00:00:00",
          "2021-03-02T00:00:00",
          "2021-03-01T00:00:00",
          "2021-02-28T00:00:00",
          "2021-02-27T00:00:00",
          "2021-02-26T00:00:00",
          "2021-02-25T00:00:00",
          "2021-02-24T00:00:00",
          "2021-02-23T00:00:00",
          "2021-02-22T00:00:00",
          "2021-02-21T00:00:00",
          "2021-02-20T00:00:00",
          "2021-02-19T00:00:00",
          "2021-02-18T00:00:00",
          "2021-02-17T00:00:00",
          "2021-02-16T00:00:00",
          "2021-02-15T00:00:00",
          "2021-02-14T00:00:00",
          "2021-02-13T00:00:00",
          "2021-02-12T00:00:00",
          "2021-02-11T00:00:00",
          "2021-02-10T00:00:00",
          "2021-02-09T00:00:00",
          "2021-02-08T00:00:00",
          "2021-02-07T00:00:00",
          "2021-02-06T00:00:00",
          "2021-02-05T00:00:00",
          "2021-02-04T00:00:00",
          "2021-02-03T00:00:00",
          "2021-02-02T00:00:00",
          "2021-02-01T00:00:00",
          "2021-01-31T00:00:00",
          "2021-01-30T00:00:00",
          "2021-01-29T00:00:00",
          "2021-01-28T00:00:00",
          "2021-01-27T00:00:00",
          "2021-01-26T00:00:00",
          "2021-01-25T00:00:00",
          "2021-01-24T00:00:00",
          "2021-01-23T00:00:00",
          "2021-01-22T00:00:00",
          "2021-01-21T00:00:00",
          "2021-01-20T00:00:00",
          "2021-01-19T00:00:00",
          "2021-01-18T00:00:00",
          "2021-01-17T00:00:00",
          "2021-01-16T00:00:00",
          "2021-01-15T00:00:00",
          "2021-01-14T00:00:00",
          "2021-01-13T00:00:00",
          "2021-01-12T00:00:00",
          "2021-01-11T00:00:00",
          "2021-01-10T00:00:00"
         ],
         "xaxis": "x",
         "y": [
          6777,
          6592,
          6437,
          6590,
          6763,
          6912,
          7029,
          7048,
          6816,
          6956,
          6914,
          7165,
          7415,
          7625,
          7797,
          7745,
          7695,
          7906,
          8111,
          8395,
          8391,
          8470,
          8247,
          8137,
          8309,
          8138,
          8129,
          7974,
          8032,
          7747,
          7551,
          7667,
          7618,
          7677,
          7675,
          7336,
          7107,
          6976,
          7081,
          7029,
          6983,
          6959,
          7017,
          6746,
          6528,
          6517,
          6507,
          6464,
          6406,
          6382,
          6045,
          5882,
          5984,
          5956,
          6002,
          6018,
          6016,
          5855,
          5701,
          5750,
          5753,
          5790,
          6004,
          6213,
          5980,
          5956,
          6017,
          5985,
          6106,
          6095,
          6003,
          5646,
          5377,
          5310,
          5099,
          4927,
          4739,
          4648,
          4344,
          4228,
          4148,
          4035,
          3854,
          3671,
          3456,
          3180,
          3034,
          2937,
          2766,
          2679,
          2484,
          2362,
          2176,
          2056,
          2012,
          1934,
          1824,
          1746,
          1743,
          1605,
          1544,
          1537,
          1516,
          1495,
          1541,
          1518,
          1384,
          1349,
          1364,
          1322,
          1257,
          1232,
          1181,
          1140,
          1105,
          1076,
          1095,
          1064,
          1057,
          1035,
          964,
          938,
          965,
          938,
          961,
          930,
          929,
          907,
          887,
          886,
          872,
          895,
          921,
          960,
          924,
          887,
          922,
          912,
          918,
          898,
          943,
          941,
          966,
          976,
          1001,
          1068,
          1106,
          1129,
          1118,
          1137,
          1157,
          1159,
          1238,
          1295,
          1303,
          1285,
          1287,
          1366,
          1464,
          1515,
          1572,
          1649,
          1626,
          1673,
          1749,
          1791,
          1893,
          1926,
          2007,
          1983,
          2035,
          2140,
          2195,
          2295,
          2408,
          2492,
          2549,
          2650,
          2793,
          2872,
          3019,
          3143,
          3255,
          3229,
          3244,
          3376,
          3557,
          3742,
          3976,
          4197,
          4185,
          4436,
          4485,
          4583,
          4880,
          5150,
          5431,
          5448,
          5567,
          5880,
          6150,
          6585,
          6847,
          7207,
          7315,
          7384,
          7728,
          8066,
          8436,
          9009,
          9474,
          9459,
          9711,
          10312,
          10933,
          11523,
          12139,
          12894,
          12788,
          13269,
          14077,
          14849,
          15534,
          16115,
          16855,
          16857,
          17042,
          17860,
          18522,
          19449,
          20215,
          20994,
          21054,
          20970,
          22324,
          23411,
          24417,
          25689,
          26744,
          26800,
          26914,
          28383,
          29413,
          30604,
          31766,
          32960,
          32586,
          33015,
          33847,
          34909,
          35513,
          37101,
          37756,
          37730,
          37398,
          38257,
          38059,
          38739,
          38846,
          39254,
          38169,
          37715,
          38132,
          37691,
          37487,
          36981,
          36751,
          35391
         ],
         "yaxis": "y"
        }
       ],
       "layout": {
        "legend": {
         "tracegroupgap": 0
        },
        "template": {
         "data": {
          "bar": [
           {
            "error_x": {
             "color": "#2a3f5f"
            },
            "error_y": {
             "color": "#2a3f5f"
            },
            "marker": {
             "line": {
              "color": "#E5ECF6",
              "width": 0.5
             },
             "pattern": {
              "fillmode": "overlay",
              "size": 10,
              "solidity": 0.2
             }
            },
            "type": "bar"
           }
          ],
          "barpolar": [
           {
            "marker": {
             "line": {
              "color": "#E5ECF6",
              "width": 0.5
             },
             "pattern": {
              "fillmode": "overlay",
              "size": 10,
              "solidity": 0.2
             }
            },
            "type": "barpolar"
           }
          ],
          "carpet": [
           {
            "aaxis": {
             "endlinecolor": "#2a3f5f",
             "gridcolor": "white",
             "linecolor": "white",
             "minorgridcolor": "white",
             "startlinecolor": "#2a3f5f"
            },
            "baxis": {
             "endlinecolor": "#2a3f5f",
             "gridcolor": "white",
             "linecolor": "white",
             "minorgridcolor": "white",
             "startlinecolor": "#2a3f5f"
            },
            "type": "carpet"
           }
          ],
          "choropleth": [
           {
            "colorbar": {
             "outlinewidth": 0,
             "ticks": ""
            },
            "type": "choropleth"
           }
          ],
          "contour": [
           {
            "colorbar": {
             "outlinewidth": 0,
             "ticks": ""
            },
            "colorscale": [
             [
              0,
              "#0d0887"
             ],
             [
              0.1111111111111111,
              "#46039f"
             ],
             [
              0.2222222222222222,
              "#7201a8"
             ],
             [
              0.3333333333333333,
              "#9c179e"
             ],
             [
              0.4444444444444444,
              "#bd3786"
             ],
             [
              0.5555555555555556,
              "#d8576b"
             ],
             [
              0.6666666666666666,
              "#ed7953"
             ],
             [
              0.7777777777777778,
              "#fb9f3a"
             ],
             [
              0.8888888888888888,
              "#fdca26"
             ],
             [
              1,
              "#f0f921"
             ]
            ],
            "type": "contour"
           }
          ],
          "contourcarpet": [
           {
            "colorbar": {
             "outlinewidth": 0,
             "ticks": ""
            },
            "type": "contourcarpet"
           }
          ],
          "heatmap": [
           {
            "colorbar": {
             "outlinewidth": 0,
             "ticks": ""
            },
            "colorscale": [
             [
              0,
              "#0d0887"
             ],
             [
              0.1111111111111111,
              "#46039f"
             ],
             [
              0.2222222222222222,
              "#7201a8"
             ],
             [
              0.3333333333333333,
              "#9c179e"
             ],
             [
              0.4444444444444444,
              "#bd3786"
             ],
             [
              0.5555555555555556,
              "#d8576b"
             ],
             [
              0.6666666666666666,
              "#ed7953"
             ],
             [
              0.7777777777777778,
              "#fb9f3a"
             ],
             [
              0.8888888888888888,
              "#fdca26"
             ],
             [
              1,
              "#f0f921"
             ]
            ],
            "type": "heatmap"
           }
          ],
          "heatmapgl": [
           {
            "colorbar": {
             "outlinewidth": 0,
             "ticks": ""
            },
            "colorscale": [
             [
              0,
              "#0d0887"
             ],
             [
              0.1111111111111111,
              "#46039f"
             ],
             [
              0.2222222222222222,
              "#7201a8"
             ],
             [
              0.3333333333333333,
              "#9c179e"
             ],
             [
              0.4444444444444444,
              "#bd3786"
             ],
             [
              0.5555555555555556,
              "#d8576b"
             ],
             [
              0.6666666666666666,
              "#ed7953"
             ],
             [
              0.7777777777777778,
              "#fb9f3a"
             ],
             [
              0.8888888888888888,
              "#fdca26"
             ],
             [
              1,
              "#f0f921"
             ]
            ],
            "type": "heatmapgl"
           }
          ],
          "histogram": [
           {
            "marker": {
             "pattern": {
              "fillmode": "overlay",
              "size": 10,
              "solidity": 0.2
             }
            },
            "type": "histogram"
           }
          ],
          "histogram2d": [
           {
            "colorbar": {
             "outlinewidth": 0,
             "ticks": ""
            },
            "colorscale": [
             [
              0,
              "#0d0887"
             ],
             [
              0.1111111111111111,
              "#46039f"
             ],
             [
              0.2222222222222222,
              "#7201a8"
             ],
             [
              0.3333333333333333,
              "#9c179e"
             ],
             [
              0.4444444444444444,
              "#bd3786"
             ],
             [
              0.5555555555555556,
              "#d8576b"
             ],
             [
              0.6666666666666666,
              "#ed7953"
             ],
             [
              0.7777777777777778,
              "#fb9f3a"
             ],
             [
              0.8888888888888888,
              "#fdca26"
             ],
             [
              1,
              "#f0f921"
             ]
            ],
            "type": "histogram2d"
           }
          ],
          "histogram2dcontour": [
           {
            "colorbar": {
             "outlinewidth": 0,
             "ticks": ""
            },
            "colorscale": [
             [
              0,
              "#0d0887"
             ],
             [
              0.1111111111111111,
              "#46039f"
             ],
             [
              0.2222222222222222,
              "#7201a8"
             ],
             [
              0.3333333333333333,
              "#9c179e"
             ],
             [
              0.4444444444444444,
              "#bd3786"
             ],
             [
              0.5555555555555556,
              "#d8576b"
             ],
             [
              0.6666666666666666,
              "#ed7953"
             ],
             [
              0.7777777777777778,
              "#fb9f3a"
             ],
             [
              0.8888888888888888,
              "#fdca26"
             ],
             [
              1,
              "#f0f921"
             ]
            ],
            "type": "histogram2dcontour"
           }
          ],
          "mesh3d": [
           {
            "colorbar": {
             "outlinewidth": 0,
             "ticks": ""
            },
            "type": "mesh3d"
           }
          ],
          "parcoords": [
           {
            "line": {
             "colorbar": {
              "outlinewidth": 0,
              "ticks": ""
             }
            },
            "type": "parcoords"
           }
          ],
          "pie": [
           {
            "automargin": true,
            "type": "pie"
           }
          ],
          "scatter": [
           {
            "marker": {
             "colorbar": {
              "outlinewidth": 0,
              "ticks": ""
             }
            },
            "type": "scatter"
           }
          ],
          "scatter3d": [
           {
            "line": {
             "colorbar": {
              "outlinewidth": 0,
              "ticks": ""
             }
            },
            "marker": {
             "colorbar": {
              "outlinewidth": 0,
              "ticks": ""
             }
            },
            "type": "scatter3d"
           }
          ],
          "scattercarpet": [
           {
            "marker": {
             "colorbar": {
              "outlinewidth": 0,
              "ticks": ""
             }
            },
            "type": "scattercarpet"
           }
          ],
          "scattergeo": [
           {
            "marker": {
             "colorbar": {
              "outlinewidth": 0,
              "ticks": ""
             }
            },
            "type": "scattergeo"
           }
          ],
          "scattergl": [
           {
            "marker": {
             "colorbar": {
              "outlinewidth": 0,
              "ticks": ""
             }
            },
            "type": "scattergl"
           }
          ],
          "scattermapbox": [
           {
            "marker": {
             "colorbar": {
              "outlinewidth": 0,
              "ticks": ""
             }
            },
            "type": "scattermapbox"
           }
          ],
          "scatterpolar": [
           {
            "marker": {
             "colorbar": {
              "outlinewidth": 0,
              "ticks": ""
             }
            },
            "type": "scatterpolar"
           }
          ],
          "scatterpolargl": [
           {
            "marker": {
             "colorbar": {
              "outlinewidth": 0,
              "ticks": ""
             }
            },
            "type": "scatterpolargl"
           }
          ],
          "scatterternary": [
           {
            "marker": {
             "colorbar": {
              "outlinewidth": 0,
              "ticks": ""
             }
            },
            "type": "scatterternary"
           }
          ],
          "surface": [
           {
            "colorbar": {
             "outlinewidth": 0,
             "ticks": ""
            },
            "colorscale": [
             [
              0,
              "#0d0887"
             ],
             [
              0.1111111111111111,
              "#46039f"
             ],
             [
              0.2222222222222222,
              "#7201a8"
             ],
             [
              0.3333333333333333,
              "#9c179e"
             ],
             [
              0.4444444444444444,
              "#bd3786"
             ],
             [
              0.5555555555555556,
              "#d8576b"
             ],
             [
              0.6666666666666666,
              "#ed7953"
             ],
             [
              0.7777777777777778,
              "#fb9f3a"
             ],
             [
              0.8888888888888888,
              "#fdca26"
             ],
             [
              1,
              "#f0f921"
             ]
            ],
            "type": "surface"
           }
          ],
          "table": [
           {
            "cells": {
             "fill": {
              "color": "#EBF0F8"
             },
             "line": {
              "color": "white"
             }
            },
            "header": {
             "fill": {
              "color": "#C8D4E3"
             },
             "line": {
              "color": "white"
             }
            },
            "type": "table"
           }
          ]
         },
         "layout": {
          "annotationdefaults": {
           "arrowcolor": "#2a3f5f",
           "arrowhead": 0,
           "arrowwidth": 1
          },
          "autotypenumbers": "strict",
          "coloraxis": {
           "colorbar": {
            "outlinewidth": 0,
            "ticks": ""
           }
          },
          "colorscale": {
           "diverging": [
            [
             0,
             "#8e0152"
            ],
            [
             0.1,
             "#c51b7d"
            ],
            [
             0.2,
             "#de77ae"
            ],
            [
             0.3,
             "#f1b6da"
            ],
            [
             0.4,
             "#fde0ef"
            ],
            [
             0.5,
             "#f7f7f7"
            ],
            [
             0.6,
             "#e6f5d0"
            ],
            [
             0.7,
             "#b8e186"
            ],
            [
             0.8,
             "#7fbc41"
            ],
            [
             0.9,
             "#4d9221"
            ],
            [
             1,
             "#276419"
            ]
           ],
           "sequential": [
            [
             0,
             "#0d0887"
            ],
            [
             0.1111111111111111,
             "#46039f"
            ],
            [
             0.2222222222222222,
             "#7201a8"
            ],
            [
             0.3333333333333333,
             "#9c179e"
            ],
            [
             0.4444444444444444,
             "#bd3786"
            ],
            [
             0.5555555555555556,
             "#d8576b"
            ],
            [
             0.6666666666666666,
             "#ed7953"
            ],
            [
             0.7777777777777778,
             "#fb9f3a"
            ],
            [
             0.8888888888888888,
             "#fdca26"
            ],
            [
             1,
             "#f0f921"
            ]
           ],
           "sequentialminus": [
            [
             0,
             "#0d0887"
            ],
            [
             0.1111111111111111,
             "#46039f"
            ],
            [
             0.2222222222222222,
             "#7201a8"
            ],
            [
             0.3333333333333333,
             "#9c179e"
            ],
            [
             0.4444444444444444,
             "#bd3786"
            ],
            [
             0.5555555555555556,
             "#d8576b"
            ],
            [
             0.6666666666666666,
             "#ed7953"
            ],
            [
             0.7777777777777778,
             "#fb9f3a"
            ],
            [
             0.8888888888888888,
             "#fdca26"
            ],
            [
             1,
             "#f0f921"
            ]
           ]
          },
          "colorway": [
           "#636efa",
           "#EF553B",
           "#00cc96",
           "#ab63fa",
           "#FFA15A",
           "#19d3f3",
           "#FF6692",
           "#B6E880",
           "#FF97FF",
           "#FECB52"
          ],
          "font": {
           "color": "#2a3f5f"
          },
          "geo": {
           "bgcolor": "white",
           "lakecolor": "white",
           "landcolor": "#E5ECF6",
           "showlakes": true,
           "showland": true,
           "subunitcolor": "white"
          },
          "hoverlabel": {
           "align": "left"
          },
          "hovermode": "closest",
          "mapbox": {
           "style": "light"
          },
          "paper_bgcolor": "white",
          "plot_bgcolor": "#E5ECF6",
          "polar": {
           "angularaxis": {
            "gridcolor": "white",
            "linecolor": "white",
            "ticks": ""
           },
           "bgcolor": "#E5ECF6",
           "radialaxis": {
            "gridcolor": "white",
            "linecolor": "white",
            "ticks": ""
           }
          },
          "scene": {
           "xaxis": {
            "backgroundcolor": "#E5ECF6",
            "gridcolor": "white",
            "gridwidth": 2,
            "linecolor": "white",
            "showbackground": true,
            "ticks": "",
            "zerolinecolor": "white"
           },
           "yaxis": {
            "backgroundcolor": "#E5ECF6",
            "gridcolor": "white",
            "gridwidth": 2,
            "linecolor": "white",
            "showbackground": true,
            "ticks": "",
            "zerolinecolor": "white"
           },
           "zaxis": {
            "backgroundcolor": "#E5ECF6",
            "gridcolor": "white",
            "gridwidth": 2,
            "linecolor": "white",
            "showbackground": true,
            "ticks": "",
            "zerolinecolor": "white"
           }
          },
          "shapedefaults": {
           "line": {
            "color": "#2a3f5f"
           }
          },
          "ternary": {
           "aaxis": {
            "gridcolor": "white",
            "linecolor": "white",
            "ticks": ""
           },
           "baxis": {
            "gridcolor": "white",
            "linecolor": "white",
            "ticks": ""
           },
           "bgcolor": "#E5ECF6",
           "caxis": {
            "gridcolor": "white",
            "linecolor": "white",
            "ticks": ""
           }
          },
          "title": {
           "x": 0.05
          },
          "xaxis": {
           "automargin": true,
           "gridcolor": "white",
           "linecolor": "white",
           "ticks": "",
           "title": {
            "standoff": 15
           },
           "zerolinecolor": "white",
           "zerolinewidth": 2
          },
          "yaxis": {
           "automargin": true,
           "gridcolor": "white",
           "linecolor": "white",
           "ticks": "",
           "title": {
            "standoff": 15
           },
           "zerolinecolor": "white",
           "zerolinewidth": 2
          }
         }
        },
        "title": {
         "text": "hospitalCases"
        },
        "xaxis": {
         "anchor": "y",
         "domain": [
          0,
          1
         ],
         "title": {
          "text": "date"
         }
        },
        "yaxis": {
         "anchor": "x",
         "domain": [
          0,
          1
         ],
         "title": {
          "text": "hospitalCases"
         }
        }
       }
      }
     },
     "metadata": {}
    },
    {
     "output_type": "display_data",
     "data": {
      "application/vnd.plotly.v1+json": {
       "config": {
        "plotlyServerURL": "https://plot.ly"
       },
       "data": [
        {
         "hovertemplate": "date=%{x}<br>newCasesByPublishDate=%{y}<extra></extra>",
         "legendgroup": "",
         "line": {
          "color": "#636efa",
          "dash": "solid"
         },
         "marker": {
          "symbol": "circle"
         },
         "mode": "lines",
         "name": "",
         "orientation": "v",
         "showlegend": false,
         "type": "scatter",
         "x": [
          "2021-10-04T00:00:00",
          "2021-10-03T00:00:00",
          "2021-10-02T00:00:00",
          "2021-10-01T00:00:00",
          "2021-09-30T00:00:00",
          "2021-09-29T00:00:00",
          "2021-09-28T00:00:00",
          "2021-09-27T00:00:00",
          "2021-09-26T00:00:00",
          "2021-09-25T00:00:00",
          "2021-09-24T00:00:00",
          "2021-09-23T00:00:00",
          "2021-09-22T00:00:00",
          "2021-09-21T00:00:00",
          "2021-09-20T00:00:00",
          "2021-09-19T00:00:00",
          "2021-09-18T00:00:00",
          "2021-09-17T00:00:00",
          "2021-09-16T00:00:00",
          "2021-09-15T00:00:00",
          "2021-09-14T00:00:00",
          "2021-09-13T00:00:00",
          "2021-09-12T00:00:00",
          "2021-09-11T00:00:00",
          "2021-09-10T00:00:00",
          "2021-09-09T00:00:00",
          "2021-09-08T00:00:00",
          "2021-09-07T00:00:00",
          "2021-09-06T00:00:00",
          "2021-09-05T00:00:00",
          "2021-09-04T00:00:00",
          "2021-09-03T00:00:00",
          "2021-09-02T00:00:00",
          "2021-09-01T00:00:00",
          "2021-08-31T00:00:00",
          "2021-08-30T00:00:00",
          "2021-08-29T00:00:00",
          "2021-08-28T00:00:00",
          "2021-08-27T00:00:00",
          "2021-08-26T00:00:00",
          "2021-08-25T00:00:00",
          "2021-08-24T00:00:00",
          "2021-08-23T00:00:00",
          "2021-08-22T00:00:00",
          "2021-08-21T00:00:00",
          "2021-08-20T00:00:00",
          "2021-08-19T00:00:00",
          "2021-08-18T00:00:00",
          "2021-08-17T00:00:00",
          "2021-08-16T00:00:00",
          "2021-08-15T00:00:00",
          "2021-08-14T00:00:00",
          "2021-08-13T00:00:00",
          "2021-08-12T00:00:00",
          "2021-08-11T00:00:00",
          "2021-08-10T00:00:00",
          "2021-08-09T00:00:00",
          "2021-08-08T00:00:00",
          "2021-08-07T00:00:00",
          "2021-08-06T00:00:00",
          "2021-08-05T00:00:00",
          "2021-08-04T00:00:00",
          "2021-08-03T00:00:00",
          "2021-08-02T00:00:00",
          "2021-08-01T00:00:00",
          "2021-07-31T00:00:00",
          "2021-07-30T00:00:00",
          "2021-07-29T00:00:00",
          "2021-07-28T00:00:00",
          "2021-07-27T00:00:00",
          "2021-07-26T00:00:00",
          "2021-07-25T00:00:00",
          "2021-07-24T00:00:00",
          "2021-07-23T00:00:00",
          "2021-07-22T00:00:00",
          "2021-07-21T00:00:00",
          "2021-07-20T00:00:00",
          "2021-07-19T00:00:00",
          "2021-07-18T00:00:00",
          "2021-07-17T00:00:00",
          "2021-07-16T00:00:00",
          "2021-07-15T00:00:00",
          "2021-07-14T00:00:00",
          "2021-07-13T00:00:00",
          "2021-07-12T00:00:00",
          "2021-07-11T00:00:00",
          "2021-07-10T00:00:00",
          "2021-07-09T00:00:00",
          "2021-07-08T00:00:00",
          "2021-07-07T00:00:00",
          "2021-07-06T00:00:00",
          "2021-07-05T00:00:00",
          "2021-07-04T00:00:00",
          "2021-07-03T00:00:00",
          "2021-07-02T00:00:00",
          "2021-07-01T00:00:00",
          "2021-06-30T00:00:00",
          "2021-06-29T00:00:00",
          "2021-06-28T00:00:00",
          "2021-06-27T00:00:00",
          "2021-06-26T00:00:00",
          "2021-06-25T00:00:00",
          "2021-06-24T00:00:00",
          "2021-06-23T00:00:00",
          "2021-06-22T00:00:00",
          "2021-06-21T00:00:00",
          "2021-06-20T00:00:00",
          "2021-06-19T00:00:00",
          "2021-06-18T00:00:00",
          "2021-06-17T00:00:00",
          "2021-06-16T00:00:00",
          "2021-06-15T00:00:00",
          "2021-06-14T00:00:00",
          "2021-06-13T00:00:00",
          "2021-06-12T00:00:00",
          "2021-06-11T00:00:00",
          "2021-06-10T00:00:00",
          "2021-06-09T00:00:00",
          "2021-06-08T00:00:00",
          "2021-06-07T00:00:00",
          "2021-06-06T00:00:00",
          "2021-06-05T00:00:00",
          "2021-06-04T00:00:00",
          "2021-06-03T00:00:00",
          "2021-06-02T00:00:00",
          "2021-06-01T00:00:00",
          "2021-05-31T00:00:00",
          "2021-05-30T00:00:00",
          "2021-05-29T00:00:00",
          "2021-05-28T00:00:00",
          "2021-05-27T00:00:00",
          "2021-05-26T00:00:00",
          "2021-05-25T00:00:00",
          "2021-05-24T00:00:00",
          "2021-05-23T00:00:00",
          "2021-05-22T00:00:00",
          "2021-05-21T00:00:00",
          "2021-05-20T00:00:00",
          "2021-05-19T00:00:00",
          "2021-05-18T00:00:00",
          "2021-05-17T00:00:00",
          "2021-05-16T00:00:00",
          "2021-05-15T00:00:00",
          "2021-05-14T00:00:00",
          "2021-05-13T00:00:00",
          "2021-05-12T00:00:00",
          "2021-05-11T00:00:00",
          "2021-05-10T00:00:00",
          "2021-05-09T00:00:00",
          "2021-05-08T00:00:00",
          "2021-05-07T00:00:00",
          "2021-05-06T00:00:00",
          "2021-05-05T00:00:00",
          "2021-05-04T00:00:00",
          "2021-05-03T00:00:00",
          "2021-05-02T00:00:00",
          "2021-05-01T00:00:00",
          "2021-04-30T00:00:00",
          "2021-04-29T00:00:00",
          "2021-04-28T00:00:00",
          "2021-04-27T00:00:00",
          "2021-04-26T00:00:00",
          "2021-04-25T00:00:00",
          "2021-04-24T00:00:00",
          "2021-04-23T00:00:00",
          "2021-04-22T00:00:00",
          "2021-04-21T00:00:00",
          "2021-04-20T00:00:00",
          "2021-04-19T00:00:00",
          "2021-04-18T00:00:00",
          "2021-04-17T00:00:00",
          "2021-04-16T00:00:00",
          "2021-04-15T00:00:00",
          "2021-04-14T00:00:00",
          "2021-04-13T00:00:00",
          "2021-04-12T00:00:00",
          "2021-04-11T00:00:00",
          "2021-04-10T00:00:00",
          "2021-04-09T00:00:00",
          "2021-04-08T00:00:00",
          "2021-04-07T00:00:00",
          "2021-04-06T00:00:00",
          "2021-04-05T00:00:00",
          "2021-04-04T00:00:00",
          "2021-04-03T00:00:00",
          "2021-04-02T00:00:00",
          "2021-04-01T00:00:00",
          "2021-03-31T00:00:00",
          "2021-03-30T00:00:00",
          "2021-03-29T00:00:00",
          "2021-03-28T00:00:00",
          "2021-03-27T00:00:00",
          "2021-03-26T00:00:00",
          "2021-03-25T00:00:00",
          "2021-03-24T00:00:00",
          "2021-03-23T00:00:00",
          "2021-03-22T00:00:00",
          "2021-03-21T00:00:00",
          "2021-03-20T00:00:00",
          "2021-03-19T00:00:00",
          "2021-03-18T00:00:00",
          "2021-03-17T00:00:00",
          "2021-03-16T00:00:00",
          "2021-03-15T00:00:00",
          "2021-03-14T00:00:00",
          "2021-03-13T00:00:00",
          "2021-03-12T00:00:00",
          "2021-03-11T00:00:00",
          "2021-03-10T00:00:00",
          "2021-03-09T00:00:00",
          "2021-03-08T00:00:00",
          "2021-03-07T00:00:00",
          "2021-03-06T00:00:00",
          "2021-03-05T00:00:00",
          "2021-03-04T00:00:00",
          "2021-03-03T00:00:00",
          "2021-03-02T00:00:00",
          "2021-03-01T00:00:00",
          "2021-02-28T00:00:00",
          "2021-02-27T00:00:00",
          "2021-02-26T00:00:00",
          "2021-02-25T00:00:00",
          "2021-02-24T00:00:00",
          "2021-02-23T00:00:00",
          "2021-02-22T00:00:00",
          "2021-02-21T00:00:00",
          "2021-02-20T00:00:00",
          "2021-02-19T00:00:00",
          "2021-02-18T00:00:00",
          "2021-02-17T00:00:00",
          "2021-02-16T00:00:00",
          "2021-02-15T00:00:00",
          "2021-02-14T00:00:00",
          "2021-02-13T00:00:00",
          "2021-02-12T00:00:00",
          "2021-02-11T00:00:00",
          "2021-02-10T00:00:00",
          "2021-02-09T00:00:00",
          "2021-02-08T00:00:00",
          "2021-02-07T00:00:00",
          "2021-02-06T00:00:00",
          "2021-02-05T00:00:00",
          "2021-02-04T00:00:00",
          "2021-02-03T00:00:00",
          "2021-02-02T00:00:00",
          "2021-02-01T00:00:00",
          "2021-01-31T00:00:00",
          "2021-01-30T00:00:00",
          "2021-01-29T00:00:00",
          "2021-01-28T00:00:00",
          "2021-01-27T00:00:00",
          "2021-01-26T00:00:00",
          "2021-01-25T00:00:00",
          "2021-01-24T00:00:00",
          "2021-01-23T00:00:00",
          "2021-01-22T00:00:00",
          "2021-01-21T00:00:00",
          "2021-01-20T00:00:00",
          "2021-01-19T00:00:00",
          "2021-01-18T00:00:00",
          "2021-01-17T00:00:00",
          "2021-01-16T00:00:00",
          "2021-01-15T00:00:00",
          "2021-01-14T00:00:00",
          "2021-01-13T00:00:00",
          "2021-01-12T00:00:00",
          "2021-01-11T00:00:00",
          "2021-01-10T00:00:00"
         ],
         "xaxis": "x",
         "y": [
          35077,
          30439,
          30301,
          35577,
          36480,
          36722,
          34526,
          37960,
          32417,
          32468,
          35623,
          36710,
          34460,
          31564,
          36100,
          29612,
          30144,
          32651,
          26911,
          30597,
          26628,
          30825,
          29173,
          29547,
          37622,
          38013,
          38975,
          37489,
          41192,
          37011,
          37578,
          42076,
          38154,
          35693,
          32181,
          26476,
          33196,
          32406,
          38046,
          38281,
          35847,
          30838,
          31914,
          32253,
          32058,
          37314,
          36572,
          33904,
          26852,
          28438,
          26750,
          29520,
          32700,
          33074,
          29612,
          23510,
          25161,
          27429,
          28612,
          31808,
          30215,
          29312,
          21691,
          21952,
          24470,
          26144,
          29622,
          31117,
          27734,
          23511,
          24950,
          29173,
          31795,
          36389,
          39906,
          44104,
          46558,
          39950,
          48161,
          54674,
          51870,
          48553,
          42302,
          36660,
          34471,
          31772,
          32367,
          35707,
          32551,
          32548,
          28773,
          27334,
          24248,
          24885,
          27125,
          27989,
          26068,
          20479,
          22868,
          14876,
          18270,
          15810,
          16703,
          16135,
          11625,
          10633,
          9284,
          10321,
          10476,
          11007,
          9055,
          7673,
          7742,
          7490,
          7738,
          8125,
          7393,
          7540,
          6048,
          5683,
          5341,
          5765,
          6238,
          5274,
          4330,
          3165,
          3383,
          3240,
          3398,
          4182,
          3542,
          3180,
          2493,
          2439,
          2235,
          2694,
          2829,
          2874,
          2696,
          2412,
          1979,
          1926,
          2027,
          2193,
          2657,
          2284,
          2474,
          2357,
          1770,
          2047,
          2490,
          2613,
          2144,
          1946,
          1649,
          1671,
          1907,
          2381,
          2445,
          2166,
          2685,
          2064,
          1712,
          2061,
          2678,
          2729,
          2396,
          2524,
          2963,
          1882,
          2206,
          2596,
          2672,
          2491,
          2472,
          3568,
          1730,
          2589,
          3150,
          3030,
          2763,
          2379,
          2762,
          2297,
          3423,
          3402,
          4479,
          4052,
          4040,
          4654,
          3862,
          4715,
          6187,
          6397,
          5605,
          5379,
          5342,
          5312,
          5587,
          4802,
          6303,
          5758,
          5294,
          5089,
          4618,
          5534,
          6609,
          6753,
          5926,
          5766,
          4712,
          5177,
          6040,
          5947,
          6573,
          6385,
          6391,
          5455,
          6035,
          7434,
          8523,
          9985,
          9938,
          8489,
          10641,
          9834,
          10406,
          12027,
          12057,
          12718,
          10625,
          9765,
          10972,
          13308,
          15144,
          13494,
          13013,
          12364,
          14104,
          15845,
          18262,
          19114,
          20634,
          19202,
          16840,
          18607,
          21088,
          23275,
          29079,
          28680,
          25308,
          20089,
          22195,
          30004,
          33552,
          40261,
          37892,
          38905,
          33355,
          37535,
          38598,
          41346,
          55761,
          48682,
          47525,
          45533,
          46169,
          54940
         ],
         "yaxis": "y"
        }
       ],
       "layout": {
        "legend": {
         "tracegroupgap": 0
        },
        "template": {
         "data": {
          "bar": [
           {
            "error_x": {
             "color": "#2a3f5f"
            },
            "error_y": {
             "color": "#2a3f5f"
            },
            "marker": {
             "line": {
              "color": "#E5ECF6",
              "width": 0.5
             },
             "pattern": {
              "fillmode": "overlay",
              "size": 10,
              "solidity": 0.2
             }
            },
            "type": "bar"
           }
          ],
          "barpolar": [
           {
            "marker": {
             "line": {
              "color": "#E5ECF6",
              "width": 0.5
             },
             "pattern": {
              "fillmode": "overlay",
              "size": 10,
              "solidity": 0.2
             }
            },
            "type": "barpolar"
           }
          ],
          "carpet": [
           {
            "aaxis": {
             "endlinecolor": "#2a3f5f",
             "gridcolor": "white",
             "linecolor": "white",
             "minorgridcolor": "white",
             "startlinecolor": "#2a3f5f"
            },
            "baxis": {
             "endlinecolor": "#2a3f5f",
             "gridcolor": "white",
             "linecolor": "white",
             "minorgridcolor": "white",
             "startlinecolor": "#2a3f5f"
            },
            "type": "carpet"
           }
          ],
          "choropleth": [
           {
            "colorbar": {
             "outlinewidth": 0,
             "ticks": ""
            },
            "type": "choropleth"
           }
          ],
          "contour": [
           {
            "colorbar": {
             "outlinewidth": 0,
             "ticks": ""
            },
            "colorscale": [
             [
              0,
              "#0d0887"
             ],
             [
              0.1111111111111111,
              "#46039f"
             ],
             [
              0.2222222222222222,
              "#7201a8"
             ],
             [
              0.3333333333333333,
              "#9c179e"
             ],
             [
              0.4444444444444444,
              "#bd3786"
             ],
             [
              0.5555555555555556,
              "#d8576b"
             ],
             [
              0.6666666666666666,
              "#ed7953"
             ],
             [
              0.7777777777777778,
              "#fb9f3a"
             ],
             [
              0.8888888888888888,
              "#fdca26"
             ],
             [
              1,
              "#f0f921"
             ]
            ],
            "type": "contour"
           }
          ],
          "contourcarpet": [
           {
            "colorbar": {
             "outlinewidth": 0,
             "ticks": ""
            },
            "type": "contourcarpet"
           }
          ],
          "heatmap": [
           {
            "colorbar": {
             "outlinewidth": 0,
             "ticks": ""
            },
            "colorscale": [
             [
              0,
              "#0d0887"
             ],
             [
              0.1111111111111111,
              "#46039f"
             ],
             [
              0.2222222222222222,
              "#7201a8"
             ],
             [
              0.3333333333333333,
              "#9c179e"
             ],
             [
              0.4444444444444444,
              "#bd3786"
             ],
             [
              0.5555555555555556,
              "#d8576b"
             ],
             [
              0.6666666666666666,
              "#ed7953"
             ],
             [
              0.7777777777777778,
              "#fb9f3a"
             ],
             [
              0.8888888888888888,
              "#fdca26"
             ],
             [
              1,
              "#f0f921"
             ]
            ],
            "type": "heatmap"
           }
          ],
          "heatmapgl": [
           {
            "colorbar": {
             "outlinewidth": 0,
             "ticks": ""
            },
            "colorscale": [
             [
              0,
              "#0d0887"
             ],
             [
              0.1111111111111111,
              "#46039f"
             ],
             [
              0.2222222222222222,
              "#7201a8"
             ],
             [
              0.3333333333333333,
              "#9c179e"
             ],
             [
              0.4444444444444444,
              "#bd3786"
             ],
             [
              0.5555555555555556,
              "#d8576b"
             ],
             [
              0.6666666666666666,
              "#ed7953"
             ],
             [
              0.7777777777777778,
              "#fb9f3a"
             ],
             [
              0.8888888888888888,
              "#fdca26"
             ],
             [
              1,
              "#f0f921"
             ]
            ],
            "type": "heatmapgl"
           }
          ],
          "histogram": [
           {
            "marker": {
             "pattern": {
              "fillmode": "overlay",
              "size": 10,
              "solidity": 0.2
             }
            },
            "type": "histogram"
           }
          ],
          "histogram2d": [
           {
            "colorbar": {
             "outlinewidth": 0,
             "ticks": ""
            },
            "colorscale": [
             [
              0,
              "#0d0887"
             ],
             [
              0.1111111111111111,
              "#46039f"
             ],
             [
              0.2222222222222222,
              "#7201a8"
             ],
             [
              0.3333333333333333,
              "#9c179e"
             ],
             [
              0.4444444444444444,
              "#bd3786"
             ],
             [
              0.5555555555555556,
              "#d8576b"
             ],
             [
              0.6666666666666666,
              "#ed7953"
             ],
             [
              0.7777777777777778,
              "#fb9f3a"
             ],
             [
              0.8888888888888888,
              "#fdca26"
             ],
             [
              1,
              "#f0f921"
             ]
            ],
            "type": "histogram2d"
           }
          ],
          "histogram2dcontour": [
           {
            "colorbar": {
             "outlinewidth": 0,
             "ticks": ""
            },
            "colorscale": [
             [
              0,
              "#0d0887"
             ],
             [
              0.1111111111111111,
              "#46039f"
             ],
             [
              0.2222222222222222,
              "#7201a8"
             ],
             [
              0.3333333333333333,
              "#9c179e"
             ],
             [
              0.4444444444444444,
              "#bd3786"
             ],
             [
              0.5555555555555556,
              "#d8576b"
             ],
             [
              0.6666666666666666,
              "#ed7953"
             ],
             [
              0.7777777777777778,
              "#fb9f3a"
             ],
             [
              0.8888888888888888,
              "#fdca26"
             ],
             [
              1,
              "#f0f921"
             ]
            ],
            "type": "histogram2dcontour"
           }
          ],
          "mesh3d": [
           {
            "colorbar": {
             "outlinewidth": 0,
             "ticks": ""
            },
            "type": "mesh3d"
           }
          ],
          "parcoords": [
           {
            "line": {
             "colorbar": {
              "outlinewidth": 0,
              "ticks": ""
             }
            },
            "type": "parcoords"
           }
          ],
          "pie": [
           {
            "automargin": true,
            "type": "pie"
           }
          ],
          "scatter": [
           {
            "marker": {
             "colorbar": {
              "outlinewidth": 0,
              "ticks": ""
             }
            },
            "type": "scatter"
           }
          ],
          "scatter3d": [
           {
            "line": {
             "colorbar": {
              "outlinewidth": 0,
              "ticks": ""
             }
            },
            "marker": {
             "colorbar": {
              "outlinewidth": 0,
              "ticks": ""
             }
            },
            "type": "scatter3d"
           }
          ],
          "scattercarpet": [
           {
            "marker": {
             "colorbar": {
              "outlinewidth": 0,
              "ticks": ""
             }
            },
            "type": "scattercarpet"
           }
          ],
          "scattergeo": [
           {
            "marker": {
             "colorbar": {
              "outlinewidth": 0,
              "ticks": ""
             }
            },
            "type": "scattergeo"
           }
          ],
          "scattergl": [
           {
            "marker": {
             "colorbar": {
              "outlinewidth": 0,
              "ticks": ""
             }
            },
            "type": "scattergl"
           }
          ],
          "scattermapbox": [
           {
            "marker": {
             "colorbar": {
              "outlinewidth": 0,
              "ticks": ""
             }
            },
            "type": "scattermapbox"
           }
          ],
          "scatterpolar": [
           {
            "marker": {
             "colorbar": {
              "outlinewidth": 0,
              "ticks": ""
             }
            },
            "type": "scatterpolar"
           }
          ],
          "scatterpolargl": [
           {
            "marker": {
             "colorbar": {
              "outlinewidth": 0,
              "ticks": ""
             }
            },
            "type": "scatterpolargl"
           }
          ],
          "scatterternary": [
           {
            "marker": {
             "colorbar": {
              "outlinewidth": 0,
              "ticks": ""
             }
            },
            "type": "scatterternary"
           }
          ],
          "surface": [
           {
            "colorbar": {
             "outlinewidth": 0,
             "ticks": ""
            },
            "colorscale": [
             [
              0,
              "#0d0887"
             ],
             [
              0.1111111111111111,
              "#46039f"
             ],
             [
              0.2222222222222222,
              "#7201a8"
             ],
             [
              0.3333333333333333,
              "#9c179e"
             ],
             [
              0.4444444444444444,
              "#bd3786"
             ],
             [
              0.5555555555555556,
              "#d8576b"
             ],
             [
              0.6666666666666666,
              "#ed7953"
             ],
             [
              0.7777777777777778,
              "#fb9f3a"
             ],
             [
              0.8888888888888888,
              "#fdca26"
             ],
             [
              1,
              "#f0f921"
             ]
            ],
            "type": "surface"
           }
          ],
          "table": [
           {
            "cells": {
             "fill": {
              "color": "#EBF0F8"
             },
             "line": {
              "color": "white"
             }
            },
            "header": {
             "fill": {
              "color": "#C8D4E3"
             },
             "line": {
              "color": "white"
             }
            },
            "type": "table"
           }
          ]
         },
         "layout": {
          "annotationdefaults": {
           "arrowcolor": "#2a3f5f",
           "arrowhead": 0,
           "arrowwidth": 1
          },
          "autotypenumbers": "strict",
          "coloraxis": {
           "colorbar": {
            "outlinewidth": 0,
            "ticks": ""
           }
          },
          "colorscale": {
           "diverging": [
            [
             0,
             "#8e0152"
            ],
            [
             0.1,
             "#c51b7d"
            ],
            [
             0.2,
             "#de77ae"
            ],
            [
             0.3,
             "#f1b6da"
            ],
            [
             0.4,
             "#fde0ef"
            ],
            [
             0.5,
             "#f7f7f7"
            ],
            [
             0.6,
             "#e6f5d0"
            ],
            [
             0.7,
             "#b8e186"
            ],
            [
             0.8,
             "#7fbc41"
            ],
            [
             0.9,
             "#4d9221"
            ],
            [
             1,
             "#276419"
            ]
           ],
           "sequential": [
            [
             0,
             "#0d0887"
            ],
            [
             0.1111111111111111,
             "#46039f"
            ],
            [
             0.2222222222222222,
             "#7201a8"
            ],
            [
             0.3333333333333333,
             "#9c179e"
            ],
            [
             0.4444444444444444,
             "#bd3786"
            ],
            [
             0.5555555555555556,
             "#d8576b"
            ],
            [
             0.6666666666666666,
             "#ed7953"
            ],
            [
             0.7777777777777778,
             "#fb9f3a"
            ],
            [
             0.8888888888888888,
             "#fdca26"
            ],
            [
             1,
             "#f0f921"
            ]
           ],
           "sequentialminus": [
            [
             0,
             "#0d0887"
            ],
            [
             0.1111111111111111,
             "#46039f"
            ],
            [
             0.2222222222222222,
             "#7201a8"
            ],
            [
             0.3333333333333333,
             "#9c179e"
            ],
            [
             0.4444444444444444,
             "#bd3786"
            ],
            [
             0.5555555555555556,
             "#d8576b"
            ],
            [
             0.6666666666666666,
             "#ed7953"
            ],
            [
             0.7777777777777778,
             "#fb9f3a"
            ],
            [
             0.8888888888888888,
             "#fdca26"
            ],
            [
             1,
             "#f0f921"
            ]
           ]
          },
          "colorway": [
           "#636efa",
           "#EF553B",
           "#00cc96",
           "#ab63fa",
           "#FFA15A",
           "#19d3f3",
           "#FF6692",
           "#B6E880",
           "#FF97FF",
           "#FECB52"
          ],
          "font": {
           "color": "#2a3f5f"
          },
          "geo": {
           "bgcolor": "white",
           "lakecolor": "white",
           "landcolor": "#E5ECF6",
           "showlakes": true,
           "showland": true,
           "subunitcolor": "white"
          },
          "hoverlabel": {
           "align": "left"
          },
          "hovermode": "closest",
          "mapbox": {
           "style": "light"
          },
          "paper_bgcolor": "white",
          "plot_bgcolor": "#E5ECF6",
          "polar": {
           "angularaxis": {
            "gridcolor": "white",
            "linecolor": "white",
            "ticks": ""
           },
           "bgcolor": "#E5ECF6",
           "radialaxis": {
            "gridcolor": "white",
            "linecolor": "white",
            "ticks": ""
           }
          },
          "scene": {
           "xaxis": {
            "backgroundcolor": "#E5ECF6",
            "gridcolor": "white",
            "gridwidth": 2,
            "linecolor": "white",
            "showbackground": true,
            "ticks": "",
            "zerolinecolor": "white"
           },
           "yaxis": {
            "backgroundcolor": "#E5ECF6",
            "gridcolor": "white",
            "gridwidth": 2,
            "linecolor": "white",
            "showbackground": true,
            "ticks": "",
            "zerolinecolor": "white"
           },
           "zaxis": {
            "backgroundcolor": "#E5ECF6",
            "gridcolor": "white",
            "gridwidth": 2,
            "linecolor": "white",
            "showbackground": true,
            "ticks": "",
            "zerolinecolor": "white"
           }
          },
          "shapedefaults": {
           "line": {
            "color": "#2a3f5f"
           }
          },
          "ternary": {
           "aaxis": {
            "gridcolor": "white",
            "linecolor": "white",
            "ticks": ""
           },
           "baxis": {
            "gridcolor": "white",
            "linecolor": "white",
            "ticks": ""
           },
           "bgcolor": "#E5ECF6",
           "caxis": {
            "gridcolor": "white",
            "linecolor": "white",
            "ticks": ""
           }
          },
          "title": {
           "x": 0.05
          },
          "xaxis": {
           "automargin": true,
           "gridcolor": "white",
           "linecolor": "white",
           "ticks": "",
           "title": {
            "standoff": 15
           },
           "zerolinecolor": "white",
           "zerolinewidth": 2
          },
          "yaxis": {
           "automargin": true,
           "gridcolor": "white",
           "linecolor": "white",
           "ticks": "",
           "title": {
            "standoff": 15
           },
           "zerolinecolor": "white",
           "zerolinewidth": 2
          }
         }
        },
        "title": {
         "text": "newCasesByPublishDate"
        },
        "xaxis": {
         "anchor": "y",
         "domain": [
          0,
          1
         ],
         "title": {
          "text": "date"
         }
        },
        "yaxis": {
         "anchor": "x",
         "domain": [
          0,
          1
         ],
         "title": {
          "text": "newCasesByPublishDate"
         }
        }
       }
      }
     },
     "metadata": {}
    },
    {
     "output_type": "display_data",
     "data": {
      "application/vnd.plotly.v1+json": {
       "config": {
        "plotlyServerURL": "https://plot.ly"
       },
       "data": [
        {
         "hovertemplate": "date=%{x}<br>newAdmissions=%{y}<extra></extra>",
         "legendgroup": "",
         "line": {
          "color": "#636efa",
          "dash": "solid"
         },
         "marker": {
          "symbol": "circle"
         },
         "mode": "lines",
         "name": "",
         "orientation": "v",
         "showlegend": false,
         "type": "scatter",
         "x": [
          "2021-10-04T00:00:00",
          "2021-10-03T00:00:00",
          "2021-10-02T00:00:00",
          "2021-10-01T00:00:00",
          "2021-09-30T00:00:00",
          "2021-09-29T00:00:00",
          "2021-09-28T00:00:00",
          "2021-09-27T00:00:00",
          "2021-09-26T00:00:00",
          "2021-09-25T00:00:00",
          "2021-09-24T00:00:00",
          "2021-09-23T00:00:00",
          "2021-09-22T00:00:00",
          "2021-09-21T00:00:00",
          "2021-09-20T00:00:00",
          "2021-09-19T00:00:00",
          "2021-09-18T00:00:00",
          "2021-09-17T00:00:00",
          "2021-09-16T00:00:00",
          "2021-09-15T00:00:00",
          "2021-09-14T00:00:00",
          "2021-09-13T00:00:00",
          "2021-09-12T00:00:00",
          "2021-09-11T00:00:00",
          "2021-09-10T00:00:00",
          "2021-09-09T00:00:00",
          "2021-09-08T00:00:00",
          "2021-09-07T00:00:00",
          "2021-09-06T00:00:00",
          "2021-09-05T00:00:00",
          "2021-09-04T00:00:00",
          "2021-09-03T00:00:00",
          "2021-09-02T00:00:00",
          "2021-09-01T00:00:00",
          "2021-08-31T00:00:00",
          "2021-08-30T00:00:00",
          "2021-08-29T00:00:00",
          "2021-08-28T00:00:00",
          "2021-08-27T00:00:00",
          "2021-08-26T00:00:00",
          "2021-08-25T00:00:00",
          "2021-08-24T00:00:00",
          "2021-08-23T00:00:00",
          "2021-08-22T00:00:00",
          "2021-08-21T00:00:00",
          "2021-08-20T00:00:00",
          "2021-08-19T00:00:00",
          "2021-08-18T00:00:00",
          "2021-08-17T00:00:00",
          "2021-08-16T00:00:00",
          "2021-08-15T00:00:00",
          "2021-08-14T00:00:00",
          "2021-08-13T00:00:00",
          "2021-08-12T00:00:00",
          "2021-08-11T00:00:00",
          "2021-08-10T00:00:00",
          "2021-08-09T00:00:00",
          "2021-08-08T00:00:00",
          "2021-08-07T00:00:00",
          "2021-08-06T00:00:00",
          "2021-08-05T00:00:00",
          "2021-08-04T00:00:00",
          "2021-08-03T00:00:00",
          "2021-08-02T00:00:00",
          "2021-08-01T00:00:00",
          "2021-07-31T00:00:00",
          "2021-07-30T00:00:00",
          "2021-07-29T00:00:00",
          "2021-07-28T00:00:00",
          "2021-07-27T00:00:00",
          "2021-07-26T00:00:00",
          "2021-07-25T00:00:00",
          "2021-07-24T00:00:00",
          "2021-07-23T00:00:00",
          "2021-07-22T00:00:00",
          "2021-07-21T00:00:00",
          "2021-07-20T00:00:00",
          "2021-07-19T00:00:00",
          "2021-07-18T00:00:00",
          "2021-07-17T00:00:00",
          "2021-07-16T00:00:00",
          "2021-07-15T00:00:00",
          "2021-07-14T00:00:00",
          "2021-07-13T00:00:00",
          "2021-07-12T00:00:00",
          "2021-07-11T00:00:00",
          "2021-07-10T00:00:00",
          "2021-07-09T00:00:00",
          "2021-07-08T00:00:00",
          "2021-07-07T00:00:00",
          "2021-07-06T00:00:00",
          "2021-07-05T00:00:00",
          "2021-07-04T00:00:00",
          "2021-07-03T00:00:00",
          "2021-07-02T00:00:00",
          "2021-07-01T00:00:00",
          "2021-06-30T00:00:00",
          "2021-06-29T00:00:00",
          "2021-06-28T00:00:00",
          "2021-06-27T00:00:00",
          "2021-06-26T00:00:00",
          "2021-06-25T00:00:00",
          "2021-06-24T00:00:00",
          "2021-06-23T00:00:00",
          "2021-06-22T00:00:00",
          "2021-06-21T00:00:00",
          "2021-06-20T00:00:00",
          "2021-06-19T00:00:00",
          "2021-06-18T00:00:00",
          "2021-06-17T00:00:00",
          "2021-06-16T00:00:00",
          "2021-06-15T00:00:00",
          "2021-06-14T00:00:00",
          "2021-06-13T00:00:00",
          "2021-06-12T00:00:00",
          "2021-06-11T00:00:00",
          "2021-06-10T00:00:00",
          "2021-06-09T00:00:00",
          "2021-06-08T00:00:00",
          "2021-06-07T00:00:00",
          "2021-06-06T00:00:00",
          "2021-06-05T00:00:00",
          "2021-06-04T00:00:00",
          "2021-06-03T00:00:00",
          "2021-06-02T00:00:00",
          "2021-06-01T00:00:00",
          "2021-05-31T00:00:00",
          "2021-05-30T00:00:00",
          "2021-05-29T00:00:00",
          "2021-05-28T00:00:00",
          "2021-05-27T00:00:00",
          "2021-05-26T00:00:00",
          "2021-05-25T00:00:00",
          "2021-05-24T00:00:00",
          "2021-05-23T00:00:00",
          "2021-05-22T00:00:00",
          "2021-05-21T00:00:00",
          "2021-05-20T00:00:00",
          "2021-05-19T00:00:00",
          "2021-05-18T00:00:00",
          "2021-05-17T00:00:00",
          "2021-05-16T00:00:00",
          "2021-05-15T00:00:00",
          "2021-05-14T00:00:00",
          "2021-05-13T00:00:00",
          "2021-05-12T00:00:00",
          "2021-05-11T00:00:00",
          "2021-05-10T00:00:00",
          "2021-05-09T00:00:00",
          "2021-05-08T00:00:00",
          "2021-05-07T00:00:00",
          "2021-05-06T00:00:00",
          "2021-05-05T00:00:00",
          "2021-05-04T00:00:00",
          "2021-05-03T00:00:00",
          "2021-05-02T00:00:00",
          "2021-05-01T00:00:00",
          "2021-04-30T00:00:00",
          "2021-04-29T00:00:00",
          "2021-04-28T00:00:00",
          "2021-04-27T00:00:00",
          "2021-04-26T00:00:00",
          "2021-04-25T00:00:00",
          "2021-04-24T00:00:00",
          "2021-04-23T00:00:00",
          "2021-04-22T00:00:00",
          "2021-04-21T00:00:00",
          "2021-04-20T00:00:00",
          "2021-04-19T00:00:00",
          "2021-04-18T00:00:00",
          "2021-04-17T00:00:00",
          "2021-04-16T00:00:00",
          "2021-04-15T00:00:00",
          "2021-04-14T00:00:00",
          "2021-04-13T00:00:00",
          "2021-04-12T00:00:00",
          "2021-04-11T00:00:00",
          "2021-04-10T00:00:00",
          "2021-04-09T00:00:00",
          "2021-04-08T00:00:00",
          "2021-04-07T00:00:00",
          "2021-04-06T00:00:00",
          "2021-04-05T00:00:00",
          "2021-04-04T00:00:00",
          "2021-04-03T00:00:00",
          "2021-04-02T00:00:00",
          "2021-04-01T00:00:00",
          "2021-03-31T00:00:00",
          "2021-03-30T00:00:00",
          "2021-03-29T00:00:00",
          "2021-03-28T00:00:00",
          "2021-03-27T00:00:00",
          "2021-03-26T00:00:00",
          "2021-03-25T00:00:00",
          "2021-03-24T00:00:00",
          "2021-03-23T00:00:00",
          "2021-03-22T00:00:00",
          "2021-03-21T00:00:00",
          "2021-03-20T00:00:00",
          "2021-03-19T00:00:00",
          "2021-03-18T00:00:00",
          "2021-03-17T00:00:00",
          "2021-03-16T00:00:00",
          "2021-03-15T00:00:00",
          "2021-03-14T00:00:00",
          "2021-03-13T00:00:00",
          "2021-03-12T00:00:00",
          "2021-03-11T00:00:00",
          "2021-03-10T00:00:00",
          "2021-03-09T00:00:00",
          "2021-03-08T00:00:00",
          "2021-03-07T00:00:00",
          "2021-03-06T00:00:00",
          "2021-03-05T00:00:00",
          "2021-03-04T00:00:00",
          "2021-03-03T00:00:00",
          "2021-03-02T00:00:00",
          "2021-03-01T00:00:00",
          "2021-02-28T00:00:00",
          "2021-02-27T00:00:00",
          "2021-02-26T00:00:00",
          "2021-02-25T00:00:00",
          "2021-02-24T00:00:00",
          "2021-02-23T00:00:00",
          "2021-02-22T00:00:00",
          "2021-02-21T00:00:00",
          "2021-02-20T00:00:00",
          "2021-02-19T00:00:00",
          "2021-02-18T00:00:00",
          "2021-02-17T00:00:00",
          "2021-02-16T00:00:00",
          "2021-02-15T00:00:00",
          "2021-02-14T00:00:00",
          "2021-02-13T00:00:00",
          "2021-02-12T00:00:00",
          "2021-02-11T00:00:00",
          "2021-02-10T00:00:00",
          "2021-02-09T00:00:00",
          "2021-02-08T00:00:00",
          "2021-02-07T00:00:00",
          "2021-02-06T00:00:00",
          "2021-02-05T00:00:00",
          "2021-02-04T00:00:00",
          "2021-02-03T00:00:00",
          "2021-02-02T00:00:00",
          "2021-02-01T00:00:00",
          "2021-01-31T00:00:00",
          "2021-01-30T00:00:00",
          "2021-01-29T00:00:00",
          "2021-01-28T00:00:00",
          "2021-01-27T00:00:00",
          "2021-01-26T00:00:00",
          "2021-01-25T00:00:00",
          "2021-01-24T00:00:00",
          "2021-01-23T00:00:00",
          "2021-01-22T00:00:00",
          "2021-01-21T00:00:00",
          "2021-01-20T00:00:00",
          "2021-01-19T00:00:00",
          "2021-01-18T00:00:00",
          "2021-01-17T00:00:00",
          "2021-01-16T00:00:00",
          "2021-01-15T00:00:00",
          "2021-01-14T00:00:00",
          "2021-01-13T00:00:00",
          "2021-01-12T00:00:00",
          "2021-01-11T00:00:00",
          "2021-01-10T00:00:00"
         ],
         "xaxis": "x",
         "y": [
          747,
          682,
          669,
          651,
          654,
          793,
          762,
          778,
          663,
          668,
          722,
          769,
          747,
          794,
          805,
          725,
          756,
          754,
          885,
          947,
          944,
          934,
          861,
          851,
          919,
          1030,
          1161,
          1099,
          1076,
          877,
          948,
          924,
          1000,
          1078,
          995,
          997,
          852,
          860,
          937,
          951,
          1031,
          997,
          963,
          832,
          871,
          867,
          943,
          909,
          967,
          870,
          808,
          789,
          787,
          858,
          846,
          892,
          755,
          741,
          726,
          779,
          809,
          835,
          764,
          785,
          740,
          674,
          744,
          837,
          851,
          915,
          939,
          941,
          826,
          864,
          954,
          929,
          936,
          874,
          799,
          709,
          701,
          772,
          755,
          750,
          732,
          592,
          552,
          556,
          606,
          568,
          574,
          517,
          465,
          391,
          390,
          371,
          415,
          367,
          310,
          267,
          267,
          255,
          256,
          277,
          238,
          228,
          206,
          212,
          236,
          242,
          228,
          232,
          228,
          222,
          177,
          178,
          201,
          194,
          190,
          175,
          154,
          126,
          123,
          126,
          128,
          154,
          124,
          112,
          104,
          140,
          127,
          132,
          133,
          139,
          114,
          120,
          124,
          132,
          126,
          128,
          102,
          80,
          91,
          93,
          106,
          119,
          110,
          104,
          103,
          109,
          104,
          120,
          118,
          102,
          123,
          120,
          101,
          110,
          101,
          112,
          168,
          134,
          138,
          129,
          155,
          120,
          172,
          135,
          177,
          141,
          158,
          158,
          161,
          196,
          181,
          208,
          204,
          187,
          205,
          208,
          234,
          224,
          238,
          197,
          223,
          238,
          233,
          269,
          256,
          251,
          272,
          273,
          298,
          340,
          348,
          367,
          361,
          358,
          364,
          380,
          451,
          446,
          442,
          503,
          428,
          461,
          482,
          550,
          567,
          579,
          576,
          535,
          638,
          599,
          704,
          713,
          834,
          823,
          769,
          742,
          864,
          969,
          1022,
          1120,
          1119,
          1157,
          1092,
          1273,
          1339,
          1412,
          1494,
          1504,
          1535,
          1426,
          1509,
          1680,
          1725,
          1755,
          1921,
          1851,
          1894,
          2006,
          2142,
          2360,
          2484,
          2602,
          2407,
          2471,
          2687,
          3046,
          3059,
          3151,
          2931,
          3112,
          3117,
          3393,
          3636,
          4050,
          4161,
          4065,
          3750,
          3941,
          3685,
          4103,
          4224,
          4583,
          4309,
          3937
         ],
         "yaxis": "y"
        }
       ],
       "layout": {
        "legend": {
         "tracegroupgap": 0
        },
        "template": {
         "data": {
          "bar": [
           {
            "error_x": {
             "color": "#2a3f5f"
            },
            "error_y": {
             "color": "#2a3f5f"
            },
            "marker": {
             "line": {
              "color": "#E5ECF6",
              "width": 0.5
             },
             "pattern": {
              "fillmode": "overlay",
              "size": 10,
              "solidity": 0.2
             }
            },
            "type": "bar"
           }
          ],
          "barpolar": [
           {
            "marker": {
             "line": {
              "color": "#E5ECF6",
              "width": 0.5
             },
             "pattern": {
              "fillmode": "overlay",
              "size": 10,
              "solidity": 0.2
             }
            },
            "type": "barpolar"
           }
          ],
          "carpet": [
           {
            "aaxis": {
             "endlinecolor": "#2a3f5f",
             "gridcolor": "white",
             "linecolor": "white",
             "minorgridcolor": "white",
             "startlinecolor": "#2a3f5f"
            },
            "baxis": {
             "endlinecolor": "#2a3f5f",
             "gridcolor": "white",
             "linecolor": "white",
             "minorgridcolor": "white",
             "startlinecolor": "#2a3f5f"
            },
            "type": "carpet"
           }
          ],
          "choropleth": [
           {
            "colorbar": {
             "outlinewidth": 0,
             "ticks": ""
            },
            "type": "choropleth"
           }
          ],
          "contour": [
           {
            "colorbar": {
             "outlinewidth": 0,
             "ticks": ""
            },
            "colorscale": [
             [
              0,
              "#0d0887"
             ],
             [
              0.1111111111111111,
              "#46039f"
             ],
             [
              0.2222222222222222,
              "#7201a8"
             ],
             [
              0.3333333333333333,
              "#9c179e"
             ],
             [
              0.4444444444444444,
              "#bd3786"
             ],
             [
              0.5555555555555556,
              "#d8576b"
             ],
             [
              0.6666666666666666,
              "#ed7953"
             ],
             [
              0.7777777777777778,
              "#fb9f3a"
             ],
             [
              0.8888888888888888,
              "#fdca26"
             ],
             [
              1,
              "#f0f921"
             ]
            ],
            "type": "contour"
           }
          ],
          "contourcarpet": [
           {
            "colorbar": {
             "outlinewidth": 0,
             "ticks": ""
            },
            "type": "contourcarpet"
           }
          ],
          "heatmap": [
           {
            "colorbar": {
             "outlinewidth": 0,
             "ticks": ""
            },
            "colorscale": [
             [
              0,
              "#0d0887"
             ],
             [
              0.1111111111111111,
              "#46039f"
             ],
             [
              0.2222222222222222,
              "#7201a8"
             ],
             [
              0.3333333333333333,
              "#9c179e"
             ],
             [
              0.4444444444444444,
              "#bd3786"
             ],
             [
              0.5555555555555556,
              "#d8576b"
             ],
             [
              0.6666666666666666,
              "#ed7953"
             ],
             [
              0.7777777777777778,
              "#fb9f3a"
             ],
             [
              0.8888888888888888,
              "#fdca26"
             ],
             [
              1,
              "#f0f921"
             ]
            ],
            "type": "heatmap"
           }
          ],
          "heatmapgl": [
           {
            "colorbar": {
             "outlinewidth": 0,
             "ticks": ""
            },
            "colorscale": [
             [
              0,
              "#0d0887"
             ],
             [
              0.1111111111111111,
              "#46039f"
             ],
             [
              0.2222222222222222,
              "#7201a8"
             ],
             [
              0.3333333333333333,
              "#9c179e"
             ],
             [
              0.4444444444444444,
              "#bd3786"
             ],
             [
              0.5555555555555556,
              "#d8576b"
             ],
             [
              0.6666666666666666,
              "#ed7953"
             ],
             [
              0.7777777777777778,
              "#fb9f3a"
             ],
             [
              0.8888888888888888,
              "#fdca26"
             ],
             [
              1,
              "#f0f921"
             ]
            ],
            "type": "heatmapgl"
           }
          ],
          "histogram": [
           {
            "marker": {
             "pattern": {
              "fillmode": "overlay",
              "size": 10,
              "solidity": 0.2
             }
            },
            "type": "histogram"
           }
          ],
          "histogram2d": [
           {
            "colorbar": {
             "outlinewidth": 0,
             "ticks": ""
            },
            "colorscale": [
             [
              0,
              "#0d0887"
             ],
             [
              0.1111111111111111,
              "#46039f"
             ],
             [
              0.2222222222222222,
              "#7201a8"
             ],
             [
              0.3333333333333333,
              "#9c179e"
             ],
             [
              0.4444444444444444,
              "#bd3786"
             ],
             [
              0.5555555555555556,
              "#d8576b"
             ],
             [
              0.6666666666666666,
              "#ed7953"
             ],
             [
              0.7777777777777778,
              "#fb9f3a"
             ],
             [
              0.8888888888888888,
              "#fdca26"
             ],
             [
              1,
              "#f0f921"
             ]
            ],
            "type": "histogram2d"
           }
          ],
          "histogram2dcontour": [
           {
            "colorbar": {
             "outlinewidth": 0,
             "ticks": ""
            },
            "colorscale": [
             [
              0,
              "#0d0887"
             ],
             [
              0.1111111111111111,
              "#46039f"
             ],
             [
              0.2222222222222222,
              "#7201a8"
             ],
             [
              0.3333333333333333,
              "#9c179e"
             ],
             [
              0.4444444444444444,
              "#bd3786"
             ],
             [
              0.5555555555555556,
              "#d8576b"
             ],
             [
              0.6666666666666666,
              "#ed7953"
             ],
             [
              0.7777777777777778,
              "#fb9f3a"
             ],
             [
              0.8888888888888888,
              "#fdca26"
             ],
             [
              1,
              "#f0f921"
             ]
            ],
            "type": "histogram2dcontour"
           }
          ],
          "mesh3d": [
           {
            "colorbar": {
             "outlinewidth": 0,
             "ticks": ""
            },
            "type": "mesh3d"
           }
          ],
          "parcoords": [
           {
            "line": {
             "colorbar": {
              "outlinewidth": 0,
              "ticks": ""
             }
            },
            "type": "parcoords"
           }
          ],
          "pie": [
           {
            "automargin": true,
            "type": "pie"
           }
          ],
          "scatter": [
           {
            "marker": {
             "colorbar": {
              "outlinewidth": 0,
              "ticks": ""
             }
            },
            "type": "scatter"
           }
          ],
          "scatter3d": [
           {
            "line": {
             "colorbar": {
              "outlinewidth": 0,
              "ticks": ""
             }
            },
            "marker": {
             "colorbar": {
              "outlinewidth": 0,
              "ticks": ""
             }
            },
            "type": "scatter3d"
           }
          ],
          "scattercarpet": [
           {
            "marker": {
             "colorbar": {
              "outlinewidth": 0,
              "ticks": ""
             }
            },
            "type": "scattercarpet"
           }
          ],
          "scattergeo": [
           {
            "marker": {
             "colorbar": {
              "outlinewidth": 0,
              "ticks": ""
             }
            },
            "type": "scattergeo"
           }
          ],
          "scattergl": [
           {
            "marker": {
             "colorbar": {
              "outlinewidth": 0,
              "ticks": ""
             }
            },
            "type": "scattergl"
           }
          ],
          "scattermapbox": [
           {
            "marker": {
             "colorbar": {
              "outlinewidth": 0,
              "ticks": ""
             }
            },
            "type": "scattermapbox"
           }
          ],
          "scatterpolar": [
           {
            "marker": {
             "colorbar": {
              "outlinewidth": 0,
              "ticks": ""
             }
            },
            "type": "scatterpolar"
           }
          ],
          "scatterpolargl": [
           {
            "marker": {
             "colorbar": {
              "outlinewidth": 0,
              "ticks": ""
             }
            },
            "type": "scatterpolargl"
           }
          ],
          "scatterternary": [
           {
            "marker": {
             "colorbar": {
              "outlinewidth": 0,
              "ticks": ""
             }
            },
            "type": "scatterternary"
           }
          ],
          "surface": [
           {
            "colorbar": {
             "outlinewidth": 0,
             "ticks": ""
            },
            "colorscale": [
             [
              0,
              "#0d0887"
             ],
             [
              0.1111111111111111,
              "#46039f"
             ],
             [
              0.2222222222222222,
              "#7201a8"
             ],
             [
              0.3333333333333333,
              "#9c179e"
             ],
             [
              0.4444444444444444,
              "#bd3786"
             ],
             [
              0.5555555555555556,
              "#d8576b"
             ],
             [
              0.6666666666666666,
              "#ed7953"
             ],
             [
              0.7777777777777778,
              "#fb9f3a"
             ],
             [
              0.8888888888888888,
              "#fdca26"
             ],
             [
              1,
              "#f0f921"
             ]
            ],
            "type": "surface"
           }
          ],
          "table": [
           {
            "cells": {
             "fill": {
              "color": "#EBF0F8"
             },
             "line": {
              "color": "white"
             }
            },
            "header": {
             "fill": {
              "color": "#C8D4E3"
             },
             "line": {
              "color": "white"
             }
            },
            "type": "table"
           }
          ]
         },
         "layout": {
          "annotationdefaults": {
           "arrowcolor": "#2a3f5f",
           "arrowhead": 0,
           "arrowwidth": 1
          },
          "autotypenumbers": "strict",
          "coloraxis": {
           "colorbar": {
            "outlinewidth": 0,
            "ticks": ""
           }
          },
          "colorscale": {
           "diverging": [
            [
             0,
             "#8e0152"
            ],
            [
             0.1,
             "#c51b7d"
            ],
            [
             0.2,
             "#de77ae"
            ],
            [
             0.3,
             "#f1b6da"
            ],
            [
             0.4,
             "#fde0ef"
            ],
            [
             0.5,
             "#f7f7f7"
            ],
            [
             0.6,
             "#e6f5d0"
            ],
            [
             0.7,
             "#b8e186"
            ],
            [
             0.8,
             "#7fbc41"
            ],
            [
             0.9,
             "#4d9221"
            ],
            [
             1,
             "#276419"
            ]
           ],
           "sequential": [
            [
             0,
             "#0d0887"
            ],
            [
             0.1111111111111111,
             "#46039f"
            ],
            [
             0.2222222222222222,
             "#7201a8"
            ],
            [
             0.3333333333333333,
             "#9c179e"
            ],
            [
             0.4444444444444444,
             "#bd3786"
            ],
            [
             0.5555555555555556,
             "#d8576b"
            ],
            [
             0.6666666666666666,
             "#ed7953"
            ],
            [
             0.7777777777777778,
             "#fb9f3a"
            ],
            [
             0.8888888888888888,
             "#fdca26"
            ],
            [
             1,
             "#f0f921"
            ]
           ],
           "sequentialminus": [
            [
             0,
             "#0d0887"
            ],
            [
             0.1111111111111111,
             "#46039f"
            ],
            [
             0.2222222222222222,
             "#7201a8"
            ],
            [
             0.3333333333333333,
             "#9c179e"
            ],
            [
             0.4444444444444444,
             "#bd3786"
            ],
            [
             0.5555555555555556,
             "#d8576b"
            ],
            [
             0.6666666666666666,
             "#ed7953"
            ],
            [
             0.7777777777777778,
             "#fb9f3a"
            ],
            [
             0.8888888888888888,
             "#fdca26"
            ],
            [
             1,
             "#f0f921"
            ]
           ]
          },
          "colorway": [
           "#636efa",
           "#EF553B",
           "#00cc96",
           "#ab63fa",
           "#FFA15A",
           "#19d3f3",
           "#FF6692",
           "#B6E880",
           "#FF97FF",
           "#FECB52"
          ],
          "font": {
           "color": "#2a3f5f"
          },
          "geo": {
           "bgcolor": "white",
           "lakecolor": "white",
           "landcolor": "#E5ECF6",
           "showlakes": true,
           "showland": true,
           "subunitcolor": "white"
          },
          "hoverlabel": {
           "align": "left"
          },
          "hovermode": "closest",
          "mapbox": {
           "style": "light"
          },
          "paper_bgcolor": "white",
          "plot_bgcolor": "#E5ECF6",
          "polar": {
           "angularaxis": {
            "gridcolor": "white",
            "linecolor": "white",
            "ticks": ""
           },
           "bgcolor": "#E5ECF6",
           "radialaxis": {
            "gridcolor": "white",
            "linecolor": "white",
            "ticks": ""
           }
          },
          "scene": {
           "xaxis": {
            "backgroundcolor": "#E5ECF6",
            "gridcolor": "white",
            "gridwidth": 2,
            "linecolor": "white",
            "showbackground": true,
            "ticks": "",
            "zerolinecolor": "white"
           },
           "yaxis": {
            "backgroundcolor": "#E5ECF6",
            "gridcolor": "white",
            "gridwidth": 2,
            "linecolor": "white",
            "showbackground": true,
            "ticks": "",
            "zerolinecolor": "white"
           },
           "zaxis": {
            "backgroundcolor": "#E5ECF6",
            "gridcolor": "white",
            "gridwidth": 2,
            "linecolor": "white",
            "showbackground": true,
            "ticks": "",
            "zerolinecolor": "white"
           }
          },
          "shapedefaults": {
           "line": {
            "color": "#2a3f5f"
           }
          },
          "ternary": {
           "aaxis": {
            "gridcolor": "white",
            "linecolor": "white",
            "ticks": ""
           },
           "baxis": {
            "gridcolor": "white",
            "linecolor": "white",
            "ticks": ""
           },
           "bgcolor": "#E5ECF6",
           "caxis": {
            "gridcolor": "white",
            "linecolor": "white",
            "ticks": ""
           }
          },
          "title": {
           "x": 0.05
          },
          "xaxis": {
           "automargin": true,
           "gridcolor": "white",
           "linecolor": "white",
           "ticks": "",
           "title": {
            "standoff": 15
           },
           "zerolinecolor": "white",
           "zerolinewidth": 2
          },
          "yaxis": {
           "automargin": true,
           "gridcolor": "white",
           "linecolor": "white",
           "ticks": "",
           "title": {
            "standoff": 15
           },
           "zerolinecolor": "white",
           "zerolinewidth": 2
          }
         }
        },
        "title": {
         "text": "newAdmissions"
        },
        "xaxis": {
         "anchor": "y",
         "domain": [
          0,
          1
         ],
         "title": {
          "text": "date"
         }
        },
        "yaxis": {
         "anchor": "x",
         "domain": [
          0,
          1
         ],
         "title": {
          "text": "newAdmissions"
         }
        }
       }
      }
     },
     "metadata": {}
    },
    {
     "output_type": "display_data",
     "data": {
      "application/vnd.plotly.v1+json": {
       "config": {
        "plotlyServerURL": "https://plot.ly"
       },
       "data": [
        {
         "hovertemplate": "date=%{x}<br>newDeaths28DaysByDeathDate=%{y}<extra></extra>",
         "legendgroup": "",
         "line": {
          "color": "#636efa",
          "dash": "solid"
         },
         "marker": {
          "symbol": "circle"
         },
         "mode": "lines",
         "name": "",
         "orientation": "v",
         "showlegend": false,
         "type": "scatter",
         "x": [
          "2021-10-04T00:00:00",
          "2021-10-03T00:00:00",
          "2021-10-02T00:00:00",
          "2021-10-01T00:00:00",
          "2021-09-30T00:00:00",
          "2021-09-29T00:00:00",
          "2021-09-28T00:00:00",
          "2021-09-27T00:00:00",
          "2021-09-26T00:00:00",
          "2021-09-25T00:00:00",
          "2021-09-24T00:00:00",
          "2021-09-23T00:00:00",
          "2021-09-22T00:00:00",
          "2021-09-21T00:00:00",
          "2021-09-20T00:00:00",
          "2021-09-19T00:00:00",
          "2021-09-18T00:00:00",
          "2021-09-17T00:00:00",
          "2021-09-16T00:00:00",
          "2021-09-15T00:00:00",
          "2021-09-14T00:00:00",
          "2021-09-13T00:00:00",
          "2021-09-12T00:00:00",
          "2021-09-11T00:00:00",
          "2021-09-10T00:00:00",
          "2021-09-09T00:00:00",
          "2021-09-08T00:00:00",
          "2021-09-07T00:00:00",
          "2021-09-06T00:00:00",
          "2021-09-05T00:00:00",
          "2021-09-04T00:00:00",
          "2021-09-03T00:00:00",
          "2021-09-02T00:00:00",
          "2021-09-01T00:00:00",
          "2021-08-31T00:00:00",
          "2021-08-30T00:00:00",
          "2021-08-29T00:00:00",
          "2021-08-28T00:00:00",
          "2021-08-27T00:00:00",
          "2021-08-26T00:00:00",
          "2021-08-25T00:00:00",
          "2021-08-24T00:00:00",
          "2021-08-23T00:00:00",
          "2021-08-22T00:00:00",
          "2021-08-21T00:00:00",
          "2021-08-20T00:00:00",
          "2021-08-19T00:00:00",
          "2021-08-18T00:00:00",
          "2021-08-17T00:00:00",
          "2021-08-16T00:00:00",
          "2021-08-15T00:00:00",
          "2021-08-14T00:00:00",
          "2021-08-13T00:00:00",
          "2021-08-12T00:00:00",
          "2021-08-11T00:00:00",
          "2021-08-10T00:00:00",
          "2021-08-09T00:00:00",
          "2021-08-08T00:00:00",
          "2021-08-07T00:00:00",
          "2021-08-06T00:00:00",
          "2021-08-05T00:00:00",
          "2021-08-04T00:00:00",
          "2021-08-03T00:00:00",
          "2021-08-02T00:00:00",
          "2021-08-01T00:00:00",
          "2021-07-31T00:00:00",
          "2021-07-30T00:00:00",
          "2021-07-29T00:00:00",
          "2021-07-28T00:00:00",
          "2021-07-27T00:00:00",
          "2021-07-26T00:00:00",
          "2021-07-25T00:00:00",
          "2021-07-24T00:00:00",
          "2021-07-23T00:00:00",
          "2021-07-22T00:00:00",
          "2021-07-21T00:00:00",
          "2021-07-20T00:00:00",
          "2021-07-19T00:00:00",
          "2021-07-18T00:00:00",
          "2021-07-17T00:00:00",
          "2021-07-16T00:00:00",
          "2021-07-15T00:00:00",
          "2021-07-14T00:00:00",
          "2021-07-13T00:00:00",
          "2021-07-12T00:00:00",
          "2021-07-11T00:00:00",
          "2021-07-10T00:00:00",
          "2021-07-09T00:00:00",
          "2021-07-08T00:00:00",
          "2021-07-07T00:00:00",
          "2021-07-06T00:00:00",
          "2021-07-05T00:00:00",
          "2021-07-04T00:00:00",
          "2021-07-03T00:00:00",
          "2021-07-02T00:00:00",
          "2021-07-01T00:00:00",
          "2021-06-30T00:00:00",
          "2021-06-29T00:00:00",
          "2021-06-28T00:00:00",
          "2021-06-27T00:00:00",
          "2021-06-26T00:00:00",
          "2021-06-25T00:00:00",
          "2021-06-24T00:00:00",
          "2021-06-23T00:00:00",
          "2021-06-22T00:00:00",
          "2021-06-21T00:00:00",
          "2021-06-20T00:00:00",
          "2021-06-19T00:00:00",
          "2021-06-18T00:00:00",
          "2021-06-17T00:00:00",
          "2021-06-16T00:00:00",
          "2021-06-15T00:00:00",
          "2021-06-14T00:00:00",
          "2021-06-13T00:00:00",
          "2021-06-12T00:00:00",
          "2021-06-11T00:00:00",
          "2021-06-10T00:00:00",
          "2021-06-09T00:00:00",
          "2021-06-08T00:00:00",
          "2021-06-07T00:00:00",
          "2021-06-06T00:00:00",
          "2021-06-05T00:00:00",
          "2021-06-04T00:00:00",
          "2021-06-03T00:00:00",
          "2021-06-02T00:00:00",
          "2021-06-01T00:00:00",
          "2021-05-31T00:00:00",
          "2021-05-30T00:00:00",
          "2021-05-29T00:00:00",
          "2021-05-28T00:00:00",
          "2021-05-27T00:00:00",
          "2021-05-26T00:00:00",
          "2021-05-25T00:00:00",
          "2021-05-24T00:00:00",
          "2021-05-23T00:00:00",
          "2021-05-22T00:00:00",
          "2021-05-21T00:00:00",
          "2021-05-20T00:00:00",
          "2021-05-19T00:00:00",
          "2021-05-18T00:00:00",
          "2021-05-17T00:00:00",
          "2021-05-16T00:00:00",
          "2021-05-15T00:00:00",
          "2021-05-14T00:00:00",
          "2021-05-13T00:00:00",
          "2021-05-12T00:00:00",
          "2021-05-11T00:00:00",
          "2021-05-10T00:00:00",
          "2021-05-09T00:00:00",
          "2021-05-08T00:00:00",
          "2021-05-07T00:00:00",
          "2021-05-06T00:00:00",
          "2021-05-05T00:00:00",
          "2021-05-04T00:00:00",
          "2021-05-03T00:00:00",
          "2021-05-02T00:00:00",
          "2021-05-01T00:00:00",
          "2021-04-30T00:00:00",
          "2021-04-29T00:00:00",
          "2021-04-28T00:00:00",
          "2021-04-27T00:00:00",
          "2021-04-26T00:00:00",
          "2021-04-25T00:00:00",
          "2021-04-24T00:00:00",
          "2021-04-23T00:00:00",
          "2021-04-22T00:00:00",
          "2021-04-21T00:00:00",
          "2021-04-20T00:00:00",
          "2021-04-19T00:00:00",
          "2021-04-18T00:00:00",
          "2021-04-17T00:00:00",
          "2021-04-16T00:00:00",
          "2021-04-15T00:00:00",
          "2021-04-14T00:00:00",
          "2021-04-13T00:00:00",
          "2021-04-12T00:00:00",
          "2021-04-11T00:00:00",
          "2021-04-10T00:00:00",
          "2021-04-09T00:00:00",
          "2021-04-08T00:00:00",
          "2021-04-07T00:00:00",
          "2021-04-06T00:00:00",
          "2021-04-05T00:00:00",
          "2021-04-04T00:00:00",
          "2021-04-03T00:00:00",
          "2021-04-02T00:00:00",
          "2021-04-01T00:00:00",
          "2021-03-31T00:00:00",
          "2021-03-30T00:00:00",
          "2021-03-29T00:00:00",
          "2021-03-28T00:00:00",
          "2021-03-27T00:00:00",
          "2021-03-26T00:00:00",
          "2021-03-25T00:00:00",
          "2021-03-24T00:00:00",
          "2021-03-23T00:00:00",
          "2021-03-22T00:00:00",
          "2021-03-21T00:00:00",
          "2021-03-20T00:00:00",
          "2021-03-19T00:00:00",
          "2021-03-18T00:00:00",
          "2021-03-17T00:00:00",
          "2021-03-16T00:00:00",
          "2021-03-15T00:00:00",
          "2021-03-14T00:00:00",
          "2021-03-13T00:00:00",
          "2021-03-12T00:00:00",
          "2021-03-11T00:00:00",
          "2021-03-10T00:00:00",
          "2021-03-09T00:00:00",
          "2021-03-08T00:00:00",
          "2021-03-07T00:00:00",
          "2021-03-06T00:00:00",
          "2021-03-05T00:00:00",
          "2021-03-04T00:00:00",
          "2021-03-03T00:00:00",
          "2021-03-02T00:00:00",
          "2021-03-01T00:00:00",
          "2021-02-28T00:00:00",
          "2021-02-27T00:00:00",
          "2021-02-26T00:00:00",
          "2021-02-25T00:00:00",
          "2021-02-24T00:00:00",
          "2021-02-23T00:00:00",
          "2021-02-22T00:00:00",
          "2021-02-21T00:00:00",
          "2021-02-20T00:00:00",
          "2021-02-19T00:00:00",
          "2021-02-18T00:00:00",
          "2021-02-17T00:00:00",
          "2021-02-16T00:00:00",
          "2021-02-15T00:00:00",
          "2021-02-14T00:00:00",
          "2021-02-13T00:00:00",
          "2021-02-12T00:00:00",
          "2021-02-11T00:00:00",
          "2021-02-10T00:00:00",
          "2021-02-09T00:00:00",
          "2021-02-08T00:00:00",
          "2021-02-07T00:00:00",
          "2021-02-06T00:00:00",
          "2021-02-05T00:00:00",
          "2021-02-04T00:00:00",
          "2021-02-03T00:00:00",
          "2021-02-02T00:00:00",
          "2021-02-01T00:00:00",
          "2021-01-31T00:00:00",
          "2021-01-30T00:00:00",
          "2021-01-29T00:00:00",
          "2021-01-28T00:00:00",
          "2021-01-27T00:00:00",
          "2021-01-26T00:00:00",
          "2021-01-25T00:00:00",
          "2021-01-24T00:00:00",
          "2021-01-23T00:00:00",
          "2021-01-22T00:00:00",
          "2021-01-21T00:00:00",
          "2021-01-20T00:00:00",
          "2021-01-19T00:00:00",
          "2021-01-18T00:00:00",
          "2021-01-17T00:00:00",
          "2021-01-16T00:00:00",
          "2021-01-15T00:00:00",
          "2021-01-14T00:00:00",
          "2021-01-13T00:00:00",
          "2021-01-12T00:00:00",
          "2021-01-11T00:00:00",
          "2021-01-10T00:00:00"
         ],
         "xaxis": "x",
         "y": [
          74,
          82,
          92,
          103,
          106,
          117,
          103,
          110,
          93,
          121,
          125,
          137,
          142,
          120,
          134,
          125,
          121,
          169,
          150,
          142,
          154,
          110,
          139,
          136,
          143,
          162,
          139,
          154,
          137,
          154,
          132,
          147,
          127,
          116,
          115,
          106,
          128,
          122,
          127,
          115,
          101,
          113,
          113,
          116,
          104,
          117,
          107,
          98,
          106,
          78,
          84,
          93,
          104,
          105,
          87,
          81,
          79,
          79,
          95,
          93,
          99,
          79,
          74,
          79,
          93,
          89,
          105,
          77,
          86,
          73,
          74,
          71,
          71,
          81,
          76,
          54,
          58,
          83,
          66,
          52,
          50,
          52,
          42,
          49,
          39,
          33,
          42,
          47,
          38,
          29,
          32,
          28,
          28,
          28,
          27,
          21,
          21,
          23,
          12,
          20,
          17,
          20,
          21,
          7,
          13,
          16,
          23,
          22,
          13,
          6,
          11,
          19,
          9,
          10,
          13,
          6,
          11,
          7,
          8,
          5,
          6,
          5,
          9,
          12,
          10,
          4,
          7,
          8,
          7,
          8,
          8,
          11,
          4,
          9,
          7,
          4,
          7,
          5,
          5,
          6,
          7,
          8,
          7,
          6,
          5,
          11,
          14,
          8,
          9,
          8,
          10,
          10,
          12,
          10,
          8,
          12,
          8,
          8,
          13,
          14,
          12,
          13,
          15,
          8,
          21,
          16,
          24,
          19,
          18,
          17,
          22,
          17,
          21,
          17,
          20,
          27,
          22,
          24,
          23,
          35,
          29,
          28,
          17,
          26,
          31,
          28,
          31,
          38,
          43,
          35,
          34,
          36,
          48,
          45,
          40,
          50,
          65,
          80,
          64,
          70,
          58,
          79,
          80,
          91,
          94,
          107,
          92,
          121,
          116,
          133,
          143,
          131,
          153,
          169,
          153,
          147,
          182,
          225,
          212,
          229,
          226,
          259,
          274,
          287,
          281,
          325,
          349,
          381,
          416,
          430,
          445,
          518,
          493,
          490,
          527,
          571,
          607,
          607,
          676,
          635,
          699,
          752,
          715,
          857,
          849,
          891,
          892,
          912,
          1067,
          1107,
          1111,
          1059,
          1164,
          1157,
          1164,
          1244,
          1236,
          1296,
          1359,
          1294,
          1267,
          1306,
          1225,
          1227,
          1214,
          1210,
          1129,
          1095
         ],
         "yaxis": "y"
        }
       ],
       "layout": {
        "legend": {
         "tracegroupgap": 0
        },
        "template": {
         "data": {
          "bar": [
           {
            "error_x": {
             "color": "#2a3f5f"
            },
            "error_y": {
             "color": "#2a3f5f"
            },
            "marker": {
             "line": {
              "color": "#E5ECF6",
              "width": 0.5
             },
             "pattern": {
              "fillmode": "overlay",
              "size": 10,
              "solidity": 0.2
             }
            },
            "type": "bar"
           }
          ],
          "barpolar": [
           {
            "marker": {
             "line": {
              "color": "#E5ECF6",
              "width": 0.5
             },
             "pattern": {
              "fillmode": "overlay",
              "size": 10,
              "solidity": 0.2
             }
            },
            "type": "barpolar"
           }
          ],
          "carpet": [
           {
            "aaxis": {
             "endlinecolor": "#2a3f5f",
             "gridcolor": "white",
             "linecolor": "white",
             "minorgridcolor": "white",
             "startlinecolor": "#2a3f5f"
            },
            "baxis": {
             "endlinecolor": "#2a3f5f",
             "gridcolor": "white",
             "linecolor": "white",
             "minorgridcolor": "white",
             "startlinecolor": "#2a3f5f"
            },
            "type": "carpet"
           }
          ],
          "choropleth": [
           {
            "colorbar": {
             "outlinewidth": 0,
             "ticks": ""
            },
            "type": "choropleth"
           }
          ],
          "contour": [
           {
            "colorbar": {
             "outlinewidth": 0,
             "ticks": ""
            },
            "colorscale": [
             [
              0,
              "#0d0887"
             ],
             [
              0.1111111111111111,
              "#46039f"
             ],
             [
              0.2222222222222222,
              "#7201a8"
             ],
             [
              0.3333333333333333,
              "#9c179e"
             ],
             [
              0.4444444444444444,
              "#bd3786"
             ],
             [
              0.5555555555555556,
              "#d8576b"
             ],
             [
              0.6666666666666666,
              "#ed7953"
             ],
             [
              0.7777777777777778,
              "#fb9f3a"
             ],
             [
              0.8888888888888888,
              "#fdca26"
             ],
             [
              1,
              "#f0f921"
             ]
            ],
            "type": "contour"
           }
          ],
          "contourcarpet": [
           {
            "colorbar": {
             "outlinewidth": 0,
             "ticks": ""
            },
            "type": "contourcarpet"
           }
          ],
          "heatmap": [
           {
            "colorbar": {
             "outlinewidth": 0,
             "ticks": ""
            },
            "colorscale": [
             [
              0,
              "#0d0887"
             ],
             [
              0.1111111111111111,
              "#46039f"
             ],
             [
              0.2222222222222222,
              "#7201a8"
             ],
             [
              0.3333333333333333,
              "#9c179e"
             ],
             [
              0.4444444444444444,
              "#bd3786"
             ],
             [
              0.5555555555555556,
              "#d8576b"
             ],
             [
              0.6666666666666666,
              "#ed7953"
             ],
             [
              0.7777777777777778,
              "#fb9f3a"
             ],
             [
              0.8888888888888888,
              "#fdca26"
             ],
             [
              1,
              "#f0f921"
             ]
            ],
            "type": "heatmap"
           }
          ],
          "heatmapgl": [
           {
            "colorbar": {
             "outlinewidth": 0,
             "ticks": ""
            },
            "colorscale": [
             [
              0,
              "#0d0887"
             ],
             [
              0.1111111111111111,
              "#46039f"
             ],
             [
              0.2222222222222222,
              "#7201a8"
             ],
             [
              0.3333333333333333,
              "#9c179e"
             ],
             [
              0.4444444444444444,
              "#bd3786"
             ],
             [
              0.5555555555555556,
              "#d8576b"
             ],
             [
              0.6666666666666666,
              "#ed7953"
             ],
             [
              0.7777777777777778,
              "#fb9f3a"
             ],
             [
              0.8888888888888888,
              "#fdca26"
             ],
             [
              1,
              "#f0f921"
             ]
            ],
            "type": "heatmapgl"
           }
          ],
          "histogram": [
           {
            "marker": {
             "pattern": {
              "fillmode": "overlay",
              "size": 10,
              "solidity": 0.2
             }
            },
            "type": "histogram"
           }
          ],
          "histogram2d": [
           {
            "colorbar": {
             "outlinewidth": 0,
             "ticks": ""
            },
            "colorscale": [
             [
              0,
              "#0d0887"
             ],
             [
              0.1111111111111111,
              "#46039f"
             ],
             [
              0.2222222222222222,
              "#7201a8"
             ],
             [
              0.3333333333333333,
              "#9c179e"
             ],
             [
              0.4444444444444444,
              "#bd3786"
             ],
             [
              0.5555555555555556,
              "#d8576b"
             ],
             [
              0.6666666666666666,
              "#ed7953"
             ],
             [
              0.7777777777777778,
              "#fb9f3a"
             ],
             [
              0.8888888888888888,
              "#fdca26"
             ],
             [
              1,
              "#f0f921"
             ]
            ],
            "type": "histogram2d"
           }
          ],
          "histogram2dcontour": [
           {
            "colorbar": {
             "outlinewidth": 0,
             "ticks": ""
            },
            "colorscale": [
             [
              0,
              "#0d0887"
             ],
             [
              0.1111111111111111,
              "#46039f"
             ],
             [
              0.2222222222222222,
              "#7201a8"
             ],
             [
              0.3333333333333333,
              "#9c179e"
             ],
             [
              0.4444444444444444,
              "#bd3786"
             ],
             [
              0.5555555555555556,
              "#d8576b"
             ],
             [
              0.6666666666666666,
              "#ed7953"
             ],
             [
              0.7777777777777778,
              "#fb9f3a"
             ],
             [
              0.8888888888888888,
              "#fdca26"
             ],
             [
              1,
              "#f0f921"
             ]
            ],
            "type": "histogram2dcontour"
           }
          ],
          "mesh3d": [
           {
            "colorbar": {
             "outlinewidth": 0,
             "ticks": ""
            },
            "type": "mesh3d"
           }
          ],
          "parcoords": [
           {
            "line": {
             "colorbar": {
              "outlinewidth": 0,
              "ticks": ""
             }
            },
            "type": "parcoords"
           }
          ],
          "pie": [
           {
            "automargin": true,
            "type": "pie"
           }
          ],
          "scatter": [
           {
            "marker": {
             "colorbar": {
              "outlinewidth": 0,
              "ticks": ""
             }
            },
            "type": "scatter"
           }
          ],
          "scatter3d": [
           {
            "line": {
             "colorbar": {
              "outlinewidth": 0,
              "ticks": ""
             }
            },
            "marker": {
             "colorbar": {
              "outlinewidth": 0,
              "ticks": ""
             }
            },
            "type": "scatter3d"
           }
          ],
          "scattercarpet": [
           {
            "marker": {
             "colorbar": {
              "outlinewidth": 0,
              "ticks": ""
             }
            },
            "type": "scattercarpet"
           }
          ],
          "scattergeo": [
           {
            "marker": {
             "colorbar": {
              "outlinewidth": 0,
              "ticks": ""
             }
            },
            "type": "scattergeo"
           }
          ],
          "scattergl": [
           {
            "marker": {
             "colorbar": {
              "outlinewidth": 0,
              "ticks": ""
             }
            },
            "type": "scattergl"
           }
          ],
          "scattermapbox": [
           {
            "marker": {
             "colorbar": {
              "outlinewidth": 0,
              "ticks": ""
             }
            },
            "type": "scattermapbox"
           }
          ],
          "scatterpolar": [
           {
            "marker": {
             "colorbar": {
              "outlinewidth": 0,
              "ticks": ""
             }
            },
            "type": "scatterpolar"
           }
          ],
          "scatterpolargl": [
           {
            "marker": {
             "colorbar": {
              "outlinewidth": 0,
              "ticks": ""
             }
            },
            "type": "scatterpolargl"
           }
          ],
          "scatterternary": [
           {
            "marker": {
             "colorbar": {
              "outlinewidth": 0,
              "ticks": ""
             }
            },
            "type": "scatterternary"
           }
          ],
          "surface": [
           {
            "colorbar": {
             "outlinewidth": 0,
             "ticks": ""
            },
            "colorscale": [
             [
              0,
              "#0d0887"
             ],
             [
              0.1111111111111111,
              "#46039f"
             ],
             [
              0.2222222222222222,
              "#7201a8"
             ],
             [
              0.3333333333333333,
              "#9c179e"
             ],
             [
              0.4444444444444444,
              "#bd3786"
             ],
             [
              0.5555555555555556,
              "#d8576b"
             ],
             [
              0.6666666666666666,
              "#ed7953"
             ],
             [
              0.7777777777777778,
              "#fb9f3a"
             ],
             [
              0.8888888888888888,
              "#fdca26"
             ],
             [
              1,
              "#f0f921"
             ]
            ],
            "type": "surface"
           }
          ],
          "table": [
           {
            "cells": {
             "fill": {
              "color": "#EBF0F8"
             },
             "line": {
              "color": "white"
             }
            },
            "header": {
             "fill": {
              "color": "#C8D4E3"
             },
             "line": {
              "color": "white"
             }
            },
            "type": "table"
           }
          ]
         },
         "layout": {
          "annotationdefaults": {
           "arrowcolor": "#2a3f5f",
           "arrowhead": 0,
           "arrowwidth": 1
          },
          "autotypenumbers": "strict",
          "coloraxis": {
           "colorbar": {
            "outlinewidth": 0,
            "ticks": ""
           }
          },
          "colorscale": {
           "diverging": [
            [
             0,
             "#8e0152"
            ],
            [
             0.1,
             "#c51b7d"
            ],
            [
             0.2,
             "#de77ae"
            ],
            [
             0.3,
             "#f1b6da"
            ],
            [
             0.4,
             "#fde0ef"
            ],
            [
             0.5,
             "#f7f7f7"
            ],
            [
             0.6,
             "#e6f5d0"
            ],
            [
             0.7,
             "#b8e186"
            ],
            [
             0.8,
             "#7fbc41"
            ],
            [
             0.9,
             "#4d9221"
            ],
            [
             1,
             "#276419"
            ]
           ],
           "sequential": [
            [
             0,
             "#0d0887"
            ],
            [
             0.1111111111111111,
             "#46039f"
            ],
            [
             0.2222222222222222,
             "#7201a8"
            ],
            [
             0.3333333333333333,
             "#9c179e"
            ],
            [
             0.4444444444444444,
             "#bd3786"
            ],
            [
             0.5555555555555556,
             "#d8576b"
            ],
            [
             0.6666666666666666,
             "#ed7953"
            ],
            [
             0.7777777777777778,
             "#fb9f3a"
            ],
            [
             0.8888888888888888,
             "#fdca26"
            ],
            [
             1,
             "#f0f921"
            ]
           ],
           "sequentialminus": [
            [
             0,
             "#0d0887"
            ],
            [
             0.1111111111111111,
             "#46039f"
            ],
            [
             0.2222222222222222,
             "#7201a8"
            ],
            [
             0.3333333333333333,
             "#9c179e"
            ],
            [
             0.4444444444444444,
             "#bd3786"
            ],
            [
             0.5555555555555556,
             "#d8576b"
            ],
            [
             0.6666666666666666,
             "#ed7953"
            ],
            [
             0.7777777777777778,
             "#fb9f3a"
            ],
            [
             0.8888888888888888,
             "#fdca26"
            ],
            [
             1,
             "#f0f921"
            ]
           ]
          },
          "colorway": [
           "#636efa",
           "#EF553B",
           "#00cc96",
           "#ab63fa",
           "#FFA15A",
           "#19d3f3",
           "#FF6692",
           "#B6E880",
           "#FF97FF",
           "#FECB52"
          ],
          "font": {
           "color": "#2a3f5f"
          },
          "geo": {
           "bgcolor": "white",
           "lakecolor": "white",
           "landcolor": "#E5ECF6",
           "showlakes": true,
           "showland": true,
           "subunitcolor": "white"
          },
          "hoverlabel": {
           "align": "left"
          },
          "hovermode": "closest",
          "mapbox": {
           "style": "light"
          },
          "paper_bgcolor": "white",
          "plot_bgcolor": "#E5ECF6",
          "polar": {
           "angularaxis": {
            "gridcolor": "white",
            "linecolor": "white",
            "ticks": ""
           },
           "bgcolor": "#E5ECF6",
           "radialaxis": {
            "gridcolor": "white",
            "linecolor": "white",
            "ticks": ""
           }
          },
          "scene": {
           "xaxis": {
            "backgroundcolor": "#E5ECF6",
            "gridcolor": "white",
            "gridwidth": 2,
            "linecolor": "white",
            "showbackground": true,
            "ticks": "",
            "zerolinecolor": "white"
           },
           "yaxis": {
            "backgroundcolor": "#E5ECF6",
            "gridcolor": "white",
            "gridwidth": 2,
            "linecolor": "white",
            "showbackground": true,
            "ticks": "",
            "zerolinecolor": "white"
           },
           "zaxis": {
            "backgroundcolor": "#E5ECF6",
            "gridcolor": "white",
            "gridwidth": 2,
            "linecolor": "white",
            "showbackground": true,
            "ticks": "",
            "zerolinecolor": "white"
           }
          },
          "shapedefaults": {
           "line": {
            "color": "#2a3f5f"
           }
          },
          "ternary": {
           "aaxis": {
            "gridcolor": "white",
            "linecolor": "white",
            "ticks": ""
           },
           "baxis": {
            "gridcolor": "white",
            "linecolor": "white",
            "ticks": ""
           },
           "bgcolor": "#E5ECF6",
           "caxis": {
            "gridcolor": "white",
            "linecolor": "white",
            "ticks": ""
           }
          },
          "title": {
           "x": 0.05
          },
          "xaxis": {
           "automargin": true,
           "gridcolor": "white",
           "linecolor": "white",
           "ticks": "",
           "title": {
            "standoff": 15
           },
           "zerolinecolor": "white",
           "zerolinewidth": 2
          },
          "yaxis": {
           "automargin": true,
           "gridcolor": "white",
           "linecolor": "white",
           "ticks": "",
           "title": {
            "standoff": 15
           },
           "zerolinecolor": "white",
           "zerolinewidth": 2
          }
         }
        },
        "title": {
         "text": "newDeaths28DaysByDeathDate"
        },
        "xaxis": {
         "anchor": "y",
         "domain": [
          0,
          1
         ],
         "title": {
          "text": "date"
         }
        },
        "yaxis": {
         "anchor": "x",
         "domain": [
          0,
          1
         ],
         "title": {
          "text": "newDeaths28DaysByDeathDate"
         }
        }
       }
      }
     },
     "metadata": {}
    },
    {
     "output_type": "display_data",
     "data": {
      "application/vnd.plotly.v1+json": {
       "config": {
        "plotlyServerURL": "https://plot.ly"
       },
       "data": [
        {
         "hovertemplate": "date=%{x}<br>cumPeopleVaccinatedCompleteByPublishDate=%{y}<extra></extra>",
         "legendgroup": "",
         "line": {
          "color": "#636efa",
          "dash": "solid"
         },
         "marker": {
          "symbol": "circle"
         },
         "mode": "lines",
         "name": "",
         "orientation": "v",
         "showlegend": false,
         "type": "scatter",
         "x": [
          "2021-10-04T00:00:00",
          "2021-10-03T00:00:00",
          "2021-10-02T00:00:00",
          "2021-10-01T00:00:00",
          "2021-09-30T00:00:00",
          "2021-09-29T00:00:00",
          "2021-09-28T00:00:00",
          "2021-09-27T00:00:00",
          "2021-09-26T00:00:00",
          "2021-09-25T00:00:00",
          "2021-09-24T00:00:00",
          "2021-09-23T00:00:00",
          "2021-09-22T00:00:00",
          "2021-09-21T00:00:00",
          "2021-09-20T00:00:00",
          "2021-09-19T00:00:00",
          "2021-09-18T00:00:00",
          "2021-09-17T00:00:00",
          "2021-09-16T00:00:00",
          "2021-09-15T00:00:00",
          "2021-09-14T00:00:00",
          "2021-09-13T00:00:00",
          "2021-09-12T00:00:00",
          "2021-09-11T00:00:00",
          "2021-09-10T00:00:00",
          "2021-09-09T00:00:00",
          "2021-09-08T00:00:00",
          "2021-09-07T00:00:00",
          "2021-09-06T00:00:00",
          "2021-09-05T00:00:00",
          "2021-09-04T00:00:00",
          "2021-09-03T00:00:00",
          "2021-09-02T00:00:00",
          "2021-09-01T00:00:00",
          "2021-08-31T00:00:00",
          "2021-08-30T00:00:00",
          "2021-08-29T00:00:00",
          "2021-08-28T00:00:00",
          "2021-08-27T00:00:00",
          "2021-08-26T00:00:00",
          "2021-08-25T00:00:00",
          "2021-08-24T00:00:00",
          "2021-08-23T00:00:00",
          "2021-08-22T00:00:00",
          "2021-08-21T00:00:00",
          "2021-08-20T00:00:00",
          "2021-08-19T00:00:00",
          "2021-08-18T00:00:00",
          "2021-08-17T00:00:00",
          "2021-08-16T00:00:00",
          "2021-08-15T00:00:00",
          "2021-08-14T00:00:00",
          "2021-08-13T00:00:00",
          "2021-08-12T00:00:00",
          "2021-08-11T00:00:00",
          "2021-08-10T00:00:00",
          "2021-08-09T00:00:00",
          "2021-08-08T00:00:00",
          "2021-08-07T00:00:00",
          "2021-08-06T00:00:00",
          "2021-08-05T00:00:00",
          "2021-08-04T00:00:00",
          "2021-08-03T00:00:00",
          "2021-08-02T00:00:00",
          "2021-08-01T00:00:00",
          "2021-07-31T00:00:00",
          "2021-07-30T00:00:00",
          "2021-07-29T00:00:00",
          "2021-07-28T00:00:00",
          "2021-07-27T00:00:00",
          "2021-07-26T00:00:00",
          "2021-07-25T00:00:00",
          "2021-07-24T00:00:00",
          "2021-07-23T00:00:00",
          "2021-07-22T00:00:00",
          "2021-07-21T00:00:00",
          "2021-07-20T00:00:00",
          "2021-07-19T00:00:00",
          "2021-07-18T00:00:00",
          "2021-07-17T00:00:00",
          "2021-07-16T00:00:00",
          "2021-07-15T00:00:00",
          "2021-07-14T00:00:00",
          "2021-07-13T00:00:00",
          "2021-07-12T00:00:00",
          "2021-07-11T00:00:00",
          "2021-07-10T00:00:00",
          "2021-07-09T00:00:00",
          "2021-07-08T00:00:00",
          "2021-07-07T00:00:00",
          "2021-07-06T00:00:00",
          "2021-07-05T00:00:00",
          "2021-07-04T00:00:00",
          "2021-07-03T00:00:00",
          "2021-07-02T00:00:00",
          "2021-07-01T00:00:00",
          "2021-06-30T00:00:00",
          "2021-06-29T00:00:00",
          "2021-06-28T00:00:00",
          "2021-06-27T00:00:00",
          "2021-06-26T00:00:00",
          "2021-06-25T00:00:00",
          "2021-06-24T00:00:00",
          "2021-06-23T00:00:00",
          "2021-06-22T00:00:00",
          "2021-06-21T00:00:00",
          "2021-06-20T00:00:00",
          "2021-06-19T00:00:00",
          "2021-06-18T00:00:00",
          "2021-06-17T00:00:00",
          "2021-06-16T00:00:00",
          "2021-06-15T00:00:00",
          "2021-06-14T00:00:00",
          "2021-06-13T00:00:00",
          "2021-06-12T00:00:00",
          "2021-06-11T00:00:00",
          "2021-06-10T00:00:00",
          "2021-06-09T00:00:00",
          "2021-06-08T00:00:00",
          "2021-06-07T00:00:00",
          "2021-06-06T00:00:00",
          "2021-06-05T00:00:00",
          "2021-06-04T00:00:00",
          "2021-06-03T00:00:00",
          "2021-06-02T00:00:00",
          "2021-06-01T00:00:00",
          "2021-05-31T00:00:00",
          "2021-05-30T00:00:00",
          "2021-05-29T00:00:00",
          "2021-05-28T00:00:00",
          "2021-05-27T00:00:00",
          "2021-05-26T00:00:00",
          "2021-05-25T00:00:00",
          "2021-05-24T00:00:00",
          "2021-05-23T00:00:00",
          "2021-05-22T00:00:00",
          "2021-05-21T00:00:00",
          "2021-05-20T00:00:00",
          "2021-05-19T00:00:00",
          "2021-05-18T00:00:00",
          "2021-05-17T00:00:00",
          "2021-05-16T00:00:00",
          "2021-05-15T00:00:00",
          "2021-05-14T00:00:00",
          "2021-05-13T00:00:00",
          "2021-05-12T00:00:00",
          "2021-05-11T00:00:00",
          "2021-05-10T00:00:00",
          "2021-05-09T00:00:00",
          "2021-05-08T00:00:00",
          "2021-05-07T00:00:00",
          "2021-05-06T00:00:00",
          "2021-05-05T00:00:00",
          "2021-05-04T00:00:00",
          "2021-05-03T00:00:00",
          "2021-05-02T00:00:00",
          "2021-05-01T00:00:00",
          "2021-04-30T00:00:00",
          "2021-04-29T00:00:00",
          "2021-04-28T00:00:00",
          "2021-04-27T00:00:00",
          "2021-04-26T00:00:00",
          "2021-04-25T00:00:00",
          "2021-04-24T00:00:00",
          "2021-04-23T00:00:00",
          "2021-04-22T00:00:00",
          "2021-04-21T00:00:00",
          "2021-04-20T00:00:00",
          "2021-04-19T00:00:00",
          "2021-04-18T00:00:00",
          "2021-04-17T00:00:00",
          "2021-04-16T00:00:00",
          "2021-04-15T00:00:00",
          "2021-04-14T00:00:00",
          "2021-04-13T00:00:00",
          "2021-04-12T00:00:00",
          "2021-04-11T00:00:00",
          "2021-04-10T00:00:00",
          "2021-04-09T00:00:00",
          "2021-04-08T00:00:00",
          "2021-04-07T00:00:00",
          "2021-04-06T00:00:00",
          "2021-04-05T00:00:00",
          "2021-04-04T00:00:00",
          "2021-04-03T00:00:00",
          "2021-04-02T00:00:00",
          "2021-04-01T00:00:00",
          "2021-03-31T00:00:00",
          "2021-03-30T00:00:00",
          "2021-03-29T00:00:00",
          "2021-03-28T00:00:00",
          "2021-03-27T00:00:00",
          "2021-03-26T00:00:00",
          "2021-03-25T00:00:00",
          "2021-03-24T00:00:00",
          "2021-03-23T00:00:00",
          "2021-03-22T00:00:00",
          "2021-03-21T00:00:00",
          "2021-03-20T00:00:00",
          "2021-03-19T00:00:00",
          "2021-03-18T00:00:00",
          "2021-03-17T00:00:00",
          "2021-03-16T00:00:00",
          "2021-03-15T00:00:00",
          "2021-03-14T00:00:00",
          "2021-03-13T00:00:00",
          "2021-03-12T00:00:00",
          "2021-03-11T00:00:00",
          "2021-03-10T00:00:00",
          "2021-03-09T00:00:00",
          "2021-03-08T00:00:00",
          "2021-03-07T00:00:00",
          "2021-03-06T00:00:00",
          "2021-03-05T00:00:00",
          "2021-03-04T00:00:00",
          "2021-03-03T00:00:00",
          "2021-03-02T00:00:00",
          "2021-03-01T00:00:00",
          "2021-02-28T00:00:00",
          "2021-02-27T00:00:00",
          "2021-02-26T00:00:00",
          "2021-02-25T00:00:00",
          "2021-02-24T00:00:00",
          "2021-02-23T00:00:00",
          "2021-02-22T00:00:00",
          "2021-02-21T00:00:00",
          "2021-02-20T00:00:00",
          "2021-02-19T00:00:00",
          "2021-02-18T00:00:00",
          "2021-02-17T00:00:00",
          "2021-02-16T00:00:00",
          "2021-02-15T00:00:00",
          "2021-02-14T00:00:00",
          "2021-02-13T00:00:00",
          "2021-02-12T00:00:00",
          "2021-02-11T00:00:00",
          "2021-02-10T00:00:00",
          "2021-02-09T00:00:00",
          "2021-02-08T00:00:00",
          "2021-02-07T00:00:00",
          "2021-02-06T00:00:00",
          "2021-02-05T00:00:00",
          "2021-02-04T00:00:00",
          "2021-02-03T00:00:00",
          "2021-02-02T00:00:00",
          "2021-02-01T00:00:00",
          "2021-01-31T00:00:00",
          "2021-01-30T00:00:00",
          "2021-01-29T00:00:00",
          "2021-01-28T00:00:00",
          "2021-01-27T00:00:00",
          "2021-01-26T00:00:00",
          "2021-01-25T00:00:00",
          "2021-01-24T00:00:00",
          "2021-01-23T00:00:00",
          "2021-01-22T00:00:00",
          "2021-01-21T00:00:00",
          "2021-01-20T00:00:00",
          "2021-01-19T00:00:00",
          "2021-01-18T00:00:00",
          "2021-01-17T00:00:00",
          "2021-01-16T00:00:00",
          "2021-01-15T00:00:00",
          "2021-01-14T00:00:00",
          "2021-01-13T00:00:00",
          "2021-01-12T00:00:00",
          "2021-01-11T00:00:00",
          "2021-01-10T00:00:00"
         ],
         "xaxis": "x",
         "y": [
          45021381,
          44992044,
          44970512,
          44936121,
          44901832,
          44867373,
          44833280,
          44799748,
          44766571,
          44741032,
          44693914,
          44649155,
          44604567,
          44560520,
          44517114,
          44470772,
          44435615,
          44363118,
          44302734,
          44238761,
          44175471,
          44108746,
          44048093,
          43995478,
          43897419,
          43805608,
          43708906,
          43620946,
          43535098,
          43455083,
          43381890,
          43253337,
          43142747,
          43023372,
          42909987,
          42790585,
          42723937,
          42644497,
          42510809,
          42379353,
          42234417,
          42072712,
          41942036,
          41810753,
          41694401,
          41499520,
          41332128,
          41157069,
          40987846,
          40841971,
          40703581,
          40577198,
          40377614,
          40206029,
          40013470,
          39839709,
          39688566,
          39551538,
          39429468,
          39215885,
          39047529,
          38874837,
          38709168,
          38566407,
          38440215,
          38322171,
          38110157,
          37939061,
          37759143,
          37587970,
          37436320,
          37287384,
          37169428,
          36965542,
          36776201,
          36587904,
          36404566,
          36243287,
          36099727,
          35970849,
          35745635,
          35543321,
          35341428,
          35155767,
          34997491,
          34872131,
          34764511,
          34553065,
          34374246,
          34198779,
          34027302,
          33874176,
          33726362,
          33614952,
          33418743,
          33241265,
          33048199,
          32872450,
          32721762,
          32583746,
          32460191,
          32260686,
          32085916,
          31908103,
          31740115,
          31489240,
          31449915,
          31340507,
          31104144,
          30898467,
          30675207,
          30440373,
          30209707,
          29973779,
          29792658,
          29472332,
          29165140,
          28857102,
          28540844,
          28227362,
          27921294,
          27661353,
          27187975,
          26799944,
          26422303,
          26073284,
          25734719,
          25539173,
          25332851,
          24914003,
          24478052,
          24043956,
          23616498,
          23228511,
          22895556,
          22643417,
          22086466,
          21659783,
          21239471,
          20870453,
          20546452,
          20287403,
          20103658,
          19712412,
          19319010,
          18890969,
          18438532,
          18088385,
          17856550,
          17669379,
          17230542,
          16764720,
          16291719,
          15887493,
          15630007,
          15502508,
          15329617,
          14957313,
          14535528,
          14043961,
          13581076,
          13201811,
          12897123,
          12636322,
          12088686,
          11623671,
          11192601,
          10775817,
          10425790,
          10152039,
          9930846,
          9431211,
          8931547,
          8513864,
          8170081,
          7857396,
          7656205,
          7466540,
          6991310,
          6541174,
          6091905,
          5683509,
          5496716,
          5432126,
          5384418,
          5205505,
          4958874,
          4513458,
          4125884,
          3848202,
          3679972,
          3532378,
          3293517,
          3009863,
          2775481,
          2532839,
          2363684,
          2281384,
          2228772,
          2136795,
          2011070,
          1879054,
          1759445,
          1663646,
          1610280,
          1584909,
          1532754,
          1445078,
          1351515,
          1254353,
          1181431,
          1142643,
          1122402,
          1090840,
          1034068,
          963862,
          895412,
          844098,
          815816,
          796132,
          768810,
          736037,
          700718,
          669105,
          642788,
          624325,
          615148,
          604885,
          589591,
          573724,
          558577,
          546165,
          539630,
          537715,
          534869,
          530094,
          524447,
          519553,
          516392,
          512581,
          511719,
          510057,
          505993,
          501957,
          498962,
          496796,
          494209,
          491053,
          480432,
          478254,
          476485,
          474156,
          472446,
          470478,
          469660,
          468617,
          466796,
          464036,
          460625,
          456866,
          452301,
          450062,
          447442,
          443234,
          437977,
          428232,
          412167,
          391399
         ],
         "yaxis": "y"
        }
       ],
       "layout": {
        "legend": {
         "tracegroupgap": 0
        },
        "template": {
         "data": {
          "bar": [
           {
            "error_x": {
             "color": "#2a3f5f"
            },
            "error_y": {
             "color": "#2a3f5f"
            },
            "marker": {
             "line": {
              "color": "#E5ECF6",
              "width": 0.5
             },
             "pattern": {
              "fillmode": "overlay",
              "size": 10,
              "solidity": 0.2
             }
            },
            "type": "bar"
           }
          ],
          "barpolar": [
           {
            "marker": {
             "line": {
              "color": "#E5ECF6",
              "width": 0.5
             },
             "pattern": {
              "fillmode": "overlay",
              "size": 10,
              "solidity": 0.2
             }
            },
            "type": "barpolar"
           }
          ],
          "carpet": [
           {
            "aaxis": {
             "endlinecolor": "#2a3f5f",
             "gridcolor": "white",
             "linecolor": "white",
             "minorgridcolor": "white",
             "startlinecolor": "#2a3f5f"
            },
            "baxis": {
             "endlinecolor": "#2a3f5f",
             "gridcolor": "white",
             "linecolor": "white",
             "minorgridcolor": "white",
             "startlinecolor": "#2a3f5f"
            },
            "type": "carpet"
           }
          ],
          "choropleth": [
           {
            "colorbar": {
             "outlinewidth": 0,
             "ticks": ""
            },
            "type": "choropleth"
           }
          ],
          "contour": [
           {
            "colorbar": {
             "outlinewidth": 0,
             "ticks": ""
            },
            "colorscale": [
             [
              0,
              "#0d0887"
             ],
             [
              0.1111111111111111,
              "#46039f"
             ],
             [
              0.2222222222222222,
              "#7201a8"
             ],
             [
              0.3333333333333333,
              "#9c179e"
             ],
             [
              0.4444444444444444,
              "#bd3786"
             ],
             [
              0.5555555555555556,
              "#d8576b"
             ],
             [
              0.6666666666666666,
              "#ed7953"
             ],
             [
              0.7777777777777778,
              "#fb9f3a"
             ],
             [
              0.8888888888888888,
              "#fdca26"
             ],
             [
              1,
              "#f0f921"
             ]
            ],
            "type": "contour"
           }
          ],
          "contourcarpet": [
           {
            "colorbar": {
             "outlinewidth": 0,
             "ticks": ""
            },
            "type": "contourcarpet"
           }
          ],
          "heatmap": [
           {
            "colorbar": {
             "outlinewidth": 0,
             "ticks": ""
            },
            "colorscale": [
             [
              0,
              "#0d0887"
             ],
             [
              0.1111111111111111,
              "#46039f"
             ],
             [
              0.2222222222222222,
              "#7201a8"
             ],
             [
              0.3333333333333333,
              "#9c179e"
             ],
             [
              0.4444444444444444,
              "#bd3786"
             ],
             [
              0.5555555555555556,
              "#d8576b"
             ],
             [
              0.6666666666666666,
              "#ed7953"
             ],
             [
              0.7777777777777778,
              "#fb9f3a"
             ],
             [
              0.8888888888888888,
              "#fdca26"
             ],
             [
              1,
              "#f0f921"
             ]
            ],
            "type": "heatmap"
           }
          ],
          "heatmapgl": [
           {
            "colorbar": {
             "outlinewidth": 0,
             "ticks": ""
            },
            "colorscale": [
             [
              0,
              "#0d0887"
             ],
             [
              0.1111111111111111,
              "#46039f"
             ],
             [
              0.2222222222222222,
              "#7201a8"
             ],
             [
              0.3333333333333333,
              "#9c179e"
             ],
             [
              0.4444444444444444,
              "#bd3786"
             ],
             [
              0.5555555555555556,
              "#d8576b"
             ],
             [
              0.6666666666666666,
              "#ed7953"
             ],
             [
              0.7777777777777778,
              "#fb9f3a"
             ],
             [
              0.8888888888888888,
              "#fdca26"
             ],
             [
              1,
              "#f0f921"
             ]
            ],
            "type": "heatmapgl"
           }
          ],
          "histogram": [
           {
            "marker": {
             "pattern": {
              "fillmode": "overlay",
              "size": 10,
              "solidity": 0.2
             }
            },
            "type": "histogram"
           }
          ],
          "histogram2d": [
           {
            "colorbar": {
             "outlinewidth": 0,
             "ticks": ""
            },
            "colorscale": [
             [
              0,
              "#0d0887"
             ],
             [
              0.1111111111111111,
              "#46039f"
             ],
             [
              0.2222222222222222,
              "#7201a8"
             ],
             [
              0.3333333333333333,
              "#9c179e"
             ],
             [
              0.4444444444444444,
              "#bd3786"
             ],
             [
              0.5555555555555556,
              "#d8576b"
             ],
             [
              0.6666666666666666,
              "#ed7953"
             ],
             [
              0.7777777777777778,
              "#fb9f3a"
             ],
             [
              0.8888888888888888,
              "#fdca26"
             ],
             [
              1,
              "#f0f921"
             ]
            ],
            "type": "histogram2d"
           }
          ],
          "histogram2dcontour": [
           {
            "colorbar": {
             "outlinewidth": 0,
             "ticks": ""
            },
            "colorscale": [
             [
              0,
              "#0d0887"
             ],
             [
              0.1111111111111111,
              "#46039f"
             ],
             [
              0.2222222222222222,
              "#7201a8"
             ],
             [
              0.3333333333333333,
              "#9c179e"
             ],
             [
              0.4444444444444444,
              "#bd3786"
             ],
             [
              0.5555555555555556,
              "#d8576b"
             ],
             [
              0.6666666666666666,
              "#ed7953"
             ],
             [
              0.7777777777777778,
              "#fb9f3a"
             ],
             [
              0.8888888888888888,
              "#fdca26"
             ],
             [
              1,
              "#f0f921"
             ]
            ],
            "type": "histogram2dcontour"
           }
          ],
          "mesh3d": [
           {
            "colorbar": {
             "outlinewidth": 0,
             "ticks": ""
            },
            "type": "mesh3d"
           }
          ],
          "parcoords": [
           {
            "line": {
             "colorbar": {
              "outlinewidth": 0,
              "ticks": ""
             }
            },
            "type": "parcoords"
           }
          ],
          "pie": [
           {
            "automargin": true,
            "type": "pie"
           }
          ],
          "scatter": [
           {
            "marker": {
             "colorbar": {
              "outlinewidth": 0,
              "ticks": ""
             }
            },
            "type": "scatter"
           }
          ],
          "scatter3d": [
           {
            "line": {
             "colorbar": {
              "outlinewidth": 0,
              "ticks": ""
             }
            },
            "marker": {
             "colorbar": {
              "outlinewidth": 0,
              "ticks": ""
             }
            },
            "type": "scatter3d"
           }
          ],
          "scattercarpet": [
           {
            "marker": {
             "colorbar": {
              "outlinewidth": 0,
              "ticks": ""
             }
            },
            "type": "scattercarpet"
           }
          ],
          "scattergeo": [
           {
            "marker": {
             "colorbar": {
              "outlinewidth": 0,
              "ticks": ""
             }
            },
            "type": "scattergeo"
           }
          ],
          "scattergl": [
           {
            "marker": {
             "colorbar": {
              "outlinewidth": 0,
              "ticks": ""
             }
            },
            "type": "scattergl"
           }
          ],
          "scattermapbox": [
           {
            "marker": {
             "colorbar": {
              "outlinewidth": 0,
              "ticks": ""
             }
            },
            "type": "scattermapbox"
           }
          ],
          "scatterpolar": [
           {
            "marker": {
             "colorbar": {
              "outlinewidth": 0,
              "ticks": ""
             }
            },
            "type": "scatterpolar"
           }
          ],
          "scatterpolargl": [
           {
            "marker": {
             "colorbar": {
              "outlinewidth": 0,
              "ticks": ""
             }
            },
            "type": "scatterpolargl"
           }
          ],
          "scatterternary": [
           {
            "marker": {
             "colorbar": {
              "outlinewidth": 0,
              "ticks": ""
             }
            },
            "type": "scatterternary"
           }
          ],
          "surface": [
           {
            "colorbar": {
             "outlinewidth": 0,
             "ticks": ""
            },
            "colorscale": [
             [
              0,
              "#0d0887"
             ],
             [
              0.1111111111111111,
              "#46039f"
             ],
             [
              0.2222222222222222,
              "#7201a8"
             ],
             [
              0.3333333333333333,
              "#9c179e"
             ],
             [
              0.4444444444444444,
              "#bd3786"
             ],
             [
              0.5555555555555556,
              "#d8576b"
             ],
             [
              0.6666666666666666,
              "#ed7953"
             ],
             [
              0.7777777777777778,
              "#fb9f3a"
             ],
             [
              0.8888888888888888,
              "#fdca26"
             ],
             [
              1,
              "#f0f921"
             ]
            ],
            "type": "surface"
           }
          ],
          "table": [
           {
            "cells": {
             "fill": {
              "color": "#EBF0F8"
             },
             "line": {
              "color": "white"
             }
            },
            "header": {
             "fill": {
              "color": "#C8D4E3"
             },
             "line": {
              "color": "white"
             }
            },
            "type": "table"
           }
          ]
         },
         "layout": {
          "annotationdefaults": {
           "arrowcolor": "#2a3f5f",
           "arrowhead": 0,
           "arrowwidth": 1
          },
          "autotypenumbers": "strict",
          "coloraxis": {
           "colorbar": {
            "outlinewidth": 0,
            "ticks": ""
           }
          },
          "colorscale": {
           "diverging": [
            [
             0,
             "#8e0152"
            ],
            [
             0.1,
             "#c51b7d"
            ],
            [
             0.2,
             "#de77ae"
            ],
            [
             0.3,
             "#f1b6da"
            ],
            [
             0.4,
             "#fde0ef"
            ],
            [
             0.5,
             "#f7f7f7"
            ],
            [
             0.6,
             "#e6f5d0"
            ],
            [
             0.7,
             "#b8e186"
            ],
            [
             0.8,
             "#7fbc41"
            ],
            [
             0.9,
             "#4d9221"
            ],
            [
             1,
             "#276419"
            ]
           ],
           "sequential": [
            [
             0,
             "#0d0887"
            ],
            [
             0.1111111111111111,
             "#46039f"
            ],
            [
             0.2222222222222222,
             "#7201a8"
            ],
            [
             0.3333333333333333,
             "#9c179e"
            ],
            [
             0.4444444444444444,
             "#bd3786"
            ],
            [
             0.5555555555555556,
             "#d8576b"
            ],
            [
             0.6666666666666666,
             "#ed7953"
            ],
            [
             0.7777777777777778,
             "#fb9f3a"
            ],
            [
             0.8888888888888888,
             "#fdca26"
            ],
            [
             1,
             "#f0f921"
            ]
           ],
           "sequentialminus": [
            [
             0,
             "#0d0887"
            ],
            [
             0.1111111111111111,
             "#46039f"
            ],
            [
             0.2222222222222222,
             "#7201a8"
            ],
            [
             0.3333333333333333,
             "#9c179e"
            ],
            [
             0.4444444444444444,
             "#bd3786"
            ],
            [
             0.5555555555555556,
             "#d8576b"
            ],
            [
             0.6666666666666666,
             "#ed7953"
            ],
            [
             0.7777777777777778,
             "#fb9f3a"
            ],
            [
             0.8888888888888888,
             "#fdca26"
            ],
            [
             1,
             "#f0f921"
            ]
           ]
          },
          "colorway": [
           "#636efa",
           "#EF553B",
           "#00cc96",
           "#ab63fa",
           "#FFA15A",
           "#19d3f3",
           "#FF6692",
           "#B6E880",
           "#FF97FF",
           "#FECB52"
          ],
          "font": {
           "color": "#2a3f5f"
          },
          "geo": {
           "bgcolor": "white",
           "lakecolor": "white",
           "landcolor": "#E5ECF6",
           "showlakes": true,
           "showland": true,
           "subunitcolor": "white"
          },
          "hoverlabel": {
           "align": "left"
          },
          "hovermode": "closest",
          "mapbox": {
           "style": "light"
          },
          "paper_bgcolor": "white",
          "plot_bgcolor": "#E5ECF6",
          "polar": {
           "angularaxis": {
            "gridcolor": "white",
            "linecolor": "white",
            "ticks": ""
           },
           "bgcolor": "#E5ECF6",
           "radialaxis": {
            "gridcolor": "white",
            "linecolor": "white",
            "ticks": ""
           }
          },
          "scene": {
           "xaxis": {
            "backgroundcolor": "#E5ECF6",
            "gridcolor": "white",
            "gridwidth": 2,
            "linecolor": "white",
            "showbackground": true,
            "ticks": "",
            "zerolinecolor": "white"
           },
           "yaxis": {
            "backgroundcolor": "#E5ECF6",
            "gridcolor": "white",
            "gridwidth": 2,
            "linecolor": "white",
            "showbackground": true,
            "ticks": "",
            "zerolinecolor": "white"
           },
           "zaxis": {
            "backgroundcolor": "#E5ECF6",
            "gridcolor": "white",
            "gridwidth": 2,
            "linecolor": "white",
            "showbackground": true,
            "ticks": "",
            "zerolinecolor": "white"
           }
          },
          "shapedefaults": {
           "line": {
            "color": "#2a3f5f"
           }
          },
          "ternary": {
           "aaxis": {
            "gridcolor": "white",
            "linecolor": "white",
            "ticks": ""
           },
           "baxis": {
            "gridcolor": "white",
            "linecolor": "white",
            "ticks": ""
           },
           "bgcolor": "#E5ECF6",
           "caxis": {
            "gridcolor": "white",
            "linecolor": "white",
            "ticks": ""
           }
          },
          "title": {
           "x": 0.05
          },
          "xaxis": {
           "automargin": true,
           "gridcolor": "white",
           "linecolor": "white",
           "ticks": "",
           "title": {
            "standoff": 15
           },
           "zerolinecolor": "white",
           "zerolinewidth": 2
          },
          "yaxis": {
           "automargin": true,
           "gridcolor": "white",
           "linecolor": "white",
           "ticks": "",
           "title": {
            "standoff": 15
           },
           "zerolinecolor": "white",
           "zerolinewidth": 2
          }
         }
        },
        "title": {
         "text": "cumPeopleVaccinatedCompleteByPublishDate"
        },
        "xaxis": {
         "anchor": "y",
         "domain": [
          0,
          1
         ],
         "title": {
          "text": "date"
         }
        },
        "yaxis": {
         "anchor": "x",
         "domain": [
          0,
          1
         ],
         "title": {
          "text": "cumPeopleVaccinatedCompleteByPublishDate"
         }
        }
       }
      }
     },
     "metadata": {}
    },
    {
     "output_type": "display_data",
     "data": {
      "application/vnd.plotly.v1+json": {
       "config": {
        "plotlyServerURL": "https://plot.ly"
       },
       "data": [
        {
         "hovertemplate": "date=%{x}<br>cumPeopleVaccinatedFirstDoseByPublishDate=%{y}<extra></extra>",
         "legendgroup": "",
         "line": {
          "color": "#636efa",
          "dash": "solid"
         },
         "marker": {
          "symbol": "circle"
         },
         "mode": "lines",
         "name": "",
         "orientation": "v",
         "showlegend": false,
         "type": "scatter",
         "x": [
          "2021-10-04T00:00:00",
          "2021-10-03T00:00:00",
          "2021-10-02T00:00:00",
          "2021-10-01T00:00:00",
          "2021-09-30T00:00:00",
          "2021-09-29T00:00:00",
          "2021-09-28T00:00:00",
          "2021-09-27T00:00:00",
          "2021-09-26T00:00:00",
          "2021-09-25T00:00:00",
          "2021-09-24T00:00:00",
          "2021-09-23T00:00:00",
          "2021-09-22T00:00:00",
          "2021-09-21T00:00:00",
          "2021-09-20T00:00:00",
          "2021-09-19T00:00:00",
          "2021-09-18T00:00:00",
          "2021-09-17T00:00:00",
          "2021-09-16T00:00:00",
          "2021-09-15T00:00:00",
          "2021-09-14T00:00:00",
          "2021-09-13T00:00:00",
          "2021-09-12T00:00:00",
          "2021-09-11T00:00:00",
          "2021-09-10T00:00:00",
          "2021-09-09T00:00:00",
          "2021-09-08T00:00:00",
          "2021-09-07T00:00:00",
          "2021-09-06T00:00:00",
          "2021-09-05T00:00:00",
          "2021-09-04T00:00:00",
          "2021-09-03T00:00:00",
          "2021-09-02T00:00:00",
          "2021-09-01T00:00:00",
          "2021-08-31T00:00:00",
          "2021-08-30T00:00:00",
          "2021-08-29T00:00:00",
          "2021-08-28T00:00:00",
          "2021-08-27T00:00:00",
          "2021-08-26T00:00:00",
          "2021-08-25T00:00:00",
          "2021-08-24T00:00:00",
          "2021-08-23T00:00:00",
          "2021-08-22T00:00:00",
          "2021-08-21T00:00:00",
          "2021-08-20T00:00:00",
          "2021-08-19T00:00:00",
          "2021-08-18T00:00:00",
          "2021-08-17T00:00:00",
          "2021-08-16T00:00:00",
          "2021-08-15T00:00:00",
          "2021-08-14T00:00:00",
          "2021-08-13T00:00:00",
          "2021-08-12T00:00:00",
          "2021-08-11T00:00:00",
          "2021-08-10T00:00:00",
          "2021-08-09T00:00:00",
          "2021-08-08T00:00:00",
          "2021-08-07T00:00:00",
          "2021-08-06T00:00:00",
          "2021-08-05T00:00:00",
          "2021-08-04T00:00:00",
          "2021-08-03T00:00:00",
          "2021-08-02T00:00:00",
          "2021-08-01T00:00:00",
          "2021-07-31T00:00:00",
          "2021-07-30T00:00:00",
          "2021-07-29T00:00:00",
          "2021-07-28T00:00:00",
          "2021-07-27T00:00:00",
          "2021-07-26T00:00:00",
          "2021-07-25T00:00:00",
          "2021-07-24T00:00:00",
          "2021-07-23T00:00:00",
          "2021-07-22T00:00:00",
          "2021-07-21T00:00:00",
          "2021-07-20T00:00:00",
          "2021-07-19T00:00:00",
          "2021-07-18T00:00:00",
          "2021-07-17T00:00:00",
          "2021-07-16T00:00:00",
          "2021-07-15T00:00:00",
          "2021-07-14T00:00:00",
          "2021-07-13T00:00:00",
          "2021-07-12T00:00:00",
          "2021-07-11T00:00:00",
          "2021-07-10T00:00:00",
          "2021-07-09T00:00:00",
          "2021-07-08T00:00:00",
          "2021-07-07T00:00:00",
          "2021-07-06T00:00:00",
          "2021-07-05T00:00:00",
          "2021-07-04T00:00:00",
          "2021-07-03T00:00:00",
          "2021-07-02T00:00:00",
          "2021-07-01T00:00:00",
          "2021-06-30T00:00:00",
          "2021-06-29T00:00:00",
          "2021-06-28T00:00:00",
          "2021-06-27T00:00:00",
          "2021-06-26T00:00:00",
          "2021-06-25T00:00:00",
          "2021-06-24T00:00:00",
          "2021-06-23T00:00:00",
          "2021-06-22T00:00:00",
          "2021-06-21T00:00:00",
          "2021-06-20T00:00:00",
          "2021-06-19T00:00:00",
          "2021-06-18T00:00:00",
          "2021-06-17T00:00:00",
          "2021-06-16T00:00:00",
          "2021-06-15T00:00:00",
          "2021-06-14T00:00:00",
          "2021-06-13T00:00:00",
          "2021-06-12T00:00:00",
          "2021-06-11T00:00:00",
          "2021-06-10T00:00:00",
          "2021-06-09T00:00:00",
          "2021-06-08T00:00:00",
          "2021-06-07T00:00:00",
          "2021-06-06T00:00:00",
          "2021-06-05T00:00:00",
          "2021-06-04T00:00:00",
          "2021-06-03T00:00:00",
          "2021-06-02T00:00:00",
          "2021-06-01T00:00:00",
          "2021-05-31T00:00:00",
          "2021-05-30T00:00:00",
          "2021-05-29T00:00:00",
          "2021-05-28T00:00:00",
          "2021-05-27T00:00:00",
          "2021-05-26T00:00:00",
          "2021-05-25T00:00:00",
          "2021-05-24T00:00:00",
          "2021-05-23T00:00:00",
          "2021-05-22T00:00:00",
          "2021-05-21T00:00:00",
          "2021-05-20T00:00:00",
          "2021-05-19T00:00:00",
          "2021-05-18T00:00:00",
          "2021-05-17T00:00:00",
          "2021-05-16T00:00:00",
          "2021-05-15T00:00:00",
          "2021-05-14T00:00:00",
          "2021-05-13T00:00:00",
          "2021-05-12T00:00:00",
          "2021-05-11T00:00:00",
          "2021-05-10T00:00:00",
          "2021-05-09T00:00:00",
          "2021-05-08T00:00:00",
          "2021-05-07T00:00:00",
          "2021-05-06T00:00:00",
          "2021-05-05T00:00:00",
          "2021-05-04T00:00:00",
          "2021-05-03T00:00:00",
          "2021-05-02T00:00:00",
          "2021-05-01T00:00:00",
          "2021-04-30T00:00:00",
          "2021-04-29T00:00:00",
          "2021-04-28T00:00:00",
          "2021-04-27T00:00:00",
          "2021-04-26T00:00:00",
          "2021-04-25T00:00:00",
          "2021-04-24T00:00:00",
          "2021-04-23T00:00:00",
          "2021-04-22T00:00:00",
          "2021-04-21T00:00:00",
          "2021-04-20T00:00:00",
          "2021-04-19T00:00:00",
          "2021-04-18T00:00:00",
          "2021-04-17T00:00:00",
          "2021-04-16T00:00:00",
          "2021-04-15T00:00:00",
          "2021-04-14T00:00:00",
          "2021-04-13T00:00:00",
          "2021-04-12T00:00:00",
          "2021-04-11T00:00:00",
          "2021-04-10T00:00:00",
          "2021-04-09T00:00:00",
          "2021-04-08T00:00:00",
          "2021-04-07T00:00:00",
          "2021-04-06T00:00:00",
          "2021-04-05T00:00:00",
          "2021-04-04T00:00:00",
          "2021-04-03T00:00:00",
          "2021-04-02T00:00:00",
          "2021-04-01T00:00:00",
          "2021-03-31T00:00:00",
          "2021-03-30T00:00:00",
          "2021-03-29T00:00:00",
          "2021-03-28T00:00:00",
          "2021-03-27T00:00:00",
          "2021-03-26T00:00:00",
          "2021-03-25T00:00:00",
          "2021-03-24T00:00:00",
          "2021-03-23T00:00:00",
          "2021-03-22T00:00:00",
          "2021-03-21T00:00:00",
          "2021-03-20T00:00:00",
          "2021-03-19T00:00:00",
          "2021-03-18T00:00:00",
          "2021-03-17T00:00:00",
          "2021-03-16T00:00:00",
          "2021-03-15T00:00:00",
          "2021-03-14T00:00:00",
          "2021-03-13T00:00:00",
          "2021-03-12T00:00:00",
          "2021-03-11T00:00:00",
          "2021-03-10T00:00:00",
          "2021-03-09T00:00:00",
          "2021-03-08T00:00:00",
          "2021-03-07T00:00:00",
          "2021-03-06T00:00:00",
          "2021-03-05T00:00:00",
          "2021-03-04T00:00:00",
          "2021-03-03T00:00:00",
          "2021-03-02T00:00:00",
          "2021-03-01T00:00:00",
          "2021-02-28T00:00:00",
          "2021-02-27T00:00:00",
          "2021-02-26T00:00:00",
          "2021-02-25T00:00:00",
          "2021-02-24T00:00:00",
          "2021-02-23T00:00:00",
          "2021-02-22T00:00:00",
          "2021-02-21T00:00:00",
          "2021-02-20T00:00:00",
          "2021-02-19T00:00:00",
          "2021-02-18T00:00:00",
          "2021-02-17T00:00:00",
          "2021-02-16T00:00:00",
          "2021-02-15T00:00:00",
          "2021-02-14T00:00:00",
          "2021-02-13T00:00:00",
          "2021-02-12T00:00:00",
          "2021-02-11T00:00:00",
          "2021-02-10T00:00:00",
          "2021-02-09T00:00:00",
          "2021-02-08T00:00:00",
          "2021-02-07T00:00:00",
          "2021-02-06T00:00:00",
          "2021-02-05T00:00:00",
          "2021-02-04T00:00:00",
          "2021-02-03T00:00:00",
          "2021-02-02T00:00:00",
          "2021-02-01T00:00:00",
          "2021-01-31T00:00:00",
          "2021-01-30T00:00:00",
          "2021-01-29T00:00:00",
          "2021-01-28T00:00:00",
          "2021-01-27T00:00:00",
          "2021-01-26T00:00:00",
          "2021-01-25T00:00:00",
          "2021-01-24T00:00:00",
          "2021-01-23T00:00:00",
          "2021-01-22T00:00:00",
          "2021-01-21T00:00:00",
          "2021-01-20T00:00:00",
          "2021-01-19T00:00:00",
          "2021-01-18T00:00:00",
          "2021-01-17T00:00:00",
          "2021-01-16T00:00:00",
          "2021-01-15T00:00:00",
          "2021-01-14T00:00:00",
          "2021-01-13T00:00:00",
          "2021-01-12T00:00:00",
          "2021-01-11T00:00:00",
          "2021-01-10T00:00:00"
         ],
         "xaxis": "x",
         "y": [
          48994530,
          48956859,
          48932736,
          48901670,
          48863490,
          48829118,
          48797579,
          48765726,
          48740807,
          48724823,
          48700527,
          48672910,
          48647827,
          48625148,
          48604764,
          48584614,
          48570774,
          48544576,
          48523798,
          48500747,
          48476345,
          48458700,
          48439272,
          48424317,
          48396404,
          48370340,
          48344566,
          48319435,
          48292811,
          48270113,
          48248318,
          48207264,
          48171998,
          48131996,
          48087908,
          48048009,
          48028366,
          48003976,
          47960705,
          47915768,
          47860628,
          47792552,
          47737142,
          47690741,
          47650396,
          47577390,
          47516505,
          47460526,
          47413242,
          47369418,
          47333702,
          47302445,
          47255842,
          47215352,
          47170968,
          47129400,
          47091889,
          47059639,
          47036796,
          46998806,
          46961830,
          46926330,
          46892996,
          46863706,
          46837614,
          46816382,
          46777556,
          46740832,
          46698479,
          46654632,
          46619230,
          46589211,
          46564660,
          46520855,
          46477881,
          46433845,
          46388744,
          46349709,
          46314039,
          46295853,
          46228636,
          46159145,
          46097464,
          46037090,
          45978017,
          45923721,
          45881721,
          45787958,
          45697875,
          45601445,
          45514492,
          45428681,
          45351719,
          45274497,
          45137108,
          45013503,
          44860978,
          44719762,
          44581771,
          44454511,
          44314799,
          44080358,
          43877861,
          43656327,
          43448680,
          43148843,
          43127763,
          42964013,
          42683772,
          42460632,
          42216654,
          42021089,
          41831056,
          41698429,
          41551201,
          41297016,
          41088485,
          40886878,
          40710319,
          40573517,
          40460576,
          40333231,
          40129618,
          39949694,
          39758428,
          39585665,
          39477158,
          39384055,
          39259168,
          39075642,
          38871200,
          38614683,
          38378564,
          38192417,
          38070038,
          37943681,
          37738271,
          37518614,
          37250363,
          36985505,
          36811405,
          36704672,
          36573354,
          36336023,
          36115955,
          35906671,
          35722461,
          35587348,
          35472295,
          35371669,
          35202642,
          35069641,
          34934171,
          34795074,
          34667904,
          34595304,
          34505380,
          34362205,
          34216616,
          34094048,
          33959908,
          33843580,
          33752885,
          33673190,
          33524423,
          33388637,
          33257651,
          33139742,
          33032120,
          32932448,
          32849223,
          32709778,
          32574221,
          32444439,
          32326604,
          32250481,
          32190576,
          32121353,
          32010244,
          31903366,
          31807124,
          31707594,
          31622367,
          31581623,
          31533568,
          31425682,
          31318262,
          31147444,
          30908010,
          30682093,
          30445284,
          30151736,
          29727435,
          29316130,
          28991188,
          28653523,
          28327873,
          27997976,
          27630970,
          26878662,
          26263732,
          25735472,
          25273226,
          24839906,
          24453221,
          24196211,
          23684103,
          23314525,
          23053716,
          22809829,
          22592528,
          22377255,
          22213112,
          21796278,
          21358815,
          20982571,
          20703615,
          20478619,
          20275451,
          20089551,
          19682048,
          19177555,
          18691835,
          18242873,
          17916181,
          17723840,
          17582121,
          17247442,
          16875536,
          16423082,
          15940972,
          15576107,
          15300151,
          15062189,
          14556827,
          14012224,
          13509108,
          13058298,
          12646486,
          12294006,
          12015018,
          11465210,
          10971047,
          10490487,
          10021471,
          9646715,
          9296367,
          8977329,
          8378940,
          7891184,
          7476765,
          7164387,
          6853327,
          6573570,
          6353321,
          5861351,
          5383103,
          4973248,
          4609740,
          4266577,
          4062501,
          3872394,
          3576263,
          3234946,
          2918252,
          2639309,
          2431648,
          2286572
         ],
         "yaxis": "y"
        }
       ],
       "layout": {
        "legend": {
         "tracegroupgap": 0
        },
        "template": {
         "data": {
          "bar": [
           {
            "error_x": {
             "color": "#2a3f5f"
            },
            "error_y": {
             "color": "#2a3f5f"
            },
            "marker": {
             "line": {
              "color": "#E5ECF6",
              "width": 0.5
             },
             "pattern": {
              "fillmode": "overlay",
              "size": 10,
              "solidity": 0.2
             }
            },
            "type": "bar"
           }
          ],
          "barpolar": [
           {
            "marker": {
             "line": {
              "color": "#E5ECF6",
              "width": 0.5
             },
             "pattern": {
              "fillmode": "overlay",
              "size": 10,
              "solidity": 0.2
             }
            },
            "type": "barpolar"
           }
          ],
          "carpet": [
           {
            "aaxis": {
             "endlinecolor": "#2a3f5f",
             "gridcolor": "white",
             "linecolor": "white",
             "minorgridcolor": "white",
             "startlinecolor": "#2a3f5f"
            },
            "baxis": {
             "endlinecolor": "#2a3f5f",
             "gridcolor": "white",
             "linecolor": "white",
             "minorgridcolor": "white",
             "startlinecolor": "#2a3f5f"
            },
            "type": "carpet"
           }
          ],
          "choropleth": [
           {
            "colorbar": {
             "outlinewidth": 0,
             "ticks": ""
            },
            "type": "choropleth"
           }
          ],
          "contour": [
           {
            "colorbar": {
             "outlinewidth": 0,
             "ticks": ""
            },
            "colorscale": [
             [
              0,
              "#0d0887"
             ],
             [
              0.1111111111111111,
              "#46039f"
             ],
             [
              0.2222222222222222,
              "#7201a8"
             ],
             [
              0.3333333333333333,
              "#9c179e"
             ],
             [
              0.4444444444444444,
              "#bd3786"
             ],
             [
              0.5555555555555556,
              "#d8576b"
             ],
             [
              0.6666666666666666,
              "#ed7953"
             ],
             [
              0.7777777777777778,
              "#fb9f3a"
             ],
             [
              0.8888888888888888,
              "#fdca26"
             ],
             [
              1,
              "#f0f921"
             ]
            ],
            "type": "contour"
           }
          ],
          "contourcarpet": [
           {
            "colorbar": {
             "outlinewidth": 0,
             "ticks": ""
            },
            "type": "contourcarpet"
           }
          ],
          "heatmap": [
           {
            "colorbar": {
             "outlinewidth": 0,
             "ticks": ""
            },
            "colorscale": [
             [
              0,
              "#0d0887"
             ],
             [
              0.1111111111111111,
              "#46039f"
             ],
             [
              0.2222222222222222,
              "#7201a8"
             ],
             [
              0.3333333333333333,
              "#9c179e"
             ],
             [
              0.4444444444444444,
              "#bd3786"
             ],
             [
              0.5555555555555556,
              "#d8576b"
             ],
             [
              0.6666666666666666,
              "#ed7953"
             ],
             [
              0.7777777777777778,
              "#fb9f3a"
             ],
             [
              0.8888888888888888,
              "#fdca26"
             ],
             [
              1,
              "#f0f921"
             ]
            ],
            "type": "heatmap"
           }
          ],
          "heatmapgl": [
           {
            "colorbar": {
             "outlinewidth": 0,
             "ticks": ""
            },
            "colorscale": [
             [
              0,
              "#0d0887"
             ],
             [
              0.1111111111111111,
              "#46039f"
             ],
             [
              0.2222222222222222,
              "#7201a8"
             ],
             [
              0.3333333333333333,
              "#9c179e"
             ],
             [
              0.4444444444444444,
              "#bd3786"
             ],
             [
              0.5555555555555556,
              "#d8576b"
             ],
             [
              0.6666666666666666,
              "#ed7953"
             ],
             [
              0.7777777777777778,
              "#fb9f3a"
             ],
             [
              0.8888888888888888,
              "#fdca26"
             ],
             [
              1,
              "#f0f921"
             ]
            ],
            "type": "heatmapgl"
           }
          ],
          "histogram": [
           {
            "marker": {
             "pattern": {
              "fillmode": "overlay",
              "size": 10,
              "solidity": 0.2
             }
            },
            "type": "histogram"
           }
          ],
          "histogram2d": [
           {
            "colorbar": {
             "outlinewidth": 0,
             "ticks": ""
            },
            "colorscale": [
             [
              0,
              "#0d0887"
             ],
             [
              0.1111111111111111,
              "#46039f"
             ],
             [
              0.2222222222222222,
              "#7201a8"
             ],
             [
              0.3333333333333333,
              "#9c179e"
             ],
             [
              0.4444444444444444,
              "#bd3786"
             ],
             [
              0.5555555555555556,
              "#d8576b"
             ],
             [
              0.6666666666666666,
              "#ed7953"
             ],
             [
              0.7777777777777778,
              "#fb9f3a"
             ],
             [
              0.8888888888888888,
              "#fdca26"
             ],
             [
              1,
              "#f0f921"
             ]
            ],
            "type": "histogram2d"
           }
          ],
          "histogram2dcontour": [
           {
            "colorbar": {
             "outlinewidth": 0,
             "ticks": ""
            },
            "colorscale": [
             [
              0,
              "#0d0887"
             ],
             [
              0.1111111111111111,
              "#46039f"
             ],
             [
              0.2222222222222222,
              "#7201a8"
             ],
             [
              0.3333333333333333,
              "#9c179e"
             ],
             [
              0.4444444444444444,
              "#bd3786"
             ],
             [
              0.5555555555555556,
              "#d8576b"
             ],
             [
              0.6666666666666666,
              "#ed7953"
             ],
             [
              0.7777777777777778,
              "#fb9f3a"
             ],
             [
              0.8888888888888888,
              "#fdca26"
             ],
             [
              1,
              "#f0f921"
             ]
            ],
            "type": "histogram2dcontour"
           }
          ],
          "mesh3d": [
           {
            "colorbar": {
             "outlinewidth": 0,
             "ticks": ""
            },
            "type": "mesh3d"
           }
          ],
          "parcoords": [
           {
            "line": {
             "colorbar": {
              "outlinewidth": 0,
              "ticks": ""
             }
            },
            "type": "parcoords"
           }
          ],
          "pie": [
           {
            "automargin": true,
            "type": "pie"
           }
          ],
          "scatter": [
           {
            "marker": {
             "colorbar": {
              "outlinewidth": 0,
              "ticks": ""
             }
            },
            "type": "scatter"
           }
          ],
          "scatter3d": [
           {
            "line": {
             "colorbar": {
              "outlinewidth": 0,
              "ticks": ""
             }
            },
            "marker": {
             "colorbar": {
              "outlinewidth": 0,
              "ticks": ""
             }
            },
            "type": "scatter3d"
           }
          ],
          "scattercarpet": [
           {
            "marker": {
             "colorbar": {
              "outlinewidth": 0,
              "ticks": ""
             }
            },
            "type": "scattercarpet"
           }
          ],
          "scattergeo": [
           {
            "marker": {
             "colorbar": {
              "outlinewidth": 0,
              "ticks": ""
             }
            },
            "type": "scattergeo"
           }
          ],
          "scattergl": [
           {
            "marker": {
             "colorbar": {
              "outlinewidth": 0,
              "ticks": ""
             }
            },
            "type": "scattergl"
           }
          ],
          "scattermapbox": [
           {
            "marker": {
             "colorbar": {
              "outlinewidth": 0,
              "ticks": ""
             }
            },
            "type": "scattermapbox"
           }
          ],
          "scatterpolar": [
           {
            "marker": {
             "colorbar": {
              "outlinewidth": 0,
              "ticks": ""
             }
            },
            "type": "scatterpolar"
           }
          ],
          "scatterpolargl": [
           {
            "marker": {
             "colorbar": {
              "outlinewidth": 0,
              "ticks": ""
             }
            },
            "type": "scatterpolargl"
           }
          ],
          "scatterternary": [
           {
            "marker": {
             "colorbar": {
              "outlinewidth": 0,
              "ticks": ""
             }
            },
            "type": "scatterternary"
           }
          ],
          "surface": [
           {
            "colorbar": {
             "outlinewidth": 0,
             "ticks": ""
            },
            "colorscale": [
             [
              0,
              "#0d0887"
             ],
             [
              0.1111111111111111,
              "#46039f"
             ],
             [
              0.2222222222222222,
              "#7201a8"
             ],
             [
              0.3333333333333333,
              "#9c179e"
             ],
             [
              0.4444444444444444,
              "#bd3786"
             ],
             [
              0.5555555555555556,
              "#d8576b"
             ],
             [
              0.6666666666666666,
              "#ed7953"
             ],
             [
              0.7777777777777778,
              "#fb9f3a"
             ],
             [
              0.8888888888888888,
              "#fdca26"
             ],
             [
              1,
              "#f0f921"
             ]
            ],
            "type": "surface"
           }
          ],
          "table": [
           {
            "cells": {
             "fill": {
              "color": "#EBF0F8"
             },
             "line": {
              "color": "white"
             }
            },
            "header": {
             "fill": {
              "color": "#C8D4E3"
             },
             "line": {
              "color": "white"
             }
            },
            "type": "table"
           }
          ]
         },
         "layout": {
          "annotationdefaults": {
           "arrowcolor": "#2a3f5f",
           "arrowhead": 0,
           "arrowwidth": 1
          },
          "autotypenumbers": "strict",
          "coloraxis": {
           "colorbar": {
            "outlinewidth": 0,
            "ticks": ""
           }
          },
          "colorscale": {
           "diverging": [
            [
             0,
             "#8e0152"
            ],
            [
             0.1,
             "#c51b7d"
            ],
            [
             0.2,
             "#de77ae"
            ],
            [
             0.3,
             "#f1b6da"
            ],
            [
             0.4,
             "#fde0ef"
            ],
            [
             0.5,
             "#f7f7f7"
            ],
            [
             0.6,
             "#e6f5d0"
            ],
            [
             0.7,
             "#b8e186"
            ],
            [
             0.8,
             "#7fbc41"
            ],
            [
             0.9,
             "#4d9221"
            ],
            [
             1,
             "#276419"
            ]
           ],
           "sequential": [
            [
             0,
             "#0d0887"
            ],
            [
             0.1111111111111111,
             "#46039f"
            ],
            [
             0.2222222222222222,
             "#7201a8"
            ],
            [
             0.3333333333333333,
             "#9c179e"
            ],
            [
             0.4444444444444444,
             "#bd3786"
            ],
            [
             0.5555555555555556,
             "#d8576b"
            ],
            [
             0.6666666666666666,
             "#ed7953"
            ],
            [
             0.7777777777777778,
             "#fb9f3a"
            ],
            [
             0.8888888888888888,
             "#fdca26"
            ],
            [
             1,
             "#f0f921"
            ]
           ],
           "sequentialminus": [
            [
             0,
             "#0d0887"
            ],
            [
             0.1111111111111111,
             "#46039f"
            ],
            [
             0.2222222222222222,
             "#7201a8"
            ],
            [
             0.3333333333333333,
             "#9c179e"
            ],
            [
             0.4444444444444444,
             "#bd3786"
            ],
            [
             0.5555555555555556,
             "#d8576b"
            ],
            [
             0.6666666666666666,
             "#ed7953"
            ],
            [
             0.7777777777777778,
             "#fb9f3a"
            ],
            [
             0.8888888888888888,
             "#fdca26"
            ],
            [
             1,
             "#f0f921"
            ]
           ]
          },
          "colorway": [
           "#636efa",
           "#EF553B",
           "#00cc96",
           "#ab63fa",
           "#FFA15A",
           "#19d3f3",
           "#FF6692",
           "#B6E880",
           "#FF97FF",
           "#FECB52"
          ],
          "font": {
           "color": "#2a3f5f"
          },
          "geo": {
           "bgcolor": "white",
           "lakecolor": "white",
           "landcolor": "#E5ECF6",
           "showlakes": true,
           "showland": true,
           "subunitcolor": "white"
          },
          "hoverlabel": {
           "align": "left"
          },
          "hovermode": "closest",
          "mapbox": {
           "style": "light"
          },
          "paper_bgcolor": "white",
          "plot_bgcolor": "#E5ECF6",
          "polar": {
           "angularaxis": {
            "gridcolor": "white",
            "linecolor": "white",
            "ticks": ""
           },
           "bgcolor": "#E5ECF6",
           "radialaxis": {
            "gridcolor": "white",
            "linecolor": "white",
            "ticks": ""
           }
          },
          "scene": {
           "xaxis": {
            "backgroundcolor": "#E5ECF6",
            "gridcolor": "white",
            "gridwidth": 2,
            "linecolor": "white",
            "showbackground": true,
            "ticks": "",
            "zerolinecolor": "white"
           },
           "yaxis": {
            "backgroundcolor": "#E5ECF6",
            "gridcolor": "white",
            "gridwidth": 2,
            "linecolor": "white",
            "showbackground": true,
            "ticks": "",
            "zerolinecolor": "white"
           },
           "zaxis": {
            "backgroundcolor": "#E5ECF6",
            "gridcolor": "white",
            "gridwidth": 2,
            "linecolor": "white",
            "showbackground": true,
            "ticks": "",
            "zerolinecolor": "white"
           }
          },
          "shapedefaults": {
           "line": {
            "color": "#2a3f5f"
           }
          },
          "ternary": {
           "aaxis": {
            "gridcolor": "white",
            "linecolor": "white",
            "ticks": ""
           },
           "baxis": {
            "gridcolor": "white",
            "linecolor": "white",
            "ticks": ""
           },
           "bgcolor": "#E5ECF6",
           "caxis": {
            "gridcolor": "white",
            "linecolor": "white",
            "ticks": ""
           }
          },
          "title": {
           "x": 0.05
          },
          "xaxis": {
           "automargin": true,
           "gridcolor": "white",
           "linecolor": "white",
           "ticks": "",
           "title": {
            "standoff": 15
           },
           "zerolinecolor": "white",
           "zerolinewidth": 2
          },
          "yaxis": {
           "automargin": true,
           "gridcolor": "white",
           "linecolor": "white",
           "ticks": "",
           "title": {
            "standoff": 15
           },
           "zerolinecolor": "white",
           "zerolinewidth": 2
          }
         }
        },
        "title": {
         "text": "cumPeopleVaccinatedFirstDoseByPublishDate"
        },
        "xaxis": {
         "anchor": "y",
         "domain": [
          0,
          1
         ],
         "title": {
          "text": "date"
         }
        },
        "yaxis": {
         "anchor": "x",
         "domain": [
          0,
          1
         ],
         "title": {
          "text": "cumPeopleVaccinatedFirstDoseByPublishDate"
         }
        }
       }
      }
     },
     "metadata": {}
    },
    {
     "output_type": "display_data",
     "data": {
      "application/vnd.plotly.v1+json": {
       "config": {
        "plotlyServerURL": "https://plot.ly"
       },
       "data": [
        {
         "hovertemplate": "date=%{x}<br>cumPeopleVaccinatedSecondDoseByPublishDate=%{y}<extra></extra>",
         "legendgroup": "",
         "line": {
          "color": "#636efa",
          "dash": "solid"
         },
         "marker": {
          "symbol": "circle"
         },
         "mode": "lines",
         "name": "",
         "orientation": "v",
         "showlegend": false,
         "type": "scatter",
         "x": [
          "2021-10-04T00:00:00",
          "2021-10-03T00:00:00",
          "2021-10-02T00:00:00",
          "2021-10-01T00:00:00",
          "2021-09-30T00:00:00",
          "2021-09-29T00:00:00",
          "2021-09-28T00:00:00",
          "2021-09-27T00:00:00",
          "2021-09-26T00:00:00",
          "2021-09-25T00:00:00",
          "2021-09-24T00:00:00",
          "2021-09-23T00:00:00",
          "2021-09-22T00:00:00",
          "2021-09-21T00:00:00",
          "2021-09-20T00:00:00",
          "2021-09-19T00:00:00",
          "2021-09-18T00:00:00",
          "2021-09-17T00:00:00",
          "2021-09-16T00:00:00",
          "2021-09-15T00:00:00",
          "2021-09-14T00:00:00",
          "2021-09-13T00:00:00",
          "2021-09-12T00:00:00",
          "2021-09-11T00:00:00",
          "2021-09-10T00:00:00",
          "2021-09-09T00:00:00",
          "2021-09-08T00:00:00",
          "2021-09-07T00:00:00",
          "2021-09-06T00:00:00",
          "2021-09-05T00:00:00",
          "2021-09-04T00:00:00",
          "2021-09-03T00:00:00",
          "2021-09-02T00:00:00",
          "2021-09-01T00:00:00",
          "2021-08-31T00:00:00",
          "2021-08-30T00:00:00",
          "2021-08-29T00:00:00",
          "2021-08-28T00:00:00",
          "2021-08-27T00:00:00",
          "2021-08-26T00:00:00",
          "2021-08-25T00:00:00",
          "2021-08-24T00:00:00",
          "2021-08-23T00:00:00",
          "2021-08-22T00:00:00",
          "2021-08-21T00:00:00",
          "2021-08-20T00:00:00",
          "2021-08-19T00:00:00",
          "2021-08-18T00:00:00",
          "2021-08-17T00:00:00",
          "2021-08-16T00:00:00",
          "2021-08-15T00:00:00",
          "2021-08-14T00:00:00",
          "2021-08-13T00:00:00",
          "2021-08-12T00:00:00",
          "2021-08-11T00:00:00",
          "2021-08-10T00:00:00",
          "2021-08-09T00:00:00",
          "2021-08-08T00:00:00",
          "2021-08-07T00:00:00",
          "2021-08-06T00:00:00",
          "2021-08-05T00:00:00",
          "2021-08-04T00:00:00",
          "2021-08-03T00:00:00",
          "2021-08-02T00:00:00",
          "2021-08-01T00:00:00",
          "2021-07-31T00:00:00",
          "2021-07-30T00:00:00",
          "2021-07-29T00:00:00",
          "2021-07-28T00:00:00",
          "2021-07-27T00:00:00",
          "2021-07-26T00:00:00",
          "2021-07-25T00:00:00",
          "2021-07-24T00:00:00",
          "2021-07-23T00:00:00",
          "2021-07-22T00:00:00",
          "2021-07-21T00:00:00",
          "2021-07-20T00:00:00",
          "2021-07-19T00:00:00",
          "2021-07-18T00:00:00",
          "2021-07-17T00:00:00",
          "2021-07-16T00:00:00",
          "2021-07-15T00:00:00",
          "2021-07-14T00:00:00",
          "2021-07-13T00:00:00",
          "2021-07-12T00:00:00",
          "2021-07-11T00:00:00",
          "2021-07-10T00:00:00",
          "2021-07-09T00:00:00",
          "2021-07-08T00:00:00",
          "2021-07-07T00:00:00",
          "2021-07-06T00:00:00",
          "2021-07-05T00:00:00",
          "2021-07-04T00:00:00",
          "2021-07-03T00:00:00",
          "2021-07-02T00:00:00",
          "2021-07-01T00:00:00",
          "2021-06-30T00:00:00",
          "2021-06-29T00:00:00",
          "2021-06-28T00:00:00",
          "2021-06-27T00:00:00",
          "2021-06-26T00:00:00",
          "2021-06-25T00:00:00",
          "2021-06-24T00:00:00",
          "2021-06-23T00:00:00",
          "2021-06-22T00:00:00",
          "2021-06-21T00:00:00",
          "2021-06-20T00:00:00",
          "2021-06-19T00:00:00",
          "2021-06-18T00:00:00",
          "2021-06-17T00:00:00",
          "2021-06-16T00:00:00",
          "2021-06-15T00:00:00",
          "2021-06-14T00:00:00",
          "2021-06-13T00:00:00",
          "2021-06-12T00:00:00",
          "2021-06-11T00:00:00",
          "2021-06-10T00:00:00",
          "2021-06-09T00:00:00",
          "2021-06-08T00:00:00",
          "2021-06-07T00:00:00",
          "2021-06-06T00:00:00",
          "2021-06-05T00:00:00",
          "2021-06-04T00:00:00",
          "2021-06-03T00:00:00",
          "2021-06-02T00:00:00",
          "2021-06-01T00:00:00",
          "2021-05-31T00:00:00",
          "2021-05-30T00:00:00",
          "2021-05-29T00:00:00",
          "2021-05-28T00:00:00",
          "2021-05-27T00:00:00",
          "2021-05-26T00:00:00",
          "2021-05-25T00:00:00",
          "2021-05-24T00:00:00",
          "2021-05-23T00:00:00",
          "2021-05-22T00:00:00",
          "2021-05-21T00:00:00",
          "2021-05-20T00:00:00",
          "2021-05-19T00:00:00",
          "2021-05-18T00:00:00",
          "2021-05-17T00:00:00",
          "2021-05-16T00:00:00",
          "2021-05-15T00:00:00",
          "2021-05-14T00:00:00",
          "2021-05-13T00:00:00",
          "2021-05-12T00:00:00",
          "2021-05-11T00:00:00",
          "2021-05-10T00:00:00",
          "2021-05-09T00:00:00",
          "2021-05-08T00:00:00",
          "2021-05-07T00:00:00",
          "2021-05-06T00:00:00",
          "2021-05-05T00:00:00",
          "2021-05-04T00:00:00",
          "2021-05-03T00:00:00",
          "2021-05-02T00:00:00",
          "2021-05-01T00:00:00",
          "2021-04-30T00:00:00",
          "2021-04-29T00:00:00",
          "2021-04-28T00:00:00",
          "2021-04-27T00:00:00",
          "2021-04-26T00:00:00",
          "2021-04-25T00:00:00",
          "2021-04-24T00:00:00",
          "2021-04-23T00:00:00",
          "2021-04-22T00:00:00",
          "2021-04-21T00:00:00",
          "2021-04-20T00:00:00",
          "2021-04-19T00:00:00",
          "2021-04-18T00:00:00",
          "2021-04-17T00:00:00",
          "2021-04-16T00:00:00",
          "2021-04-15T00:00:00",
          "2021-04-14T00:00:00",
          "2021-04-13T00:00:00",
          "2021-04-12T00:00:00",
          "2021-04-11T00:00:00",
          "2021-04-10T00:00:00",
          "2021-04-09T00:00:00",
          "2021-04-08T00:00:00",
          "2021-04-07T00:00:00",
          "2021-04-06T00:00:00",
          "2021-04-05T00:00:00",
          "2021-04-04T00:00:00",
          "2021-04-03T00:00:00",
          "2021-04-02T00:00:00",
          "2021-04-01T00:00:00",
          "2021-03-31T00:00:00",
          "2021-03-30T00:00:00",
          "2021-03-29T00:00:00",
          "2021-03-28T00:00:00",
          "2021-03-27T00:00:00",
          "2021-03-26T00:00:00",
          "2021-03-25T00:00:00",
          "2021-03-24T00:00:00",
          "2021-03-23T00:00:00",
          "2021-03-22T00:00:00",
          "2021-03-21T00:00:00",
          "2021-03-20T00:00:00",
          "2021-03-19T00:00:00",
          "2021-03-18T00:00:00",
          "2021-03-17T00:00:00",
          "2021-03-16T00:00:00",
          "2021-03-15T00:00:00",
          "2021-03-14T00:00:00",
          "2021-03-13T00:00:00",
          "2021-03-12T00:00:00",
          "2021-03-11T00:00:00",
          "2021-03-10T00:00:00",
          "2021-03-09T00:00:00",
          "2021-03-08T00:00:00",
          "2021-03-07T00:00:00",
          "2021-03-06T00:00:00",
          "2021-03-05T00:00:00",
          "2021-03-04T00:00:00",
          "2021-03-03T00:00:00",
          "2021-03-02T00:00:00",
          "2021-03-01T00:00:00",
          "2021-02-28T00:00:00",
          "2021-02-27T00:00:00",
          "2021-02-26T00:00:00",
          "2021-02-25T00:00:00",
          "2021-02-24T00:00:00",
          "2021-02-23T00:00:00",
          "2021-02-22T00:00:00",
          "2021-02-21T00:00:00",
          "2021-02-20T00:00:00",
          "2021-02-19T00:00:00",
          "2021-02-18T00:00:00",
          "2021-02-17T00:00:00",
          "2021-02-16T00:00:00",
          "2021-02-15T00:00:00",
          "2021-02-14T00:00:00",
          "2021-02-13T00:00:00",
          "2021-02-12T00:00:00",
          "2021-02-11T00:00:00",
          "2021-02-10T00:00:00",
          "2021-02-09T00:00:00",
          "2021-02-08T00:00:00",
          "2021-02-07T00:00:00",
          "2021-02-06T00:00:00",
          "2021-02-05T00:00:00",
          "2021-02-04T00:00:00",
          "2021-02-03T00:00:00",
          "2021-02-02T00:00:00",
          "2021-02-01T00:00:00",
          "2021-01-31T00:00:00",
          "2021-01-30T00:00:00",
          "2021-01-29T00:00:00",
          "2021-01-28T00:00:00",
          "2021-01-27T00:00:00",
          "2021-01-26T00:00:00",
          "2021-01-25T00:00:00",
          "2021-01-24T00:00:00",
          "2021-01-23T00:00:00",
          "2021-01-22T00:00:00",
          "2021-01-21T00:00:00",
          "2021-01-20T00:00:00",
          "2021-01-19T00:00:00",
          "2021-01-18T00:00:00",
          "2021-01-17T00:00:00",
          "2021-01-16T00:00:00",
          "2021-01-15T00:00:00",
          "2021-01-14T00:00:00",
          "2021-01-13T00:00:00",
          "2021-01-12T00:00:00",
          "2021-01-11T00:00:00",
          "2021-01-10T00:00:00"
         ],
         "xaxis": "x",
         "y": [
          45021381,
          44992044,
          44970512,
          44936121,
          44901832,
          44867373,
          44833280,
          44799748,
          44766571,
          44741032,
          44693914,
          44649155,
          44604567,
          44560520,
          44517114,
          44470772,
          44435615,
          44363118,
          44302734,
          44238761,
          44175471,
          44108746,
          44048093,
          43995478,
          43897419,
          43805608,
          43708906,
          43620946,
          43535098,
          43455083,
          43381890,
          43253337,
          43142747,
          43023372,
          42909987,
          42790585,
          42723937,
          42644497,
          42510809,
          42379353,
          42234417,
          42072712,
          41942036,
          41810753,
          41694401,
          41499520,
          41332128,
          41157069,
          40987846,
          40841971,
          40703581,
          40577198,
          40377614,
          40206029,
          40013470,
          39839709,
          39688566,
          39551538,
          39429468,
          39215885,
          39047529,
          38874837,
          38709168,
          38566407,
          38440215,
          38322171,
          38110157,
          37939061,
          37759143,
          37587970,
          37436320,
          37287384,
          37169428,
          36965542,
          36776201,
          36587904,
          36404566,
          36243287,
          36099727,
          35970849,
          35745635,
          35543321,
          35341428,
          35155767,
          34997491,
          34872131,
          34764511,
          34553065,
          34374246,
          34198779,
          34027302,
          33874176,
          33726362,
          33614952,
          33418743,
          33241265,
          33048199,
          32872450,
          32721762,
          32583746,
          32460191,
          32260686,
          32085916,
          31908103,
          31740115,
          31489240,
          31449915,
          31340507,
          31104144,
          30898467,
          30675207,
          30440373,
          30209707,
          29973779,
          29792658,
          29472332,
          29165140,
          28857102,
          28540844,
          28227362,
          27921294,
          27661353,
          27187975,
          26799944,
          26422303,
          26073284,
          25734719,
          25539173,
          25332851,
          24914003,
          24478052,
          24043956,
          23616498,
          23228511,
          22895556,
          22643417,
          22086466,
          21659783,
          21239471,
          20870453,
          20546452,
          20287403,
          20103658,
          19712412,
          19319010,
          18890969,
          18438532,
          18088385,
          17856550,
          17669379,
          17230542,
          16764720,
          16291719,
          15887493,
          15630007,
          15502508,
          15329617,
          14957313,
          14535528,
          14043961,
          13581076,
          13201811,
          12897123,
          12636322,
          12088686,
          11623671,
          11192601,
          10775817,
          10425790,
          10152039,
          9930846,
          9431211,
          8931547,
          8513864,
          8170081,
          7857396,
          7656205,
          7466540,
          6991310,
          6541174,
          6091905,
          5683509,
          5496716,
          5432126,
          5384418,
          5205505,
          4958874,
          4513458,
          4125884,
          3848202,
          3679972,
          3532378,
          3293517,
          3009863,
          2775481,
          2532839,
          2363684,
          2281384,
          2228772,
          2136795,
          2011070,
          1879054,
          1759445,
          1663646,
          1610280,
          1584909,
          1532754,
          1445078,
          1351515,
          1254353,
          1181431,
          1142643,
          1122402,
          1090840,
          1034068,
          963862,
          895412,
          844098,
          815816,
          796132,
          768810,
          736037,
          700718,
          669105,
          642788,
          624325,
          615148,
          604885,
          589591,
          573724,
          558577,
          546165,
          539630,
          537715,
          534869,
          530094,
          524447,
          519553,
          516392,
          512581,
          511719,
          510057,
          505993,
          501957,
          498962,
          496796,
          494209,
          491053,
          480432,
          478254,
          476485,
          474156,
          472446,
          470478,
          469660,
          468617,
          466796,
          464036,
          460625,
          456866,
          452301,
          450062,
          447442,
          443234,
          437977,
          428232,
          412167,
          391399
         ],
         "yaxis": "y"
        }
       ],
       "layout": {
        "legend": {
         "tracegroupgap": 0
        },
        "template": {
         "data": {
          "bar": [
           {
            "error_x": {
             "color": "#2a3f5f"
            },
            "error_y": {
             "color": "#2a3f5f"
            },
            "marker": {
             "line": {
              "color": "#E5ECF6",
              "width": 0.5
             },
             "pattern": {
              "fillmode": "overlay",
              "size": 10,
              "solidity": 0.2
             }
            },
            "type": "bar"
           }
          ],
          "barpolar": [
           {
            "marker": {
             "line": {
              "color": "#E5ECF6",
              "width": 0.5
             },
             "pattern": {
              "fillmode": "overlay",
              "size": 10,
              "solidity": 0.2
             }
            },
            "type": "barpolar"
           }
          ],
          "carpet": [
           {
            "aaxis": {
             "endlinecolor": "#2a3f5f",
             "gridcolor": "white",
             "linecolor": "white",
             "minorgridcolor": "white",
             "startlinecolor": "#2a3f5f"
            },
            "baxis": {
             "endlinecolor": "#2a3f5f",
             "gridcolor": "white",
             "linecolor": "white",
             "minorgridcolor": "white",
             "startlinecolor": "#2a3f5f"
            },
            "type": "carpet"
           }
          ],
          "choropleth": [
           {
            "colorbar": {
             "outlinewidth": 0,
             "ticks": ""
            },
            "type": "choropleth"
           }
          ],
          "contour": [
           {
            "colorbar": {
             "outlinewidth": 0,
             "ticks": ""
            },
            "colorscale": [
             [
              0,
              "#0d0887"
             ],
             [
              0.1111111111111111,
              "#46039f"
             ],
             [
              0.2222222222222222,
              "#7201a8"
             ],
             [
              0.3333333333333333,
              "#9c179e"
             ],
             [
              0.4444444444444444,
              "#bd3786"
             ],
             [
              0.5555555555555556,
              "#d8576b"
             ],
             [
              0.6666666666666666,
              "#ed7953"
             ],
             [
              0.7777777777777778,
              "#fb9f3a"
             ],
             [
              0.8888888888888888,
              "#fdca26"
             ],
             [
              1,
              "#f0f921"
             ]
            ],
            "type": "contour"
           }
          ],
          "contourcarpet": [
           {
            "colorbar": {
             "outlinewidth": 0,
             "ticks": ""
            },
            "type": "contourcarpet"
           }
          ],
          "heatmap": [
           {
            "colorbar": {
             "outlinewidth": 0,
             "ticks": ""
            },
            "colorscale": [
             [
              0,
              "#0d0887"
             ],
             [
              0.1111111111111111,
              "#46039f"
             ],
             [
              0.2222222222222222,
              "#7201a8"
             ],
             [
              0.3333333333333333,
              "#9c179e"
             ],
             [
              0.4444444444444444,
              "#bd3786"
             ],
             [
              0.5555555555555556,
              "#d8576b"
             ],
             [
              0.6666666666666666,
              "#ed7953"
             ],
             [
              0.7777777777777778,
              "#fb9f3a"
             ],
             [
              0.8888888888888888,
              "#fdca26"
             ],
             [
              1,
              "#f0f921"
             ]
            ],
            "type": "heatmap"
           }
          ],
          "heatmapgl": [
           {
            "colorbar": {
             "outlinewidth": 0,
             "ticks": ""
            },
            "colorscale": [
             [
              0,
              "#0d0887"
             ],
             [
              0.1111111111111111,
              "#46039f"
             ],
             [
              0.2222222222222222,
              "#7201a8"
             ],
             [
              0.3333333333333333,
              "#9c179e"
             ],
             [
              0.4444444444444444,
              "#bd3786"
             ],
             [
              0.5555555555555556,
              "#d8576b"
             ],
             [
              0.6666666666666666,
              "#ed7953"
             ],
             [
              0.7777777777777778,
              "#fb9f3a"
             ],
             [
              0.8888888888888888,
              "#fdca26"
             ],
             [
              1,
              "#f0f921"
             ]
            ],
            "type": "heatmapgl"
           }
          ],
          "histogram": [
           {
            "marker": {
             "pattern": {
              "fillmode": "overlay",
              "size": 10,
              "solidity": 0.2
             }
            },
            "type": "histogram"
           }
          ],
          "histogram2d": [
           {
            "colorbar": {
             "outlinewidth": 0,
             "ticks": ""
            },
            "colorscale": [
             [
              0,
              "#0d0887"
             ],
             [
              0.1111111111111111,
              "#46039f"
             ],
             [
              0.2222222222222222,
              "#7201a8"
             ],
             [
              0.3333333333333333,
              "#9c179e"
             ],
             [
              0.4444444444444444,
              "#bd3786"
             ],
             [
              0.5555555555555556,
              "#d8576b"
             ],
             [
              0.6666666666666666,
              "#ed7953"
             ],
             [
              0.7777777777777778,
              "#fb9f3a"
             ],
             [
              0.8888888888888888,
              "#fdca26"
             ],
             [
              1,
              "#f0f921"
             ]
            ],
            "type": "histogram2d"
           }
          ],
          "histogram2dcontour": [
           {
            "colorbar": {
             "outlinewidth": 0,
             "ticks": ""
            },
            "colorscale": [
             [
              0,
              "#0d0887"
             ],
             [
              0.1111111111111111,
              "#46039f"
             ],
             [
              0.2222222222222222,
              "#7201a8"
             ],
             [
              0.3333333333333333,
              "#9c179e"
             ],
             [
              0.4444444444444444,
              "#bd3786"
             ],
             [
              0.5555555555555556,
              "#d8576b"
             ],
             [
              0.6666666666666666,
              "#ed7953"
             ],
             [
              0.7777777777777778,
              "#fb9f3a"
             ],
             [
              0.8888888888888888,
              "#fdca26"
             ],
             [
              1,
              "#f0f921"
             ]
            ],
            "type": "histogram2dcontour"
           }
          ],
          "mesh3d": [
           {
            "colorbar": {
             "outlinewidth": 0,
             "ticks": ""
            },
            "type": "mesh3d"
           }
          ],
          "parcoords": [
           {
            "line": {
             "colorbar": {
              "outlinewidth": 0,
              "ticks": ""
             }
            },
            "type": "parcoords"
           }
          ],
          "pie": [
           {
            "automargin": true,
            "type": "pie"
           }
          ],
          "scatter": [
           {
            "marker": {
             "colorbar": {
              "outlinewidth": 0,
              "ticks": ""
             }
            },
            "type": "scatter"
           }
          ],
          "scatter3d": [
           {
            "line": {
             "colorbar": {
              "outlinewidth": 0,
              "ticks": ""
             }
            },
            "marker": {
             "colorbar": {
              "outlinewidth": 0,
              "ticks": ""
             }
            },
            "type": "scatter3d"
           }
          ],
          "scattercarpet": [
           {
            "marker": {
             "colorbar": {
              "outlinewidth": 0,
              "ticks": ""
             }
            },
            "type": "scattercarpet"
           }
          ],
          "scattergeo": [
           {
            "marker": {
             "colorbar": {
              "outlinewidth": 0,
              "ticks": ""
             }
            },
            "type": "scattergeo"
           }
          ],
          "scattergl": [
           {
            "marker": {
             "colorbar": {
              "outlinewidth": 0,
              "ticks": ""
             }
            },
            "type": "scattergl"
           }
          ],
          "scattermapbox": [
           {
            "marker": {
             "colorbar": {
              "outlinewidth": 0,
              "ticks": ""
             }
            },
            "type": "scattermapbox"
           }
          ],
          "scatterpolar": [
           {
            "marker": {
             "colorbar": {
              "outlinewidth": 0,
              "ticks": ""
             }
            },
            "type": "scatterpolar"
           }
          ],
          "scatterpolargl": [
           {
            "marker": {
             "colorbar": {
              "outlinewidth": 0,
              "ticks": ""
             }
            },
            "type": "scatterpolargl"
           }
          ],
          "scatterternary": [
           {
            "marker": {
             "colorbar": {
              "outlinewidth": 0,
              "ticks": ""
             }
            },
            "type": "scatterternary"
           }
          ],
          "surface": [
           {
            "colorbar": {
             "outlinewidth": 0,
             "ticks": ""
            },
            "colorscale": [
             [
              0,
              "#0d0887"
             ],
             [
              0.1111111111111111,
              "#46039f"
             ],
             [
              0.2222222222222222,
              "#7201a8"
             ],
             [
              0.3333333333333333,
              "#9c179e"
             ],
             [
              0.4444444444444444,
              "#bd3786"
             ],
             [
              0.5555555555555556,
              "#d8576b"
             ],
             [
              0.6666666666666666,
              "#ed7953"
             ],
             [
              0.7777777777777778,
              "#fb9f3a"
             ],
             [
              0.8888888888888888,
              "#fdca26"
             ],
             [
              1,
              "#f0f921"
             ]
            ],
            "type": "surface"
           }
          ],
          "table": [
           {
            "cells": {
             "fill": {
              "color": "#EBF0F8"
             },
             "line": {
              "color": "white"
             }
            },
            "header": {
             "fill": {
              "color": "#C8D4E3"
             },
             "line": {
              "color": "white"
             }
            },
            "type": "table"
           }
          ]
         },
         "layout": {
          "annotationdefaults": {
           "arrowcolor": "#2a3f5f",
           "arrowhead": 0,
           "arrowwidth": 1
          },
          "autotypenumbers": "strict",
          "coloraxis": {
           "colorbar": {
            "outlinewidth": 0,
            "ticks": ""
           }
          },
          "colorscale": {
           "diverging": [
            [
             0,
             "#8e0152"
            ],
            [
             0.1,
             "#c51b7d"
            ],
            [
             0.2,
             "#de77ae"
            ],
            [
             0.3,
             "#f1b6da"
            ],
            [
             0.4,
             "#fde0ef"
            ],
            [
             0.5,
             "#f7f7f7"
            ],
            [
             0.6,
             "#e6f5d0"
            ],
            [
             0.7,
             "#b8e186"
            ],
            [
             0.8,
             "#7fbc41"
            ],
            [
             0.9,
             "#4d9221"
            ],
            [
             1,
             "#276419"
            ]
           ],
           "sequential": [
            [
             0,
             "#0d0887"
            ],
            [
             0.1111111111111111,
             "#46039f"
            ],
            [
             0.2222222222222222,
             "#7201a8"
            ],
            [
             0.3333333333333333,
             "#9c179e"
            ],
            [
             0.4444444444444444,
             "#bd3786"
            ],
            [
             0.5555555555555556,
             "#d8576b"
            ],
            [
             0.6666666666666666,
             "#ed7953"
            ],
            [
             0.7777777777777778,
             "#fb9f3a"
            ],
            [
             0.8888888888888888,
             "#fdca26"
            ],
            [
             1,
             "#f0f921"
            ]
           ],
           "sequentialminus": [
            [
             0,
             "#0d0887"
            ],
            [
             0.1111111111111111,
             "#46039f"
            ],
            [
             0.2222222222222222,
             "#7201a8"
            ],
            [
             0.3333333333333333,
             "#9c179e"
            ],
            [
             0.4444444444444444,
             "#bd3786"
            ],
            [
             0.5555555555555556,
             "#d8576b"
            ],
            [
             0.6666666666666666,
             "#ed7953"
            ],
            [
             0.7777777777777778,
             "#fb9f3a"
            ],
            [
             0.8888888888888888,
             "#fdca26"
            ],
            [
             1,
             "#f0f921"
            ]
           ]
          },
          "colorway": [
           "#636efa",
           "#EF553B",
           "#00cc96",
           "#ab63fa",
           "#FFA15A",
           "#19d3f3",
           "#FF6692",
           "#B6E880",
           "#FF97FF",
           "#FECB52"
          ],
          "font": {
           "color": "#2a3f5f"
          },
          "geo": {
           "bgcolor": "white",
           "lakecolor": "white",
           "landcolor": "#E5ECF6",
           "showlakes": true,
           "showland": true,
           "subunitcolor": "white"
          },
          "hoverlabel": {
           "align": "left"
          },
          "hovermode": "closest",
          "mapbox": {
           "style": "light"
          },
          "paper_bgcolor": "white",
          "plot_bgcolor": "#E5ECF6",
          "polar": {
           "angularaxis": {
            "gridcolor": "white",
            "linecolor": "white",
            "ticks": ""
           },
           "bgcolor": "#E5ECF6",
           "radialaxis": {
            "gridcolor": "white",
            "linecolor": "white",
            "ticks": ""
           }
          },
          "scene": {
           "xaxis": {
            "backgroundcolor": "#E5ECF6",
            "gridcolor": "white",
            "gridwidth": 2,
            "linecolor": "white",
            "showbackground": true,
            "ticks": "",
            "zerolinecolor": "white"
           },
           "yaxis": {
            "backgroundcolor": "#E5ECF6",
            "gridcolor": "white",
            "gridwidth": 2,
            "linecolor": "white",
            "showbackground": true,
            "ticks": "",
            "zerolinecolor": "white"
           },
           "zaxis": {
            "backgroundcolor": "#E5ECF6",
            "gridcolor": "white",
            "gridwidth": 2,
            "linecolor": "white",
            "showbackground": true,
            "ticks": "",
            "zerolinecolor": "white"
           }
          },
          "shapedefaults": {
           "line": {
            "color": "#2a3f5f"
           }
          },
          "ternary": {
           "aaxis": {
            "gridcolor": "white",
            "linecolor": "white",
            "ticks": ""
           },
           "baxis": {
            "gridcolor": "white",
            "linecolor": "white",
            "ticks": ""
           },
           "bgcolor": "#E5ECF6",
           "caxis": {
            "gridcolor": "white",
            "linecolor": "white",
            "ticks": ""
           }
          },
          "title": {
           "x": 0.05
          },
          "xaxis": {
           "automargin": true,
           "gridcolor": "white",
           "linecolor": "white",
           "ticks": "",
           "title": {
            "standoff": 15
           },
           "zerolinecolor": "white",
           "zerolinewidth": 2
          },
          "yaxis": {
           "automargin": true,
           "gridcolor": "white",
           "linecolor": "white",
           "ticks": "",
           "title": {
            "standoff": 15
           },
           "zerolinecolor": "white",
           "zerolinewidth": 2
          }
         }
        },
        "title": {
         "text": "cumPeopleVaccinatedSecondDoseByPublishDate"
        },
        "xaxis": {
         "anchor": "y",
         "domain": [
          0,
          1
         ],
         "title": {
          "text": "date"
         }
        },
        "yaxis": {
         "anchor": "x",
         "domain": [
          0,
          1
         ],
         "title": {
          "text": "cumPeopleVaccinatedSecondDoseByPublishDate"
         }
        }
       }
      }
     },
     "metadata": {}
    },
    {
     "output_type": "display_data",
     "data": {
      "application/vnd.plotly.v1+json": {
       "config": {
        "plotlyServerURL": "https://plot.ly"
       },
       "data": [
        {
         "hovertemplate": "date=%{x}<br>cumVaccinationCompleteCoverageByPublishDatePercentage=%{y}<extra></extra>",
         "legendgroup": "",
         "line": {
          "color": "#636efa",
          "dash": "solid"
         },
         "marker": {
          "symbol": "circle"
         },
         "mode": "lines",
         "name": "",
         "orientation": "v",
         "showlegend": false,
         "type": "scatter",
         "x": [
          "2021-10-04T00:00:00",
          "2021-10-03T00:00:00",
          "2021-10-02T00:00:00",
          "2021-10-01T00:00:00",
          "2021-09-30T00:00:00",
          "2021-09-29T00:00:00",
          "2021-09-28T00:00:00",
          "2021-09-27T00:00:00",
          "2021-09-26T00:00:00",
          "2021-09-25T00:00:00",
          "2021-09-24T00:00:00",
          "2021-09-23T00:00:00",
          "2021-09-22T00:00:00",
          "2021-09-21T00:00:00",
          "2021-09-20T00:00:00",
          "2021-09-19T00:00:00",
          "2021-09-18T00:00:00",
          "2021-09-17T00:00:00",
          "2021-09-16T00:00:00",
          "2021-09-15T00:00:00",
          "2021-09-14T00:00:00",
          "2021-09-13T00:00:00",
          "2021-09-12T00:00:00",
          "2021-09-11T00:00:00",
          "2021-09-10T00:00:00",
          "2021-09-09T00:00:00",
          "2021-09-08T00:00:00",
          "2021-09-07T00:00:00",
          "2021-09-06T00:00:00",
          "2021-09-05T00:00:00",
          "2021-09-04T00:00:00",
          "2021-09-03T00:00:00",
          "2021-09-02T00:00:00",
          "2021-09-01T00:00:00",
          "2021-08-31T00:00:00",
          "2021-08-30T00:00:00",
          "2021-08-29T00:00:00",
          "2021-08-28T00:00:00",
          "2021-08-27T00:00:00",
          "2021-08-26T00:00:00",
          "2021-08-25T00:00:00",
          "2021-08-24T00:00:00",
          "2021-08-23T00:00:00",
          "2021-08-22T00:00:00",
          "2021-08-21T00:00:00",
          "2021-08-20T00:00:00",
          "2021-08-19T00:00:00",
          "2021-08-18T00:00:00",
          "2021-08-17T00:00:00",
          "2021-08-16T00:00:00",
          "2021-08-15T00:00:00",
          "2021-08-14T00:00:00",
          "2021-08-13T00:00:00",
          "2021-08-12T00:00:00",
          "2021-08-11T00:00:00",
          "2021-08-10T00:00:00",
          "2021-08-09T00:00:00",
          "2021-08-08T00:00:00",
          "2021-08-07T00:00:00",
          "2021-08-06T00:00:00",
          "2021-08-05T00:00:00",
          "2021-08-04T00:00:00",
          "2021-08-03T00:00:00",
          "2021-08-02T00:00:00",
          "2021-08-01T00:00:00",
          "2021-07-31T00:00:00",
          "2021-07-30T00:00:00",
          "2021-07-29T00:00:00",
          "2021-07-28T00:00:00",
          "2021-07-27T00:00:00",
          "2021-07-26T00:00:00",
          "2021-07-25T00:00:00",
          "2021-07-24T00:00:00",
          "2021-07-23T00:00:00",
          "2021-07-22T00:00:00",
          "2021-07-21T00:00:00",
          "2021-07-20T00:00:00",
          "2021-07-19T00:00:00",
          "2021-07-18T00:00:00",
          "2021-07-17T00:00:00",
          "2021-07-16T00:00:00",
          "2021-07-15T00:00:00",
          "2021-07-14T00:00:00",
          "2021-07-13T00:00:00",
          "2021-07-12T00:00:00",
          "2021-07-11T00:00:00",
          "2021-07-10T00:00:00",
          "2021-07-09T00:00:00",
          "2021-07-08T00:00:00",
          "2021-07-07T00:00:00",
          "2021-07-06T00:00:00",
          "2021-07-05T00:00:00",
          "2021-07-04T00:00:00",
          "2021-07-03T00:00:00",
          "2021-07-02T00:00:00",
          "2021-07-01T00:00:00",
          "2021-06-30T00:00:00",
          "2021-06-29T00:00:00",
          "2021-06-28T00:00:00",
          "2021-06-27T00:00:00",
          "2021-06-26T00:00:00",
          "2021-06-25T00:00:00",
          "2021-06-24T00:00:00",
          "2021-06-23T00:00:00",
          "2021-06-22T00:00:00",
          "2021-06-21T00:00:00",
          "2021-06-20T00:00:00",
          "2021-06-19T00:00:00",
          "2021-06-18T00:00:00",
          "2021-06-17T00:00:00",
          "2021-06-16T00:00:00",
          "2021-06-15T00:00:00",
          "2021-06-14T00:00:00",
          "2021-06-13T00:00:00",
          "2021-06-12T00:00:00",
          "2021-06-11T00:00:00",
          "2021-06-10T00:00:00",
          "2021-06-09T00:00:00",
          "2021-06-08T00:00:00",
          "2021-06-07T00:00:00",
          "2021-06-06T00:00:00",
          "2021-06-05T00:00:00",
          "2021-06-04T00:00:00",
          "2021-06-03T00:00:00",
          "2021-06-02T00:00:00",
          "2021-06-01T00:00:00",
          "2021-05-31T00:00:00",
          "2021-05-30T00:00:00",
          "2021-05-29T00:00:00",
          "2021-05-28T00:00:00",
          "2021-05-27T00:00:00",
          "2021-05-26T00:00:00",
          "2021-05-25T00:00:00",
          "2021-05-24T00:00:00",
          "2021-05-23T00:00:00",
          "2021-05-22T00:00:00",
          "2021-05-21T00:00:00",
          "2021-05-20T00:00:00",
          "2021-05-19T00:00:00",
          "2021-05-18T00:00:00",
          "2021-05-17T00:00:00",
          "2021-05-16T00:00:00",
          "2021-05-15T00:00:00",
          "2021-05-14T00:00:00",
          "2021-05-13T00:00:00",
          "2021-05-12T00:00:00",
          "2021-05-11T00:00:00",
          "2021-05-10T00:00:00",
          "2021-05-09T00:00:00",
          "2021-05-08T00:00:00",
          "2021-05-07T00:00:00",
          "2021-05-06T00:00:00",
          "2021-05-05T00:00:00",
          "2021-05-04T00:00:00",
          "2021-05-03T00:00:00",
          "2021-05-02T00:00:00",
          "2021-05-01T00:00:00",
          "2021-04-30T00:00:00",
          "2021-04-29T00:00:00",
          "2021-04-28T00:00:00",
          "2021-04-27T00:00:00",
          "2021-04-26T00:00:00",
          "2021-04-25T00:00:00",
          "2021-04-24T00:00:00",
          "2021-04-23T00:00:00",
          "2021-04-22T00:00:00",
          "2021-04-21T00:00:00",
          "2021-04-20T00:00:00",
          "2021-04-19T00:00:00",
          "2021-04-18T00:00:00",
          "2021-04-17T00:00:00",
          "2021-04-16T00:00:00",
          "2021-04-15T00:00:00",
          "2021-04-14T00:00:00",
          "2021-04-13T00:00:00",
          "2021-04-12T00:00:00",
          "2021-04-11T00:00:00",
          "2021-04-10T00:00:00",
          "2021-04-09T00:00:00",
          "2021-04-08T00:00:00",
          "2021-04-07T00:00:00",
          "2021-04-06T00:00:00",
          "2021-04-05T00:00:00",
          "2021-04-04T00:00:00",
          "2021-04-03T00:00:00",
          "2021-04-02T00:00:00",
          "2021-04-01T00:00:00",
          "2021-03-31T00:00:00",
          "2021-03-30T00:00:00",
          "2021-03-29T00:00:00",
          "2021-03-28T00:00:00",
          "2021-03-27T00:00:00",
          "2021-03-26T00:00:00",
          "2021-03-25T00:00:00",
          "2021-03-24T00:00:00",
          "2021-03-23T00:00:00",
          "2021-03-22T00:00:00",
          "2021-03-21T00:00:00",
          "2021-03-20T00:00:00",
          "2021-03-19T00:00:00",
          "2021-03-18T00:00:00",
          "2021-03-17T00:00:00",
          "2021-03-16T00:00:00",
          "2021-03-15T00:00:00",
          "2021-03-14T00:00:00",
          "2021-03-13T00:00:00",
          "2021-03-12T00:00:00",
          "2021-03-11T00:00:00",
          "2021-03-10T00:00:00",
          "2021-03-09T00:00:00",
          "2021-03-08T00:00:00",
          "2021-03-07T00:00:00",
          "2021-03-06T00:00:00",
          "2021-03-05T00:00:00",
          "2021-03-04T00:00:00",
          "2021-03-03T00:00:00",
          "2021-03-02T00:00:00",
          "2021-03-01T00:00:00",
          "2021-02-28T00:00:00",
          "2021-02-27T00:00:00",
          "2021-02-26T00:00:00",
          "2021-02-25T00:00:00",
          "2021-02-24T00:00:00",
          "2021-02-23T00:00:00",
          "2021-02-22T00:00:00",
          "2021-02-21T00:00:00",
          "2021-02-20T00:00:00",
          "2021-02-19T00:00:00",
          "2021-02-18T00:00:00",
          "2021-02-17T00:00:00",
          "2021-02-16T00:00:00",
          "2021-02-15T00:00:00",
          "2021-02-14T00:00:00",
          "2021-02-13T00:00:00",
          "2021-02-12T00:00:00",
          "2021-02-11T00:00:00",
          "2021-02-10T00:00:00",
          "2021-02-09T00:00:00",
          "2021-02-08T00:00:00",
          "2021-02-07T00:00:00",
          "2021-02-06T00:00:00",
          "2021-02-05T00:00:00",
          "2021-02-04T00:00:00",
          "2021-02-03T00:00:00",
          "2021-02-02T00:00:00",
          "2021-02-01T00:00:00",
          "2021-01-31T00:00:00",
          "2021-01-30T00:00:00",
          "2021-01-29T00:00:00",
          "2021-01-28T00:00:00",
          "2021-01-27T00:00:00",
          "2021-01-26T00:00:00",
          "2021-01-25T00:00:00",
          "2021-01-24T00:00:00",
          "2021-01-23T00:00:00",
          "2021-01-22T00:00:00",
          "2021-01-21T00:00:00",
          "2021-01-20T00:00:00",
          "2021-01-19T00:00:00",
          "2021-01-18T00:00:00",
          "2021-01-17T00:00:00",
          "2021-01-16T00:00:00",
          "2021-01-15T00:00:00",
          "2021-01-14T00:00:00",
          "2021-01-13T00:00:00",
          "2021-01-12T00:00:00",
          "2021-01-11T00:00:00",
          "2021-01-10T00:00:00"
         ],
         "xaxis": "x",
         "y": [
          78.3,
          78.2,
          78.2,
          78.1,
          78.1,
          78,
          78,
          77.9,
          77.8,
          77.8,
          77.7,
          77.6,
          77.6,
          77.5,
          77.4,
          77.3,
          77.3,
          77.1,
          77,
          76.9,
          76.8,
          76.7,
          76.6,
          76.5,
          76.3,
          76.2,
          76,
          75.9,
          75.7,
          75.6,
          75.4,
          75.2,
          75,
          74.8,
          74.6,
          74.4,
          74.3,
          74.2,
          73.9,
          73.7,
          73.4,
          73.2,
          72.9,
          72.7,
          72.5,
          72.2,
          71.9,
          71.6,
          71.3,
          71,
          70.8,
          70.6,
          70.2,
          69.9,
          69.6,
          69.3,
          69,
          68.8,
          68.6,
          68.2,
          67.9,
          67.6,
          67.3,
          67.1,
          66.8,
          66.6,
          66.3,
          66,
          65.7,
          65.4,
          65.1,
          64.8,
          64.6,
          64.3,
          63.9,
          63.6,
          63.3,
          63,
          62.8,
          62.5,
          62.2,
          61.8,
          61.5,
          61.1,
          60.9,
          60.6,
          60.5,
          60.1,
          59.8,
          59.5,
          59.2,
          58.9,
          58.6,
          58.5,
          58.1,
          57.8,
          57.5,
          57.2,
          56.9,
          56.7,
          56.4,
          56.1,
          55.8,
          55.5,
          55.2,
          54.8,
          54.7,
          54.5,
          54.1,
          53.7,
          53.3,
          52.9,
          52.5,
          52.1,
          51.8,
          51.2,
          50.7,
          50.2,
          49.6,
          49.1,
          48.6,
          48.1,
          47.3,
          46.6,
          45.9,
          45.3,
          44.7,
          44.4,
          44.1,
          43.3,
          42.6,
          41.8,
          41.1,
          40.4,
          39.8,
          39.4,
          38.4,
          37.7,
          36.9,
          36.3,
          35.7,
          35.3,
          35,
          34.3,
          33.6,
          32.8,
          32.1,
          31.5,
          31.1,
          30.7,
          30,
          29.2,
          28.3,
          27.6,
          27.2,
          27,
          26.7,
          26,
          25.3,
          24.4,
          23.6,
          23,
          22.4,
          22,
          21,
          20.2,
          19.5,
          18.7,
          18.1,
          17.7,
          17.3,
          16.4,
          15.5,
          14.8,
          14.2,
          13.7,
          13.3,
          13,
          12.2,
          11.4,
          10.6,
          9.9,
          9.6,
          9.4,
          9.4,
          9.1,
          8.6,
          7.8,
          7.2,
          6.7,
          6.4,
          6.1,
          5.7,
          5.2,
          4.8,
          4.4,
          4.1,
          4,
          3.9,
          3.7,
          3.5,
          3.3,
          3.1,
          2.9,
          2.8,
          2.8,
          2.7,
          2.5,
          2.4,
          2.2,
          2.1,
          2,
          2,
          1.9,
          1.8,
          1.7,
          1.6,
          1.5,
          1.4,
          1.4,
          1.3,
          1.3,
          1.2,
          1.2,
          1.1,
          1.1,
          1.1,
          1.1,
          1,
          1,
          1,
          0.9,
          0.9,
          0.9,
          0.9,
          0.9,
          0.9,
          0.9,
          0.9,
          0.9,
          0.9,
          0.9,
          0.9,
          0.9,
          0.9,
          0.9,
          0.9,
          0.9,
          0.8,
          0.8,
          0.8,
          0.8,
          0.8,
          0.8,
          0.8,
          0.8,
          0.8,
          0.8,
          0.8,
          0.8,
          0.8,
          0.8,
          0.8,
          0.8,
          0.8,
          0.7,
          0.7,
          0.7
         ],
         "yaxis": "y"
        }
       ],
       "layout": {
        "legend": {
         "tracegroupgap": 0
        },
        "template": {
         "data": {
          "bar": [
           {
            "error_x": {
             "color": "#2a3f5f"
            },
            "error_y": {
             "color": "#2a3f5f"
            },
            "marker": {
             "line": {
              "color": "#E5ECF6",
              "width": 0.5
             },
             "pattern": {
              "fillmode": "overlay",
              "size": 10,
              "solidity": 0.2
             }
            },
            "type": "bar"
           }
          ],
          "barpolar": [
           {
            "marker": {
             "line": {
              "color": "#E5ECF6",
              "width": 0.5
             },
             "pattern": {
              "fillmode": "overlay",
              "size": 10,
              "solidity": 0.2
             }
            },
            "type": "barpolar"
           }
          ],
          "carpet": [
           {
            "aaxis": {
             "endlinecolor": "#2a3f5f",
             "gridcolor": "white",
             "linecolor": "white",
             "minorgridcolor": "white",
             "startlinecolor": "#2a3f5f"
            },
            "baxis": {
             "endlinecolor": "#2a3f5f",
             "gridcolor": "white",
             "linecolor": "white",
             "minorgridcolor": "white",
             "startlinecolor": "#2a3f5f"
            },
            "type": "carpet"
           }
          ],
          "choropleth": [
           {
            "colorbar": {
             "outlinewidth": 0,
             "ticks": ""
            },
            "type": "choropleth"
           }
          ],
          "contour": [
           {
            "colorbar": {
             "outlinewidth": 0,
             "ticks": ""
            },
            "colorscale": [
             [
              0,
              "#0d0887"
             ],
             [
              0.1111111111111111,
              "#46039f"
             ],
             [
              0.2222222222222222,
              "#7201a8"
             ],
             [
              0.3333333333333333,
              "#9c179e"
             ],
             [
              0.4444444444444444,
              "#bd3786"
             ],
             [
              0.5555555555555556,
              "#d8576b"
             ],
             [
              0.6666666666666666,
              "#ed7953"
             ],
             [
              0.7777777777777778,
              "#fb9f3a"
             ],
             [
              0.8888888888888888,
              "#fdca26"
             ],
             [
              1,
              "#f0f921"
             ]
            ],
            "type": "contour"
           }
          ],
          "contourcarpet": [
           {
            "colorbar": {
             "outlinewidth": 0,
             "ticks": ""
            },
            "type": "contourcarpet"
           }
          ],
          "heatmap": [
           {
            "colorbar": {
             "outlinewidth": 0,
             "ticks": ""
            },
            "colorscale": [
             [
              0,
              "#0d0887"
             ],
             [
              0.1111111111111111,
              "#46039f"
             ],
             [
              0.2222222222222222,
              "#7201a8"
             ],
             [
              0.3333333333333333,
              "#9c179e"
             ],
             [
              0.4444444444444444,
              "#bd3786"
             ],
             [
              0.5555555555555556,
              "#d8576b"
             ],
             [
              0.6666666666666666,
              "#ed7953"
             ],
             [
              0.7777777777777778,
              "#fb9f3a"
             ],
             [
              0.8888888888888888,
              "#fdca26"
             ],
             [
              1,
              "#f0f921"
             ]
            ],
            "type": "heatmap"
           }
          ],
          "heatmapgl": [
           {
            "colorbar": {
             "outlinewidth": 0,
             "ticks": ""
            },
            "colorscale": [
             [
              0,
              "#0d0887"
             ],
             [
              0.1111111111111111,
              "#46039f"
             ],
             [
              0.2222222222222222,
              "#7201a8"
             ],
             [
              0.3333333333333333,
              "#9c179e"
             ],
             [
              0.4444444444444444,
              "#bd3786"
             ],
             [
              0.5555555555555556,
              "#d8576b"
             ],
             [
              0.6666666666666666,
              "#ed7953"
             ],
             [
              0.7777777777777778,
              "#fb9f3a"
             ],
             [
              0.8888888888888888,
              "#fdca26"
             ],
             [
              1,
              "#f0f921"
             ]
            ],
            "type": "heatmapgl"
           }
          ],
          "histogram": [
           {
            "marker": {
             "pattern": {
              "fillmode": "overlay",
              "size": 10,
              "solidity": 0.2
             }
            },
            "type": "histogram"
           }
          ],
          "histogram2d": [
           {
            "colorbar": {
             "outlinewidth": 0,
             "ticks": ""
            },
            "colorscale": [
             [
              0,
              "#0d0887"
             ],
             [
              0.1111111111111111,
              "#46039f"
             ],
             [
              0.2222222222222222,
              "#7201a8"
             ],
             [
              0.3333333333333333,
              "#9c179e"
             ],
             [
              0.4444444444444444,
              "#bd3786"
             ],
             [
              0.5555555555555556,
              "#d8576b"
             ],
             [
              0.6666666666666666,
              "#ed7953"
             ],
             [
              0.7777777777777778,
              "#fb9f3a"
             ],
             [
              0.8888888888888888,
              "#fdca26"
             ],
             [
              1,
              "#f0f921"
             ]
            ],
            "type": "histogram2d"
           }
          ],
          "histogram2dcontour": [
           {
            "colorbar": {
             "outlinewidth": 0,
             "ticks": ""
            },
            "colorscale": [
             [
              0,
              "#0d0887"
             ],
             [
              0.1111111111111111,
              "#46039f"
             ],
             [
              0.2222222222222222,
              "#7201a8"
             ],
             [
              0.3333333333333333,
              "#9c179e"
             ],
             [
              0.4444444444444444,
              "#bd3786"
             ],
             [
              0.5555555555555556,
              "#d8576b"
             ],
             [
              0.6666666666666666,
              "#ed7953"
             ],
             [
              0.7777777777777778,
              "#fb9f3a"
             ],
             [
              0.8888888888888888,
              "#fdca26"
             ],
             [
              1,
              "#f0f921"
             ]
            ],
            "type": "histogram2dcontour"
           }
          ],
          "mesh3d": [
           {
            "colorbar": {
             "outlinewidth": 0,
             "ticks": ""
            },
            "type": "mesh3d"
           }
          ],
          "parcoords": [
           {
            "line": {
             "colorbar": {
              "outlinewidth": 0,
              "ticks": ""
             }
            },
            "type": "parcoords"
           }
          ],
          "pie": [
           {
            "automargin": true,
            "type": "pie"
           }
          ],
          "scatter": [
           {
            "marker": {
             "colorbar": {
              "outlinewidth": 0,
              "ticks": ""
             }
            },
            "type": "scatter"
           }
          ],
          "scatter3d": [
           {
            "line": {
             "colorbar": {
              "outlinewidth": 0,
              "ticks": ""
             }
            },
            "marker": {
             "colorbar": {
              "outlinewidth": 0,
              "ticks": ""
             }
            },
            "type": "scatter3d"
           }
          ],
          "scattercarpet": [
           {
            "marker": {
             "colorbar": {
              "outlinewidth": 0,
              "ticks": ""
             }
            },
            "type": "scattercarpet"
           }
          ],
          "scattergeo": [
           {
            "marker": {
             "colorbar": {
              "outlinewidth": 0,
              "ticks": ""
             }
            },
            "type": "scattergeo"
           }
          ],
          "scattergl": [
           {
            "marker": {
             "colorbar": {
              "outlinewidth": 0,
              "ticks": ""
             }
            },
            "type": "scattergl"
           }
          ],
          "scattermapbox": [
           {
            "marker": {
             "colorbar": {
              "outlinewidth": 0,
              "ticks": ""
             }
            },
            "type": "scattermapbox"
           }
          ],
          "scatterpolar": [
           {
            "marker": {
             "colorbar": {
              "outlinewidth": 0,
              "ticks": ""
             }
            },
            "type": "scatterpolar"
           }
          ],
          "scatterpolargl": [
           {
            "marker": {
             "colorbar": {
              "outlinewidth": 0,
              "ticks": ""
             }
            },
            "type": "scatterpolargl"
           }
          ],
          "scatterternary": [
           {
            "marker": {
             "colorbar": {
              "outlinewidth": 0,
              "ticks": ""
             }
            },
            "type": "scatterternary"
           }
          ],
          "surface": [
           {
            "colorbar": {
             "outlinewidth": 0,
             "ticks": ""
            },
            "colorscale": [
             [
              0,
              "#0d0887"
             ],
             [
              0.1111111111111111,
              "#46039f"
             ],
             [
              0.2222222222222222,
              "#7201a8"
             ],
             [
              0.3333333333333333,
              "#9c179e"
             ],
             [
              0.4444444444444444,
              "#bd3786"
             ],
             [
              0.5555555555555556,
              "#d8576b"
             ],
             [
              0.6666666666666666,
              "#ed7953"
             ],
             [
              0.7777777777777778,
              "#fb9f3a"
             ],
             [
              0.8888888888888888,
              "#fdca26"
             ],
             [
              1,
              "#f0f921"
             ]
            ],
            "type": "surface"
           }
          ],
          "table": [
           {
            "cells": {
             "fill": {
              "color": "#EBF0F8"
             },
             "line": {
              "color": "white"
             }
            },
            "header": {
             "fill": {
              "color": "#C8D4E3"
             },
             "line": {
              "color": "white"
             }
            },
            "type": "table"
           }
          ]
         },
         "layout": {
          "annotationdefaults": {
           "arrowcolor": "#2a3f5f",
           "arrowhead": 0,
           "arrowwidth": 1
          },
          "autotypenumbers": "strict",
          "coloraxis": {
           "colorbar": {
            "outlinewidth": 0,
            "ticks": ""
           }
          },
          "colorscale": {
           "diverging": [
            [
             0,
             "#8e0152"
            ],
            [
             0.1,
             "#c51b7d"
            ],
            [
             0.2,
             "#de77ae"
            ],
            [
             0.3,
             "#f1b6da"
            ],
            [
             0.4,
             "#fde0ef"
            ],
            [
             0.5,
             "#f7f7f7"
            ],
            [
             0.6,
             "#e6f5d0"
            ],
            [
             0.7,
             "#b8e186"
            ],
            [
             0.8,
             "#7fbc41"
            ],
            [
             0.9,
             "#4d9221"
            ],
            [
             1,
             "#276419"
            ]
           ],
           "sequential": [
            [
             0,
             "#0d0887"
            ],
            [
             0.1111111111111111,
             "#46039f"
            ],
            [
             0.2222222222222222,
             "#7201a8"
            ],
            [
             0.3333333333333333,
             "#9c179e"
            ],
            [
             0.4444444444444444,
             "#bd3786"
            ],
            [
             0.5555555555555556,
             "#d8576b"
            ],
            [
             0.6666666666666666,
             "#ed7953"
            ],
            [
             0.7777777777777778,
             "#fb9f3a"
            ],
            [
             0.8888888888888888,
             "#fdca26"
            ],
            [
             1,
             "#f0f921"
            ]
           ],
           "sequentialminus": [
            [
             0,
             "#0d0887"
            ],
            [
             0.1111111111111111,
             "#46039f"
            ],
            [
             0.2222222222222222,
             "#7201a8"
            ],
            [
             0.3333333333333333,
             "#9c179e"
            ],
            [
             0.4444444444444444,
             "#bd3786"
            ],
            [
             0.5555555555555556,
             "#d8576b"
            ],
            [
             0.6666666666666666,
             "#ed7953"
            ],
            [
             0.7777777777777778,
             "#fb9f3a"
            ],
            [
             0.8888888888888888,
             "#fdca26"
            ],
            [
             1,
             "#f0f921"
            ]
           ]
          },
          "colorway": [
           "#636efa",
           "#EF553B",
           "#00cc96",
           "#ab63fa",
           "#FFA15A",
           "#19d3f3",
           "#FF6692",
           "#B6E880",
           "#FF97FF",
           "#FECB52"
          ],
          "font": {
           "color": "#2a3f5f"
          },
          "geo": {
           "bgcolor": "white",
           "lakecolor": "white",
           "landcolor": "#E5ECF6",
           "showlakes": true,
           "showland": true,
           "subunitcolor": "white"
          },
          "hoverlabel": {
           "align": "left"
          },
          "hovermode": "closest",
          "mapbox": {
           "style": "light"
          },
          "paper_bgcolor": "white",
          "plot_bgcolor": "#E5ECF6",
          "polar": {
           "angularaxis": {
            "gridcolor": "white",
            "linecolor": "white",
            "ticks": ""
           },
           "bgcolor": "#E5ECF6",
           "radialaxis": {
            "gridcolor": "white",
            "linecolor": "white",
            "ticks": ""
           }
          },
          "scene": {
           "xaxis": {
            "backgroundcolor": "#E5ECF6",
            "gridcolor": "white",
            "gridwidth": 2,
            "linecolor": "white",
            "showbackground": true,
            "ticks": "",
            "zerolinecolor": "white"
           },
           "yaxis": {
            "backgroundcolor": "#E5ECF6",
            "gridcolor": "white",
            "gridwidth": 2,
            "linecolor": "white",
            "showbackground": true,
            "ticks": "",
            "zerolinecolor": "white"
           },
           "zaxis": {
            "backgroundcolor": "#E5ECF6",
            "gridcolor": "white",
            "gridwidth": 2,
            "linecolor": "white",
            "showbackground": true,
            "ticks": "",
            "zerolinecolor": "white"
           }
          },
          "shapedefaults": {
           "line": {
            "color": "#2a3f5f"
           }
          },
          "ternary": {
           "aaxis": {
            "gridcolor": "white",
            "linecolor": "white",
            "ticks": ""
           },
           "baxis": {
            "gridcolor": "white",
            "linecolor": "white",
            "ticks": ""
           },
           "bgcolor": "#E5ECF6",
           "caxis": {
            "gridcolor": "white",
            "linecolor": "white",
            "ticks": ""
           }
          },
          "title": {
           "x": 0.05
          },
          "xaxis": {
           "automargin": true,
           "gridcolor": "white",
           "linecolor": "white",
           "ticks": "",
           "title": {
            "standoff": 15
           },
           "zerolinecolor": "white",
           "zerolinewidth": 2
          },
          "yaxis": {
           "automargin": true,
           "gridcolor": "white",
           "linecolor": "white",
           "ticks": "",
           "title": {
            "standoff": 15
           },
           "zerolinecolor": "white",
           "zerolinewidth": 2
          }
         }
        },
        "title": {
         "text": "cumVaccinationCompleteCoverageByPublishDatePercentage"
        },
        "xaxis": {
         "anchor": "y",
         "domain": [
          0,
          1
         ],
         "title": {
          "text": "date"
         }
        },
        "yaxis": {
         "anchor": "x",
         "domain": [
          0,
          1
         ],
         "title": {
          "text": "cumVaccinationCompleteCoverageByPublishDatePercentage"
         }
        }
       }
      }
     },
     "metadata": {}
    },
    {
     "output_type": "display_data",
     "data": {
      "application/vnd.plotly.v1+json": {
       "config": {
        "plotlyServerURL": "https://plot.ly"
       },
       "data": [
        {
         "hovertemplate": "date=%{x}<br>newVaccinesGivenByPublishDate=%{y}<extra></extra>",
         "legendgroup": "",
         "line": {
          "color": "#636efa",
          "dash": "solid"
         },
         "marker": {
          "symbol": "circle"
         },
         "mode": "lines",
         "name": "",
         "orientation": "v",
         "showlegend": false,
         "type": "scatter",
         "x": [
          "2021-10-04T00:00:00",
          "2021-10-03T00:00:00",
          "2021-10-02T00:00:00",
          "2021-10-01T00:00:00",
          "2021-09-30T00:00:00",
          "2021-09-29T00:00:00",
          "2021-09-28T00:00:00",
          "2021-09-27T00:00:00",
          "2021-09-26T00:00:00",
          "2021-09-25T00:00:00",
          "2021-09-24T00:00:00",
          "2021-09-23T00:00:00",
          "2021-09-22T00:00:00",
          "2021-09-21T00:00:00",
          "2021-09-20T00:00:00",
          "2021-09-19T00:00:00",
          "2021-09-18T00:00:00",
          "2021-09-17T00:00:00",
          "2021-09-16T00:00:00",
          "2021-09-15T00:00:00",
          "2021-09-14T00:00:00",
          "2021-09-13T00:00:00",
          "2021-09-12T00:00:00",
          "2021-09-11T00:00:00",
          "2021-09-10T00:00:00",
          "2021-09-09T00:00:00",
          "2021-09-08T00:00:00",
          "2021-09-07T00:00:00",
          "2021-09-06T00:00:00",
          "2021-09-05T00:00:00",
          "2021-09-04T00:00:00",
          "2021-09-03T00:00:00",
          "2021-09-02T00:00:00",
          "2021-09-01T00:00:00",
          "2021-08-31T00:00:00",
          "2021-08-30T00:00:00",
          "2021-08-29T00:00:00",
          "2021-08-28T00:00:00",
          "2021-08-27T00:00:00",
          "2021-08-26T00:00:00",
          "2021-08-25T00:00:00",
          "2021-08-24T00:00:00",
          "2021-08-23T00:00:00",
          "2021-08-22T00:00:00",
          "2021-08-21T00:00:00",
          "2021-08-20T00:00:00",
          "2021-08-19T00:00:00",
          "2021-08-18T00:00:00",
          "2021-08-17T00:00:00",
          "2021-08-16T00:00:00",
          "2021-08-15T00:00:00",
          "2021-08-14T00:00:00",
          "2021-08-13T00:00:00",
          "2021-08-12T00:00:00",
          "2021-08-11T00:00:00",
          "2021-08-10T00:00:00",
          "2021-08-09T00:00:00",
          "2021-08-08T00:00:00",
          "2021-08-07T00:00:00",
          "2021-08-06T00:00:00",
          "2021-08-05T00:00:00",
          "2021-08-04T00:00:00",
          "2021-08-03T00:00:00",
          "2021-08-02T00:00:00",
          "2021-08-01T00:00:00",
          "2021-07-31T00:00:00",
          "2021-07-30T00:00:00",
          "2021-07-29T00:00:00",
          "2021-07-28T00:00:00",
          "2021-07-27T00:00:00",
          "2021-07-26T00:00:00",
          "2021-07-25T00:00:00",
          "2021-07-24T00:00:00",
          "2021-07-23T00:00:00",
          "2021-07-22T00:00:00",
          "2021-07-21T00:00:00",
          "2021-07-20T00:00:00",
          "2021-07-19T00:00:00",
          "2021-07-18T00:00:00",
          "2021-07-17T00:00:00",
          "2021-07-16T00:00:00",
          "2021-07-15T00:00:00",
          "2021-07-14T00:00:00",
          "2021-07-13T00:00:00",
          "2021-07-12T00:00:00",
          "2021-07-11T00:00:00",
          "2021-07-10T00:00:00",
          "2021-07-09T00:00:00",
          "2021-07-08T00:00:00",
          "2021-07-07T00:00:00",
          "2021-07-06T00:00:00",
          "2021-07-05T00:00:00",
          "2021-07-04T00:00:00",
          "2021-07-03T00:00:00",
          "2021-07-02T00:00:00",
          "2021-07-01T00:00:00",
          "2021-06-30T00:00:00",
          "2021-06-29T00:00:00",
          "2021-06-28T00:00:00",
          "2021-06-27T00:00:00",
          "2021-06-26T00:00:00",
          "2021-06-25T00:00:00",
          "2021-06-24T00:00:00",
          "2021-06-23T00:00:00",
          "2021-06-22T00:00:00",
          "2021-06-21T00:00:00",
          "2021-06-20T00:00:00",
          "2021-06-19T00:00:00",
          "2021-06-18T00:00:00",
          "2021-06-17T00:00:00",
          "2021-06-16T00:00:00",
          "2021-06-15T00:00:00",
          "2021-06-14T00:00:00",
          "2021-06-13T00:00:00",
          "2021-06-12T00:00:00",
          "2021-06-11T00:00:00",
          "2021-06-10T00:00:00",
          "2021-06-09T00:00:00",
          "2021-06-08T00:00:00",
          "2021-06-07T00:00:00",
          "2021-06-06T00:00:00",
          "2021-06-05T00:00:00",
          "2021-06-04T00:00:00",
          "2021-06-03T00:00:00",
          "2021-06-02T00:00:00",
          "2021-06-01T00:00:00",
          "2021-05-31T00:00:00",
          "2021-05-30T00:00:00",
          "2021-05-29T00:00:00",
          "2021-05-28T00:00:00",
          "2021-05-27T00:00:00",
          "2021-05-26T00:00:00",
          "2021-05-25T00:00:00",
          "2021-05-24T00:00:00",
          "2021-05-23T00:00:00",
          "2021-05-22T00:00:00",
          "2021-05-21T00:00:00",
          "2021-05-20T00:00:00",
          "2021-05-19T00:00:00",
          "2021-05-18T00:00:00",
          "2021-05-17T00:00:00",
          "2021-05-16T00:00:00",
          "2021-05-15T00:00:00",
          "2021-05-14T00:00:00",
          "2021-05-13T00:00:00",
          "2021-05-12T00:00:00",
          "2021-05-11T00:00:00",
          "2021-05-10T00:00:00",
          "2021-05-09T00:00:00",
          "2021-05-08T00:00:00",
          "2021-05-07T00:00:00",
          "2021-05-06T00:00:00",
          "2021-05-05T00:00:00",
          "2021-05-04T00:00:00",
          "2021-05-03T00:00:00",
          "2021-05-02T00:00:00",
          "2021-05-01T00:00:00",
          "2021-04-30T00:00:00",
          "2021-04-29T00:00:00",
          "2021-04-28T00:00:00",
          "2021-04-27T00:00:00",
          "2021-04-26T00:00:00",
          "2021-04-25T00:00:00",
          "2021-04-24T00:00:00",
          "2021-04-23T00:00:00",
          "2021-04-22T00:00:00",
          "2021-04-21T00:00:00",
          "2021-04-20T00:00:00",
          "2021-04-19T00:00:00",
          "2021-04-18T00:00:00",
          "2021-04-17T00:00:00",
          "2021-04-16T00:00:00",
          "2021-04-15T00:00:00",
          "2021-04-14T00:00:00",
          "2021-04-13T00:00:00",
          "2021-04-12T00:00:00",
          "2021-04-11T00:00:00",
          "2021-04-10T00:00:00",
          "2021-04-09T00:00:00",
          "2021-04-08T00:00:00",
          "2021-04-07T00:00:00",
          "2021-04-06T00:00:00",
          "2021-04-05T00:00:00",
          "2021-04-04T00:00:00",
          "2021-04-03T00:00:00",
          "2021-04-02T00:00:00",
          "2021-04-01T00:00:00",
          "2021-03-31T00:00:00",
          "2021-03-30T00:00:00",
          "2021-03-29T00:00:00",
          "2021-03-28T00:00:00",
          "2021-03-27T00:00:00",
          "2021-03-26T00:00:00",
          "2021-03-25T00:00:00",
          "2021-03-24T00:00:00",
          "2021-03-23T00:00:00",
          "2021-03-22T00:00:00",
          "2021-03-21T00:00:00",
          "2021-03-20T00:00:00",
          "2021-03-19T00:00:00",
          "2021-03-18T00:00:00",
          "2021-03-17T00:00:00",
          "2021-03-16T00:00:00",
          "2021-03-15T00:00:00",
          "2021-03-14T00:00:00",
          "2021-03-13T00:00:00",
          "2021-03-12T00:00:00",
          "2021-03-11T00:00:00",
          "2021-03-10T00:00:00",
          "2021-03-09T00:00:00",
          "2021-03-08T00:00:00",
          "2021-03-07T00:00:00",
          "2021-03-06T00:00:00",
          "2021-03-05T00:00:00",
          "2021-03-04T00:00:00",
          "2021-03-03T00:00:00",
          "2021-03-02T00:00:00",
          "2021-03-01T00:00:00",
          "2021-02-28T00:00:00",
          "2021-02-27T00:00:00",
          "2021-02-26T00:00:00",
          "2021-02-25T00:00:00",
          "2021-02-24T00:00:00",
          "2021-02-23T00:00:00",
          "2021-02-22T00:00:00",
          "2021-02-21T00:00:00",
          "2021-02-20T00:00:00",
          "2021-02-19T00:00:00",
          "2021-02-18T00:00:00",
          "2021-02-17T00:00:00",
          "2021-02-16T00:00:00",
          "2021-02-15T00:00:00",
          "2021-02-14T00:00:00",
          "2021-02-13T00:00:00",
          "2021-02-12T00:00:00",
          "2021-02-11T00:00:00",
          "2021-02-10T00:00:00",
          "2021-02-09T00:00:00",
          "2021-02-08T00:00:00",
          "2021-02-07T00:00:00",
          "2021-02-06T00:00:00",
          "2021-02-05T00:00:00",
          "2021-02-04T00:00:00",
          "2021-02-03T00:00:00",
          "2021-02-02T00:00:00",
          "2021-02-01T00:00:00",
          "2021-01-31T00:00:00",
          "2021-01-30T00:00:00",
          "2021-01-29T00:00:00",
          "2021-01-28T00:00:00",
          "2021-01-27T00:00:00",
          "2021-01-26T00:00:00",
          "2021-01-25T00:00:00",
          "2021-01-24T00:00:00",
          "2021-01-23T00:00:00",
          "2021-01-22T00:00:00",
          "2021-01-21T00:00:00",
          "2021-01-20T00:00:00",
          "2021-01-19T00:00:00",
          "2021-01-18T00:00:00",
          "2021-01-17T00:00:00",
          "2021-01-16T00:00:00",
          "2021-01-15T00:00:00",
          "2021-01-14T00:00:00",
          "2021-01-13T00:00:00",
          "2021-01-12T00:00:00",
          "2021-01-11T00:00:00",
          "2021-01-10T00:00:00"
         ],
         "xaxis": "x",
         "y": [
          67008,
          45655,
          65457,
          72469,
          68831,
          65632,
          65385,
          58096,
          41523,
          71414,
          72376,
          69671,
          66726,
          63790,
          66492,
          48997,
          98695,
          81162,
          87024,
          87692,
          84370,
          80081,
          67570,
          125972,
          117875,
          122476,
          113091,
          112472,
          102713,
          94988,
          169607,
          145856,
          159377,
          157473,
          159301,
          86291,
          103830,
          176959,
          176393,
          200076,
          229781,
          186086,
          177684,
          156697,
          267887,
          228277,
          231038,
          216507,
          189699,
          174106,
          157640,
          246187,
          212075,
          236943,
          215329,
          188654,
          169278,
          144913,
          251573,
          205332,
          208192,
          199003,
          172051,
          152284,
          139276,
          250840,
          207820,
          222271,
          215020,
          187052,
          178955,
          142507,
          247691,
          232315,
          232333,
          228439,
          200314,
          179230,
          147064,
          292431,
          271805,
          263574,
          246035,
          217349,
          179656,
          149620,
          305209,
          268902,
          271897,
          258430,
          238937,
          224776,
          188632,
          333598,
          301083,
          345591,
          316965,
          288679,
          265276,
          263267,
          433946,
          377267,
          399347,
          375635,
          550712,
          60405,
          273158,
          516604,
          428817,
          467238,
          430399,
          420699,
          368555,
          328349,
          574511,
          515723,
          509645,
          492817,
          450284,
          419009,
          387286,
          676991,
          567955,
          568907,
          521782,
          447072,
          288649,
          331209,
          602374,
          640393,
          690613,
          663577,
          574134,
          455334,
          378496,
          762361,
          646340,
          688563,
          633876,
          498101,
          365782,
          315063,
          628577,
          613470,
          637325,
          636647,
          485260,
          346888,
          287797,
          607864,
          598823,
          608471,
          543323,
          384656,
          200099,
          262815,
          515479,
          567374,
          614135,
          597025,
          495593,
          395383,
          340496,
          696403,
          600801,
          562056,
          534693,
          457649,
          373423,
          304418,
          639080,
          635221,
          547465,
          461618,
          388808,
          261096,
          258888,
          586339,
          557014,
          545511,
          507926,
          272020,
          105334,
          95763,
          286799,
          354051,
          616234,
          627008,
          503599,
          405039,
          441142,
          663162,
          694959,
          559324,
          580307,
          494805,
          412197,
          419618,
          844285,
          740655,
          660276,
          581855,
          529119,
          440051,
          282381,
          564263,
          457254,
          354372,
          341049,
          290223,
          254061,
          184384,
          448396,
          494235,
          446450,
          347406,
          276310,
          231450,
          205584,
          434825,
          537266,
          521039,
          480575,
          353009,
          210804,
          150896,
          344942,
          387200,
          468321,
          497257,
          377277,
          282491,
          239877,
          508208,
          549378,
          508763,
          455704,
          414973,
          356291,
          279850,
          551470,
          498227,
          484596,
          472011,
          376922,
          352935,
          322194,
          609010,
          489934,
          416188,
          314707,
          312770,
          281725,
          221067,
          493013,
          480069,
          412615,
          366919,
          346922,
          208641,
          192346,
          298751,
          345525,
          321951,
          288688,
          223726,
          165844,
          null
         ],
         "yaxis": "y"
        }
       ],
       "layout": {
        "legend": {
         "tracegroupgap": 0
        },
        "template": {
         "data": {
          "bar": [
           {
            "error_x": {
             "color": "#2a3f5f"
            },
            "error_y": {
             "color": "#2a3f5f"
            },
            "marker": {
             "line": {
              "color": "#E5ECF6",
              "width": 0.5
             },
             "pattern": {
              "fillmode": "overlay",
              "size": 10,
              "solidity": 0.2
             }
            },
            "type": "bar"
           }
          ],
          "barpolar": [
           {
            "marker": {
             "line": {
              "color": "#E5ECF6",
              "width": 0.5
             },
             "pattern": {
              "fillmode": "overlay",
              "size": 10,
              "solidity": 0.2
             }
            },
            "type": "barpolar"
           }
          ],
          "carpet": [
           {
            "aaxis": {
             "endlinecolor": "#2a3f5f",
             "gridcolor": "white",
             "linecolor": "white",
             "minorgridcolor": "white",
             "startlinecolor": "#2a3f5f"
            },
            "baxis": {
             "endlinecolor": "#2a3f5f",
             "gridcolor": "white",
             "linecolor": "white",
             "minorgridcolor": "white",
             "startlinecolor": "#2a3f5f"
            },
            "type": "carpet"
           }
          ],
          "choropleth": [
           {
            "colorbar": {
             "outlinewidth": 0,
             "ticks": ""
            },
            "type": "choropleth"
           }
          ],
          "contour": [
           {
            "colorbar": {
             "outlinewidth": 0,
             "ticks": ""
            },
            "colorscale": [
             [
              0,
              "#0d0887"
             ],
             [
              0.1111111111111111,
              "#46039f"
             ],
             [
              0.2222222222222222,
              "#7201a8"
             ],
             [
              0.3333333333333333,
              "#9c179e"
             ],
             [
              0.4444444444444444,
              "#bd3786"
             ],
             [
              0.5555555555555556,
              "#d8576b"
             ],
             [
              0.6666666666666666,
              "#ed7953"
             ],
             [
              0.7777777777777778,
              "#fb9f3a"
             ],
             [
              0.8888888888888888,
              "#fdca26"
             ],
             [
              1,
              "#f0f921"
             ]
            ],
            "type": "contour"
           }
          ],
          "contourcarpet": [
           {
            "colorbar": {
             "outlinewidth": 0,
             "ticks": ""
            },
            "type": "contourcarpet"
           }
          ],
          "heatmap": [
           {
            "colorbar": {
             "outlinewidth": 0,
             "ticks": ""
            },
            "colorscale": [
             [
              0,
              "#0d0887"
             ],
             [
              0.1111111111111111,
              "#46039f"
             ],
             [
              0.2222222222222222,
              "#7201a8"
             ],
             [
              0.3333333333333333,
              "#9c179e"
             ],
             [
              0.4444444444444444,
              "#bd3786"
             ],
             [
              0.5555555555555556,
              "#d8576b"
             ],
             [
              0.6666666666666666,
              "#ed7953"
             ],
             [
              0.7777777777777778,
              "#fb9f3a"
             ],
             [
              0.8888888888888888,
              "#fdca26"
             ],
             [
              1,
              "#f0f921"
             ]
            ],
            "type": "heatmap"
           }
          ],
          "heatmapgl": [
           {
            "colorbar": {
             "outlinewidth": 0,
             "ticks": ""
            },
            "colorscale": [
             [
              0,
              "#0d0887"
             ],
             [
              0.1111111111111111,
              "#46039f"
             ],
             [
              0.2222222222222222,
              "#7201a8"
             ],
             [
              0.3333333333333333,
              "#9c179e"
             ],
             [
              0.4444444444444444,
              "#bd3786"
             ],
             [
              0.5555555555555556,
              "#d8576b"
             ],
             [
              0.6666666666666666,
              "#ed7953"
             ],
             [
              0.7777777777777778,
              "#fb9f3a"
             ],
             [
              0.8888888888888888,
              "#fdca26"
             ],
             [
              1,
              "#f0f921"
             ]
            ],
            "type": "heatmapgl"
           }
          ],
          "histogram": [
           {
            "marker": {
             "pattern": {
              "fillmode": "overlay",
              "size": 10,
              "solidity": 0.2
             }
            },
            "type": "histogram"
           }
          ],
          "histogram2d": [
           {
            "colorbar": {
             "outlinewidth": 0,
             "ticks": ""
            },
            "colorscale": [
             [
              0,
              "#0d0887"
             ],
             [
              0.1111111111111111,
              "#46039f"
             ],
             [
              0.2222222222222222,
              "#7201a8"
             ],
             [
              0.3333333333333333,
              "#9c179e"
             ],
             [
              0.4444444444444444,
              "#bd3786"
             ],
             [
              0.5555555555555556,
              "#d8576b"
             ],
             [
              0.6666666666666666,
              "#ed7953"
             ],
             [
              0.7777777777777778,
              "#fb9f3a"
             ],
             [
              0.8888888888888888,
              "#fdca26"
             ],
             [
              1,
              "#f0f921"
             ]
            ],
            "type": "histogram2d"
           }
          ],
          "histogram2dcontour": [
           {
            "colorbar": {
             "outlinewidth": 0,
             "ticks": ""
            },
            "colorscale": [
             [
              0,
              "#0d0887"
             ],
             [
              0.1111111111111111,
              "#46039f"
             ],
             [
              0.2222222222222222,
              "#7201a8"
             ],
             [
              0.3333333333333333,
              "#9c179e"
             ],
             [
              0.4444444444444444,
              "#bd3786"
             ],
             [
              0.5555555555555556,
              "#d8576b"
             ],
             [
              0.6666666666666666,
              "#ed7953"
             ],
             [
              0.7777777777777778,
              "#fb9f3a"
             ],
             [
              0.8888888888888888,
              "#fdca26"
             ],
             [
              1,
              "#f0f921"
             ]
            ],
            "type": "histogram2dcontour"
           }
          ],
          "mesh3d": [
           {
            "colorbar": {
             "outlinewidth": 0,
             "ticks": ""
            },
            "type": "mesh3d"
           }
          ],
          "parcoords": [
           {
            "line": {
             "colorbar": {
              "outlinewidth": 0,
              "ticks": ""
             }
            },
            "type": "parcoords"
           }
          ],
          "pie": [
           {
            "automargin": true,
            "type": "pie"
           }
          ],
          "scatter": [
           {
            "marker": {
             "colorbar": {
              "outlinewidth": 0,
              "ticks": ""
             }
            },
            "type": "scatter"
           }
          ],
          "scatter3d": [
           {
            "line": {
             "colorbar": {
              "outlinewidth": 0,
              "ticks": ""
             }
            },
            "marker": {
             "colorbar": {
              "outlinewidth": 0,
              "ticks": ""
             }
            },
            "type": "scatter3d"
           }
          ],
          "scattercarpet": [
           {
            "marker": {
             "colorbar": {
              "outlinewidth": 0,
              "ticks": ""
             }
            },
            "type": "scattercarpet"
           }
          ],
          "scattergeo": [
           {
            "marker": {
             "colorbar": {
              "outlinewidth": 0,
              "ticks": ""
             }
            },
            "type": "scattergeo"
           }
          ],
          "scattergl": [
           {
            "marker": {
             "colorbar": {
              "outlinewidth": 0,
              "ticks": ""
             }
            },
            "type": "scattergl"
           }
          ],
          "scattermapbox": [
           {
            "marker": {
             "colorbar": {
              "outlinewidth": 0,
              "ticks": ""
             }
            },
            "type": "scattermapbox"
           }
          ],
          "scatterpolar": [
           {
            "marker": {
             "colorbar": {
              "outlinewidth": 0,
              "ticks": ""
             }
            },
            "type": "scatterpolar"
           }
          ],
          "scatterpolargl": [
           {
            "marker": {
             "colorbar": {
              "outlinewidth": 0,
              "ticks": ""
             }
            },
            "type": "scatterpolargl"
           }
          ],
          "scatterternary": [
           {
            "marker": {
             "colorbar": {
              "outlinewidth": 0,
              "ticks": ""
             }
            },
            "type": "scatterternary"
           }
          ],
          "surface": [
           {
            "colorbar": {
             "outlinewidth": 0,
             "ticks": ""
            },
            "colorscale": [
             [
              0,
              "#0d0887"
             ],
             [
              0.1111111111111111,
              "#46039f"
             ],
             [
              0.2222222222222222,
              "#7201a8"
             ],
             [
              0.3333333333333333,
              "#9c179e"
             ],
             [
              0.4444444444444444,
              "#bd3786"
             ],
             [
              0.5555555555555556,
              "#d8576b"
             ],
             [
              0.6666666666666666,
              "#ed7953"
             ],
             [
              0.7777777777777778,
              "#fb9f3a"
             ],
             [
              0.8888888888888888,
              "#fdca26"
             ],
             [
              1,
              "#f0f921"
             ]
            ],
            "type": "surface"
           }
          ],
          "table": [
           {
            "cells": {
             "fill": {
              "color": "#EBF0F8"
             },
             "line": {
              "color": "white"
             }
            },
            "header": {
             "fill": {
              "color": "#C8D4E3"
             },
             "line": {
              "color": "white"
             }
            },
            "type": "table"
           }
          ]
         },
         "layout": {
          "annotationdefaults": {
           "arrowcolor": "#2a3f5f",
           "arrowhead": 0,
           "arrowwidth": 1
          },
          "autotypenumbers": "strict",
          "coloraxis": {
           "colorbar": {
            "outlinewidth": 0,
            "ticks": ""
           }
          },
          "colorscale": {
           "diverging": [
            [
             0,
             "#8e0152"
            ],
            [
             0.1,
             "#c51b7d"
            ],
            [
             0.2,
             "#de77ae"
            ],
            [
             0.3,
             "#f1b6da"
            ],
            [
             0.4,
             "#fde0ef"
            ],
            [
             0.5,
             "#f7f7f7"
            ],
            [
             0.6,
             "#e6f5d0"
            ],
            [
             0.7,
             "#b8e186"
            ],
            [
             0.8,
             "#7fbc41"
            ],
            [
             0.9,
             "#4d9221"
            ],
            [
             1,
             "#276419"
            ]
           ],
           "sequential": [
            [
             0,
             "#0d0887"
            ],
            [
             0.1111111111111111,
             "#46039f"
            ],
            [
             0.2222222222222222,
             "#7201a8"
            ],
            [
             0.3333333333333333,
             "#9c179e"
            ],
            [
             0.4444444444444444,
             "#bd3786"
            ],
            [
             0.5555555555555556,
             "#d8576b"
            ],
            [
             0.6666666666666666,
             "#ed7953"
            ],
            [
             0.7777777777777778,
             "#fb9f3a"
            ],
            [
             0.8888888888888888,
             "#fdca26"
            ],
            [
             1,
             "#f0f921"
            ]
           ],
           "sequentialminus": [
            [
             0,
             "#0d0887"
            ],
            [
             0.1111111111111111,
             "#46039f"
            ],
            [
             0.2222222222222222,
             "#7201a8"
            ],
            [
             0.3333333333333333,
             "#9c179e"
            ],
            [
             0.4444444444444444,
             "#bd3786"
            ],
            [
             0.5555555555555556,
             "#d8576b"
            ],
            [
             0.6666666666666666,
             "#ed7953"
            ],
            [
             0.7777777777777778,
             "#fb9f3a"
            ],
            [
             0.8888888888888888,
             "#fdca26"
            ],
            [
             1,
             "#f0f921"
            ]
           ]
          },
          "colorway": [
           "#636efa",
           "#EF553B",
           "#00cc96",
           "#ab63fa",
           "#FFA15A",
           "#19d3f3",
           "#FF6692",
           "#B6E880",
           "#FF97FF",
           "#FECB52"
          ],
          "font": {
           "color": "#2a3f5f"
          },
          "geo": {
           "bgcolor": "white",
           "lakecolor": "white",
           "landcolor": "#E5ECF6",
           "showlakes": true,
           "showland": true,
           "subunitcolor": "white"
          },
          "hoverlabel": {
           "align": "left"
          },
          "hovermode": "closest",
          "mapbox": {
           "style": "light"
          },
          "paper_bgcolor": "white",
          "plot_bgcolor": "#E5ECF6",
          "polar": {
           "angularaxis": {
            "gridcolor": "white",
            "linecolor": "white",
            "ticks": ""
           },
           "bgcolor": "#E5ECF6",
           "radialaxis": {
            "gridcolor": "white",
            "linecolor": "white",
            "ticks": ""
           }
          },
          "scene": {
           "xaxis": {
            "backgroundcolor": "#E5ECF6",
            "gridcolor": "white",
            "gridwidth": 2,
            "linecolor": "white",
            "showbackground": true,
            "ticks": "",
            "zerolinecolor": "white"
           },
           "yaxis": {
            "backgroundcolor": "#E5ECF6",
            "gridcolor": "white",
            "gridwidth": 2,
            "linecolor": "white",
            "showbackground": true,
            "ticks": "",
            "zerolinecolor": "white"
           },
           "zaxis": {
            "backgroundcolor": "#E5ECF6",
            "gridcolor": "white",
            "gridwidth": 2,
            "linecolor": "white",
            "showbackground": true,
            "ticks": "",
            "zerolinecolor": "white"
           }
          },
          "shapedefaults": {
           "line": {
            "color": "#2a3f5f"
           }
          },
          "ternary": {
           "aaxis": {
            "gridcolor": "white",
            "linecolor": "white",
            "ticks": ""
           },
           "baxis": {
            "gridcolor": "white",
            "linecolor": "white",
            "ticks": ""
           },
           "bgcolor": "#E5ECF6",
           "caxis": {
            "gridcolor": "white",
            "linecolor": "white",
            "ticks": ""
           }
          },
          "title": {
           "x": 0.05
          },
          "xaxis": {
           "automargin": true,
           "gridcolor": "white",
           "linecolor": "white",
           "ticks": "",
           "title": {
            "standoff": 15
           },
           "zerolinecolor": "white",
           "zerolinewidth": 2
          },
          "yaxis": {
           "automargin": true,
           "gridcolor": "white",
           "linecolor": "white",
           "ticks": "",
           "title": {
            "standoff": 15
           },
           "zerolinecolor": "white",
           "zerolinewidth": 2
          }
         }
        },
        "title": {
         "text": "newVaccinesGivenByPublishDate"
        },
        "xaxis": {
         "anchor": "y",
         "domain": [
          0,
          1
         ],
         "title": {
          "text": "date"
         }
        },
        "yaxis": {
         "anchor": "x",
         "domain": [
          0,
          1
         ],
         "title": {
          "text": "newVaccinesGivenByPublishDate"
         }
        }
       }
      }
     },
     "metadata": {}
    }
   ],
   "metadata": {}
  },
  {
   "cell_type": "markdown",
   "source": [
    "## Restictions Data"
   ],
   "metadata": {}
  },
  {
   "cell_type": "code",
   "execution_count": 39,
   "source": [
    "restrictions_data = pd.read_csv(r'data\\restrictions_daily.csv', parse_dates=['date'])\r\n",
    "restrictions_data.head(5)"
   ],
   "outputs": [
    {
     "output_type": "execute_result",
     "data": {
      "text/html": [
       "<div>\n",
       "<style scoped>\n",
       "    .dataframe tbody tr th:only-of-type {\n",
       "        vertical-align: middle;\n",
       "    }\n",
       "\n",
       "    .dataframe tbody tr th {\n",
       "        vertical-align: top;\n",
       "    }\n",
       "\n",
       "    .dataframe thead th {\n",
       "        text-align: right;\n",
       "    }\n",
       "</style>\n",
       "<table border=\"1\" class=\"dataframe\">\n",
       "  <thead>\n",
       "    <tr style=\"text-align: right;\">\n",
       "      <th></th>\n",
       "      <th>date</th>\n",
       "      <th>schools_closed</th>\n",
       "      <th>pubs_closed</th>\n",
       "      <th>shops_closed</th>\n",
       "      <th>eating_places_closed</th>\n",
       "      <th>stay_at_home</th>\n",
       "      <th>household_mixing_indoors_banned</th>\n",
       "      <th>wfh</th>\n",
       "      <th>rule_of_6_indoors</th>\n",
       "      <th>curfew</th>\n",
       "      <th>eat_out_to_help_out</th>\n",
       "    </tr>\n",
       "  </thead>\n",
       "  <tbody>\n",
       "    <tr>\n",
       "      <th>0</th>\n",
       "      <td>2020-03-01</td>\n",
       "      <td>0</td>\n",
       "      <td>0</td>\n",
       "      <td>0</td>\n",
       "      <td>0</td>\n",
       "      <td>0</td>\n",
       "      <td>0</td>\n",
       "      <td>0</td>\n",
       "      <td>0</td>\n",
       "      <td>0</td>\n",
       "      <td>0</td>\n",
       "    </tr>\n",
       "    <tr>\n",
       "      <th>1</th>\n",
       "      <td>2020-03-02</td>\n",
       "      <td>0</td>\n",
       "      <td>0</td>\n",
       "      <td>0</td>\n",
       "      <td>0</td>\n",
       "      <td>0</td>\n",
       "      <td>0</td>\n",
       "      <td>0</td>\n",
       "      <td>0</td>\n",
       "      <td>0</td>\n",
       "      <td>0</td>\n",
       "    </tr>\n",
       "    <tr>\n",
       "      <th>2</th>\n",
       "      <td>2020-03-03</td>\n",
       "      <td>0</td>\n",
       "      <td>0</td>\n",
       "      <td>0</td>\n",
       "      <td>0</td>\n",
       "      <td>0</td>\n",
       "      <td>0</td>\n",
       "      <td>0</td>\n",
       "      <td>0</td>\n",
       "      <td>0</td>\n",
       "      <td>0</td>\n",
       "    </tr>\n",
       "    <tr>\n",
       "      <th>3</th>\n",
       "      <td>2020-03-04</td>\n",
       "      <td>0</td>\n",
       "      <td>0</td>\n",
       "      <td>0</td>\n",
       "      <td>0</td>\n",
       "      <td>0</td>\n",
       "      <td>0</td>\n",
       "      <td>0</td>\n",
       "      <td>0</td>\n",
       "      <td>0</td>\n",
       "      <td>0</td>\n",
       "    </tr>\n",
       "    <tr>\n",
       "      <th>4</th>\n",
       "      <td>2020-03-05</td>\n",
       "      <td>0</td>\n",
       "      <td>0</td>\n",
       "      <td>0</td>\n",
       "      <td>0</td>\n",
       "      <td>0</td>\n",
       "      <td>0</td>\n",
       "      <td>0</td>\n",
       "      <td>0</td>\n",
       "      <td>0</td>\n",
       "      <td>0</td>\n",
       "    </tr>\n",
       "  </tbody>\n",
       "</table>\n",
       "</div>"
      ],
      "text/plain": [
       "        date  schools_closed  pubs_closed  shops_closed  eating_places_closed  \\\n",
       "0 2020-03-01               0            0             0                     0   \n",
       "1 2020-03-02               0            0             0                     0   \n",
       "2 2020-03-03               0            0             0                     0   \n",
       "3 2020-03-04               0            0             0                     0   \n",
       "4 2020-03-05               0            0             0                     0   \n",
       "\n",
       "   stay_at_home  household_mixing_indoors_banned  wfh  rule_of_6_indoors  \\\n",
       "0             0                                0    0                  0   \n",
       "1             0                                0    0                  0   \n",
       "2             0                                0    0                  0   \n",
       "3             0                                0    0                  0   \n",
       "4             0                                0    0                  0   \n",
       "\n",
       "   curfew  eat_out_to_help_out  \n",
       "0       0                    0  \n",
       "1       0                    0  \n",
       "2       0                    0  \n",
       "3       0                    0  \n",
       "4       0                    0  "
      ]
     },
     "metadata": {},
     "execution_count": 39
    }
   ],
   "metadata": {}
  },
  {
   "cell_type": "code",
   "execution_count": 40,
   "source": [
    "restrictions_data.info()"
   ],
   "outputs": [
    {
     "output_type": "stream",
     "name": "stdout",
     "text": [
      "<class 'pandas.core.frame.DataFrame'>\n",
      "RangeIndex: 512 entries, 0 to 511\n",
      "Data columns (total 11 columns):\n",
      " #   Column                           Non-Null Count  Dtype         \n",
      "---  ------                           --------------  -----         \n",
      " 0   date                             512 non-null    datetime64[ns]\n",
      " 1   schools_closed                   512 non-null    int64         \n",
      " 2   pubs_closed                      512 non-null    int64         \n",
      " 3   shops_closed                     512 non-null    int64         \n",
      " 4   eating_places_closed             512 non-null    int64         \n",
      " 5   stay_at_home                     512 non-null    int64         \n",
      " 6   household_mixing_indoors_banned  512 non-null    int64         \n",
      " 7   wfh                              512 non-null    int64         \n",
      " 8   rule_of_6_indoors                512 non-null    int64         \n",
      " 9   curfew                           512 non-null    int64         \n",
      " 10  eat_out_to_help_out              512 non-null    int64         \n",
      "dtypes: datetime64[ns](1), int64(10)\n",
      "memory usage: 44.1 KB\n"
     ]
    }
   ],
   "metadata": {}
  },
  {
   "cell_type": "code",
   "execution_count": 41,
   "source": [
    "restrictions_data.describe(include=['datetime']).T"
   ],
   "outputs": [
    {
     "output_type": "stream",
     "name": "stderr",
     "text": [
      "C:\\Users\\steph\\anaconda3\\envs\\montVenv\\lib\\site-packages\\ipykernel_launcher.py:1: FutureWarning: Treating datetime data as categorical rather than numeric in `.describe` is deprecated and will be removed in a future version of pandas. Specify `datetime_is_numeric=True` to silence this warning and adopt the future behavior now.\n",
      "  \"\"\"Entry point for launching an IPython kernel.\n"
     ]
    },
    {
     "output_type": "execute_result",
     "data": {
      "text/html": [
       "<div>\n",
       "<style scoped>\n",
       "    .dataframe tbody tr th:only-of-type {\n",
       "        vertical-align: middle;\n",
       "    }\n",
       "\n",
       "    .dataframe tbody tr th {\n",
       "        vertical-align: top;\n",
       "    }\n",
       "\n",
       "    .dataframe thead th {\n",
       "        text-align: right;\n",
       "    }\n",
       "</style>\n",
       "<table border=\"1\" class=\"dataframe\">\n",
       "  <thead>\n",
       "    <tr style=\"text-align: right;\">\n",
       "      <th></th>\n",
       "      <th>count</th>\n",
       "      <th>unique</th>\n",
       "      <th>top</th>\n",
       "      <th>freq</th>\n",
       "      <th>first</th>\n",
       "      <th>last</th>\n",
       "    </tr>\n",
       "  </thead>\n",
       "  <tbody>\n",
       "    <tr>\n",
       "      <th>date</th>\n",
       "      <td>512</td>\n",
       "      <td>512</td>\n",
       "      <td>2021-04-03</td>\n",
       "      <td>1</td>\n",
       "      <td>2020-03-01</td>\n",
       "      <td>2021-07-25</td>\n",
       "    </tr>\n",
       "  </tbody>\n",
       "</table>\n",
       "</div>"
      ],
      "text/plain": [
       "     count unique        top freq      first       last\n",
       "date   512    512 2021-04-03    1 2020-03-01 2021-07-25"
      ]
     },
     "metadata": {},
     "execution_count": 41
    }
   ],
   "metadata": {}
  },
  {
   "cell_type": "code",
   "execution_count": 42,
   "source": [
    "restrictions_data.describe().T"
   ],
   "outputs": [
    {
     "output_type": "execute_result",
     "data": {
      "text/html": [
       "<div>\n",
       "<style scoped>\n",
       "    .dataframe tbody tr th:only-of-type {\n",
       "        vertical-align: middle;\n",
       "    }\n",
       "\n",
       "    .dataframe tbody tr th {\n",
       "        vertical-align: top;\n",
       "    }\n",
       "\n",
       "    .dataframe thead th {\n",
       "        text-align: right;\n",
       "    }\n",
       "</style>\n",
       "<table border=\"1\" class=\"dataframe\">\n",
       "  <thead>\n",
       "    <tr style=\"text-align: right;\">\n",
       "      <th></th>\n",
       "      <th>count</th>\n",
       "      <th>mean</th>\n",
       "      <th>std</th>\n",
       "      <th>min</th>\n",
       "      <th>25%</th>\n",
       "      <th>50%</th>\n",
       "      <th>75%</th>\n",
       "      <th>max</th>\n",
       "    </tr>\n",
       "  </thead>\n",
       "  <tbody>\n",
       "    <tr>\n",
       "      <th>schools_closed</th>\n",
       "      <td>512.0</td>\n",
       "      <td>0.257812</td>\n",
       "      <td>0.437858</td>\n",
       "      <td>0.0</td>\n",
       "      <td>0.0</td>\n",
       "      <td>0.0</td>\n",
       "      <td>1.0</td>\n",
       "      <td>1.0</td>\n",
       "    </tr>\n",
       "    <tr>\n",
       "      <th>pubs_closed</th>\n",
       "      <td>512.0</td>\n",
       "      <td>0.486328</td>\n",
       "      <td>0.500302</td>\n",
       "      <td>0.0</td>\n",
       "      <td>0.0</td>\n",
       "      <td>0.0</td>\n",
       "      <td>1.0</td>\n",
       "      <td>1.0</td>\n",
       "    </tr>\n",
       "    <tr>\n",
       "      <th>shops_closed</th>\n",
       "      <td>512.0</td>\n",
       "      <td>0.435547</td>\n",
       "      <td>0.496313</td>\n",
       "      <td>0.0</td>\n",
       "      <td>0.0</td>\n",
       "      <td>0.0</td>\n",
       "      <td>1.0</td>\n",
       "      <td>1.0</td>\n",
       "    </tr>\n",
       "    <tr>\n",
       "      <th>eating_places_closed</th>\n",
       "      <td>512.0</td>\n",
       "      <td>0.486328</td>\n",
       "      <td>0.500302</td>\n",
       "      <td>0.0</td>\n",
       "      <td>0.0</td>\n",
       "      <td>0.0</td>\n",
       "      <td>1.0</td>\n",
       "      <td>1.0</td>\n",
       "    </tr>\n",
       "    <tr>\n",
       "      <th>stay_at_home</th>\n",
       "      <td>512.0</td>\n",
       "      <td>0.339844</td>\n",
       "      <td>0.474119</td>\n",
       "      <td>0.0</td>\n",
       "      <td>0.0</td>\n",
       "      <td>0.0</td>\n",
       "      <td>1.0</td>\n",
       "      <td>1.0</td>\n",
       "    </tr>\n",
       "    <tr>\n",
       "      <th>household_mixing_indoors_banned</th>\n",
       "      <td>512.0</td>\n",
       "      <td>0.613281</td>\n",
       "      <td>0.487475</td>\n",
       "      <td>0.0</td>\n",
       "      <td>0.0</td>\n",
       "      <td>1.0</td>\n",
       "      <td>1.0</td>\n",
       "      <td>1.0</td>\n",
       "    </tr>\n",
       "    <tr>\n",
       "      <th>wfh</th>\n",
       "      <td>512.0</td>\n",
       "      <td>0.853516</td>\n",
       "      <td>0.353937</td>\n",
       "      <td>0.0</td>\n",
       "      <td>1.0</td>\n",
       "      <td>1.0</td>\n",
       "      <td>1.0</td>\n",
       "      <td>1.0</td>\n",
       "    </tr>\n",
       "    <tr>\n",
       "      <th>rule_of_6_indoors</th>\n",
       "      <td>512.0</td>\n",
       "      <td>0.187500</td>\n",
       "      <td>0.390694</td>\n",
       "      <td>0.0</td>\n",
       "      <td>0.0</td>\n",
       "      <td>0.0</td>\n",
       "      <td>0.0</td>\n",
       "      <td>1.0</td>\n",
       "    </tr>\n",
       "    <tr>\n",
       "      <th>curfew</th>\n",
       "      <td>512.0</td>\n",
       "      <td>0.109375</td>\n",
       "      <td>0.312414</td>\n",
       "      <td>0.0</td>\n",
       "      <td>0.0</td>\n",
       "      <td>0.0</td>\n",
       "      <td>0.0</td>\n",
       "      <td>1.0</td>\n",
       "    </tr>\n",
       "    <tr>\n",
       "      <th>eat_out_to_help_out</th>\n",
       "      <td>512.0</td>\n",
       "      <td>0.054688</td>\n",
       "      <td>0.227592</td>\n",
       "      <td>0.0</td>\n",
       "      <td>0.0</td>\n",
       "      <td>0.0</td>\n",
       "      <td>0.0</td>\n",
       "      <td>1.0</td>\n",
       "    </tr>\n",
       "  </tbody>\n",
       "</table>\n",
       "</div>"
      ],
      "text/plain": [
       "                                 count      mean       std  min  25%  50%  \\\n",
       "schools_closed                   512.0  0.257812  0.437858  0.0  0.0  0.0   \n",
       "pubs_closed                      512.0  0.486328  0.500302  0.0  0.0  0.0   \n",
       "shops_closed                     512.0  0.435547  0.496313  0.0  0.0  0.0   \n",
       "eating_places_closed             512.0  0.486328  0.500302  0.0  0.0  0.0   \n",
       "stay_at_home                     512.0  0.339844  0.474119  0.0  0.0  0.0   \n",
       "household_mixing_indoors_banned  512.0  0.613281  0.487475  0.0  0.0  1.0   \n",
       "wfh                              512.0  0.853516  0.353937  0.0  1.0  1.0   \n",
       "rule_of_6_indoors                512.0  0.187500  0.390694  0.0  0.0  0.0   \n",
       "curfew                           512.0  0.109375  0.312414  0.0  0.0  0.0   \n",
       "eat_out_to_help_out              512.0  0.054688  0.227592  0.0  0.0  0.0   \n",
       "\n",
       "                                 75%  max  \n",
       "schools_closed                   1.0  1.0  \n",
       "pubs_closed                      1.0  1.0  \n",
       "shops_closed                     1.0  1.0  \n",
       "eating_places_closed             1.0  1.0  \n",
       "stay_at_home                     1.0  1.0  \n",
       "household_mixing_indoors_banned  1.0  1.0  \n",
       "wfh                              1.0  1.0  \n",
       "rule_of_6_indoors                0.0  1.0  \n",
       "curfew                           0.0  1.0  \n",
       "eat_out_to_help_out              0.0  1.0  "
      ]
     },
     "metadata": {},
     "execution_count": 42
    }
   ],
   "metadata": {}
  },
  {
   "cell_type": "markdown",
   "source": [
    "## Merging covid statistics and restrictions data"
   ],
   "metadata": {}
  },
  {
   "cell_type": "code",
   "execution_count": 74,
   "source": [
    "df = covid_data.merge(restrictions_data)\r\n",
    "df.head(5)"
   ],
   "outputs": [
    {
     "output_type": "execute_result",
     "data": {
      "text/html": [
       "<div>\n",
       "<style scoped>\n",
       "    .dataframe tbody tr th:only-of-type {\n",
       "        vertical-align: middle;\n",
       "    }\n",
       "\n",
       "    .dataframe tbody tr th {\n",
       "        vertical-align: top;\n",
       "    }\n",
       "\n",
       "    .dataframe thead th {\n",
       "        text-align: right;\n",
       "    }\n",
       "</style>\n",
       "<table border=\"1\" class=\"dataframe\">\n",
       "  <thead>\n",
       "    <tr style=\"text-align: right;\">\n",
       "      <th></th>\n",
       "      <th>areaCode</th>\n",
       "      <th>areaName</th>\n",
       "      <th>areaType</th>\n",
       "      <th>date</th>\n",
       "      <th>hospitalCases</th>\n",
       "      <th>newCasesByPublishDate</th>\n",
       "      <th>newAdmissions</th>\n",
       "      <th>newDeaths28DaysByDeathDate</th>\n",
       "      <th>cumPeopleVaccinatedCompleteByPublishDate</th>\n",
       "      <th>cumPeopleVaccinatedFirstDoseByPublishDate</th>\n",
       "      <th>...</th>\n",
       "      <th>schools_closed</th>\n",
       "      <th>pubs_closed</th>\n",
       "      <th>shops_closed</th>\n",
       "      <th>eating_places_closed</th>\n",
       "      <th>stay_at_home</th>\n",
       "      <th>household_mixing_indoors_banned</th>\n",
       "      <th>wfh</th>\n",
       "      <th>rule_of_6_indoors</th>\n",
       "      <th>curfew</th>\n",
       "      <th>eat_out_to_help_out</th>\n",
       "    </tr>\n",
       "  </thead>\n",
       "  <tbody>\n",
       "    <tr>\n",
       "      <th>0</th>\n",
       "      <td>K02000001</td>\n",
       "      <td>United Kingdom</td>\n",
       "      <td>overview</td>\n",
       "      <td>2021-07-25</td>\n",
       "      <td>5646.0</td>\n",
       "      <td>29173</td>\n",
       "      <td>941</td>\n",
       "      <td>71</td>\n",
       "      <td>37287384</td>\n",
       "      <td>46589211</td>\n",
       "      <td>...</td>\n",
       "      <td>0</td>\n",
       "      <td>0</td>\n",
       "      <td>0</td>\n",
       "      <td>0</td>\n",
       "      <td>0</td>\n",
       "      <td>0</td>\n",
       "      <td>0</td>\n",
       "      <td>0</td>\n",
       "      <td>0</td>\n",
       "      <td>0</td>\n",
       "    </tr>\n",
       "    <tr>\n",
       "      <th>1</th>\n",
       "      <td>K02000001</td>\n",
       "      <td>United Kingdom</td>\n",
       "      <td>overview</td>\n",
       "      <td>2021-07-24</td>\n",
       "      <td>5377.0</td>\n",
       "      <td>31795</td>\n",
       "      <td>826</td>\n",
       "      <td>71</td>\n",
       "      <td>37169428</td>\n",
       "      <td>46564660</td>\n",
       "      <td>...</td>\n",
       "      <td>0</td>\n",
       "      <td>0</td>\n",
       "      <td>0</td>\n",
       "      <td>0</td>\n",
       "      <td>0</td>\n",
       "      <td>0</td>\n",
       "      <td>0</td>\n",
       "      <td>0</td>\n",
       "      <td>0</td>\n",
       "      <td>0</td>\n",
       "    </tr>\n",
       "    <tr>\n",
       "      <th>2</th>\n",
       "      <td>K02000001</td>\n",
       "      <td>United Kingdom</td>\n",
       "      <td>overview</td>\n",
       "      <td>2021-07-23</td>\n",
       "      <td>5310.0</td>\n",
       "      <td>36389</td>\n",
       "      <td>864</td>\n",
       "      <td>81</td>\n",
       "      <td>36965542</td>\n",
       "      <td>46520855</td>\n",
       "      <td>...</td>\n",
       "      <td>0</td>\n",
       "      <td>0</td>\n",
       "      <td>0</td>\n",
       "      <td>0</td>\n",
       "      <td>0</td>\n",
       "      <td>0</td>\n",
       "      <td>0</td>\n",
       "      <td>0</td>\n",
       "      <td>0</td>\n",
       "      <td>0</td>\n",
       "    </tr>\n",
       "    <tr>\n",
       "      <th>3</th>\n",
       "      <td>K02000001</td>\n",
       "      <td>United Kingdom</td>\n",
       "      <td>overview</td>\n",
       "      <td>2021-07-22</td>\n",
       "      <td>5099.0</td>\n",
       "      <td>39906</td>\n",
       "      <td>954</td>\n",
       "      <td>76</td>\n",
       "      <td>36776201</td>\n",
       "      <td>46477881</td>\n",
       "      <td>...</td>\n",
       "      <td>0</td>\n",
       "      <td>0</td>\n",
       "      <td>0</td>\n",
       "      <td>0</td>\n",
       "      <td>0</td>\n",
       "      <td>0</td>\n",
       "      <td>0</td>\n",
       "      <td>0</td>\n",
       "      <td>0</td>\n",
       "      <td>0</td>\n",
       "    </tr>\n",
       "    <tr>\n",
       "      <th>4</th>\n",
       "      <td>K02000001</td>\n",
       "      <td>United Kingdom</td>\n",
       "      <td>overview</td>\n",
       "      <td>2021-07-21</td>\n",
       "      <td>4927.0</td>\n",
       "      <td>44104</td>\n",
       "      <td>929</td>\n",
       "      <td>54</td>\n",
       "      <td>36587904</td>\n",
       "      <td>46433845</td>\n",
       "      <td>...</td>\n",
       "      <td>0</td>\n",
       "      <td>0</td>\n",
       "      <td>0</td>\n",
       "      <td>0</td>\n",
       "      <td>0</td>\n",
       "      <td>0</td>\n",
       "      <td>0</td>\n",
       "      <td>0</td>\n",
       "      <td>0</td>\n",
       "      <td>0</td>\n",
       "    </tr>\n",
       "  </tbody>\n",
       "</table>\n",
       "<p>5 rows × 23 columns</p>\n",
       "</div>"
      ],
      "text/plain": [
       "    areaCode        areaName  areaType       date  hospitalCases  \\\n",
       "0  K02000001  United Kingdom  overview 2021-07-25         5646.0   \n",
       "1  K02000001  United Kingdom  overview 2021-07-24         5377.0   \n",
       "2  K02000001  United Kingdom  overview 2021-07-23         5310.0   \n",
       "3  K02000001  United Kingdom  overview 2021-07-22         5099.0   \n",
       "4  K02000001  United Kingdom  overview 2021-07-21         4927.0   \n",
       "\n",
       "   newCasesByPublishDate  newAdmissions  newDeaths28DaysByDeathDate  \\\n",
       "0                  29173            941                          71   \n",
       "1                  31795            826                          71   \n",
       "2                  36389            864                          81   \n",
       "3                  39906            954                          76   \n",
       "4                  44104            929                          54   \n",
       "\n",
       "   cumPeopleVaccinatedCompleteByPublishDate  \\\n",
       "0                                  37287384   \n",
       "1                                  37169428   \n",
       "2                                  36965542   \n",
       "3                                  36776201   \n",
       "4                                  36587904   \n",
       "\n",
       "   cumPeopleVaccinatedFirstDoseByPublishDate  ...  schools_closed  \\\n",
       "0                                   46589211  ...               0   \n",
       "1                                   46564660  ...               0   \n",
       "2                                   46520855  ...               0   \n",
       "3                                   46477881  ...               0   \n",
       "4                                   46433845  ...               0   \n",
       "\n",
       "   pubs_closed  shops_closed  eating_places_closed  stay_at_home  \\\n",
       "0            0             0                     0             0   \n",
       "1            0             0                     0             0   \n",
       "2            0             0                     0             0   \n",
       "3            0             0                     0             0   \n",
       "4            0             0                     0             0   \n",
       "\n",
       "   household_mixing_indoors_banned  wfh  rule_of_6_indoors  curfew  \\\n",
       "0                                0    0                  0       0   \n",
       "1                                0    0                  0       0   \n",
       "2                                0    0                  0       0   \n",
       "3                                0    0                  0       0   \n",
       "4                                0    0                  0       0   \n",
       "\n",
       "   eat_out_to_help_out  \n",
       "0                    0  \n",
       "1                    0  \n",
       "2                    0  \n",
       "3                    0  \n",
       "4                    0  \n",
       "\n",
       "[5 rows x 23 columns]"
      ]
     },
     "metadata": {},
     "execution_count": 74
    }
   ],
   "metadata": {}
  },
  {
   "cell_type": "code",
   "execution_count": 75,
   "source": [
    "df.info()"
   ],
   "outputs": [
    {
     "output_type": "stream",
     "name": "stdout",
     "text": [
      "<class 'pandas.core.frame.DataFrame'>\n",
      "Int64Index: 197 entries, 0 to 196\n",
      "Data columns (total 23 columns):\n",
      " #   Column                                                 Non-Null Count  Dtype         \n",
      "---  ------                                                 --------------  -----         \n",
      " 0   areaCode                                               197 non-null    object        \n",
      " 1   areaName                                               197 non-null    object        \n",
      " 2   areaType                                               197 non-null    object        \n",
      " 3   date                                                   197 non-null    datetime64[ns]\n",
      " 4   hospitalCases                                          197 non-null    float64       \n",
      " 5   newCasesByPublishDate                                  197 non-null    int64         \n",
      " 6   newAdmissions                                          197 non-null    int64         \n",
      " 7   newDeaths28DaysByDeathDate                             197 non-null    int64         \n",
      " 8   cumPeopleVaccinatedCompleteByPublishDate               197 non-null    int64         \n",
      " 9   cumPeopleVaccinatedFirstDoseByPublishDate              197 non-null    int64         \n",
      " 10  cumPeopleVaccinatedSecondDoseByPublishDate             197 non-null    int64         \n",
      " 11  cumVaccinationCompleteCoverageByPublishDatePercentage  197 non-null    float64       \n",
      " 12  newVaccinesGivenByPublishDate                          196 non-null    float64       \n",
      " 13  schools_closed                                         197 non-null    int64         \n",
      " 14  pubs_closed                                            197 non-null    int64         \n",
      " 15  shops_closed                                           197 non-null    int64         \n",
      " 16  eating_places_closed                                   197 non-null    int64         \n",
      " 17  stay_at_home                                           197 non-null    int64         \n",
      " 18  household_mixing_indoors_banned                        197 non-null    int64         \n",
      " 19  wfh                                                    197 non-null    int64         \n",
      " 20  rule_of_6_indoors                                      197 non-null    int64         \n",
      " 21  curfew                                                 197 non-null    int64         \n",
      " 22  eat_out_to_help_out                                    197 non-null    int64         \n",
      "dtypes: datetime64[ns](1), float64(3), int64(16), object(3)\n",
      "memory usage: 36.9+ KB\n"
     ]
    }
   ],
   "metadata": {}
  },
  {
   "cell_type": "code",
   "execution_count": 76,
   "source": [
    "df.describe(include=['datetime']).T"
   ],
   "outputs": [
    {
     "output_type": "stream",
     "name": "stderr",
     "text": [
      "C:\\Users\\steph\\anaconda3\\envs\\montVenv\\lib\\site-packages\\ipykernel_launcher.py:1: FutureWarning:\n",
      "\n",
      "Treating datetime data as categorical rather than numeric in `.describe` is deprecated and will be removed in a future version of pandas. Specify `datetime_is_numeric=True` to silence this warning and adopt the future behavior now.\n",
      "\n"
     ]
    },
    {
     "output_type": "execute_result",
     "data": {
      "text/html": [
       "<div>\n",
       "<style scoped>\n",
       "    .dataframe tbody tr th:only-of-type {\n",
       "        vertical-align: middle;\n",
       "    }\n",
       "\n",
       "    .dataframe tbody tr th {\n",
       "        vertical-align: top;\n",
       "    }\n",
       "\n",
       "    .dataframe thead th {\n",
       "        text-align: right;\n",
       "    }\n",
       "</style>\n",
       "<table border=\"1\" class=\"dataframe\">\n",
       "  <thead>\n",
       "    <tr style=\"text-align: right;\">\n",
       "      <th></th>\n",
       "      <th>count</th>\n",
       "      <th>unique</th>\n",
       "      <th>top</th>\n",
       "      <th>freq</th>\n",
       "      <th>first</th>\n",
       "      <th>last</th>\n",
       "    </tr>\n",
       "  </thead>\n",
       "  <tbody>\n",
       "    <tr>\n",
       "      <th>date</th>\n",
       "      <td>197</td>\n",
       "      <td>197</td>\n",
       "      <td>2021-04-03</td>\n",
       "      <td>1</td>\n",
       "      <td>2021-01-10</td>\n",
       "      <td>2021-07-25</td>\n",
       "    </tr>\n",
       "  </tbody>\n",
       "</table>\n",
       "</div>"
      ],
      "text/plain": [
       "     count unique        top freq      first       last\n",
       "date   197    197 2021-04-03    1 2021-01-10 2021-07-25"
      ]
     },
     "metadata": {},
     "execution_count": 76
    }
   ],
   "metadata": {}
  },
  {
   "cell_type": "code",
   "execution_count": 77,
   "source": [
    "df.describe().T"
   ],
   "outputs": [
    {
     "output_type": "execute_result",
     "data": {
      "text/html": [
       "<div>\n",
       "<style scoped>\n",
       "    .dataframe tbody tr th:only-of-type {\n",
       "        vertical-align: middle;\n",
       "    }\n",
       "\n",
       "    .dataframe tbody tr th {\n",
       "        vertical-align: top;\n",
       "    }\n",
       "\n",
       "    .dataframe thead th {\n",
       "        text-align: right;\n",
       "    }\n",
       "</style>\n",
       "<table border=\"1\" class=\"dataframe\">\n",
       "  <thead>\n",
       "    <tr style=\"text-align: right;\">\n",
       "      <th></th>\n",
       "      <th>count</th>\n",
       "      <th>mean</th>\n",
       "      <th>std</th>\n",
       "      <th>min</th>\n",
       "      <th>25%</th>\n",
       "      <th>50%</th>\n",
       "      <th>75%</th>\n",
       "      <th>max</th>\n",
       "    </tr>\n",
       "  </thead>\n",
       "  <tbody>\n",
       "    <tr>\n",
       "      <th>hospitalCases</th>\n",
       "      <td>197.0</td>\n",
       "      <td>9.498249e+03</td>\n",
       "      <td>1.210291e+04</td>\n",
       "      <td>872.0</td>\n",
       "      <td>1364.0</td>\n",
       "      <td>3244.0</td>\n",
       "      <td>12894.00</td>\n",
       "      <td>39254.0</td>\n",
       "    </tr>\n",
       "    <tr>\n",
       "      <th>newCasesByPublishDate</th>\n",
       "      <td>197.0</td>\n",
       "      <td>1.378103e+04</td>\n",
       "      <td>1.423665e+04</td>\n",
       "      <td>1649.0</td>\n",
       "      <td>3030.0</td>\n",
       "      <td>6573.0</td>\n",
       "      <td>20479.00</td>\n",
       "      <td>55761.0</td>\n",
       "    </tr>\n",
       "    <tr>\n",
       "      <th>newAdmissions</th>\n",
       "      <td>197.0</td>\n",
       "      <td>8.507259e+02</td>\n",
       "      <td>1.097829e+03</td>\n",
       "      <td>80.0</td>\n",
       "      <td>161.0</td>\n",
       "      <td>361.0</td>\n",
       "      <td>936.00</td>\n",
       "      <td>4583.0</td>\n",
       "    </tr>\n",
       "    <tr>\n",
       "      <th>newDeaths28DaysByDeathDate</th>\n",
       "      <td>197.0</td>\n",
       "      <td>2.289289e+02</td>\n",
       "      <td>3.824126e+02</td>\n",
       "      <td>4.0</td>\n",
       "      <td>12.0</td>\n",
       "      <td>34.0</td>\n",
       "      <td>225.00</td>\n",
       "      <td>1359.0</td>\n",
       "    </tr>\n",
       "    <tr>\n",
       "      <th>cumPeopleVaccinatedCompleteByPublishDate</th>\n",
       "      <td>197.0</td>\n",
       "      <td>1.416895e+07</td>\n",
       "      <td>1.342032e+07</td>\n",
       "      <td>391399.0</td>\n",
       "      <td>815816.0</td>\n",
       "      <td>10152039.0</td>\n",
       "      <td>27921294.00</td>\n",
       "      <td>37287384.0</td>\n",
       "    </tr>\n",
       "    <tr>\n",
       "      <th>cumPeopleVaccinatedFirstDoseByPublishDate</th>\n",
       "      <td>197.0</td>\n",
       "      <td>2.985160e+07</td>\n",
       "      <td>1.305618e+07</td>\n",
       "      <td>2286572.0</td>\n",
       "      <td>20275451.0</td>\n",
       "      <td>32932448.0</td>\n",
       "      <td>40460576.00</td>\n",
       "      <td>46589211.0</td>\n",
       "    </tr>\n",
       "    <tr>\n",
       "      <th>cumPeopleVaccinatedSecondDoseByPublishDate</th>\n",
       "      <td>197.0</td>\n",
       "      <td>1.416895e+07</td>\n",
       "      <td>1.342032e+07</td>\n",
       "      <td>391399.0</td>\n",
       "      <td>815816.0</td>\n",
       "      <td>10152039.0</td>\n",
       "      <td>27921294.00</td>\n",
       "      <td>37287384.0</td>\n",
       "    </tr>\n",
       "    <tr>\n",
       "      <th>cumVaccinationCompleteCoverageByPublishDatePercentage</th>\n",
       "      <td>197.0</td>\n",
       "      <td>2.464213e+01</td>\n",
       "      <td>2.333461e+01</td>\n",
       "      <td>0.7</td>\n",
       "      <td>1.4</td>\n",
       "      <td>17.7</td>\n",
       "      <td>48.60</td>\n",
       "      <td>64.8</td>\n",
       "    </tr>\n",
       "    <tr>\n",
       "      <th>newVaccinesGivenByPublishDate</th>\n",
       "      <td>196.0</td>\n",
       "      <td>4.142787e+05</td>\n",
       "      <td>1.548697e+05</td>\n",
       "      <td>60405.0</td>\n",
       "      <td>287547.5</td>\n",
       "      <td>412406.0</td>\n",
       "      <td>535336.25</td>\n",
       "      <td>844285.0</td>\n",
       "    </tr>\n",
       "    <tr>\n",
       "      <th>schools_closed</th>\n",
       "      <td>197.0</td>\n",
       "      <td>2.893401e-01</td>\n",
       "      <td>4.546114e-01</td>\n",
       "      <td>0.0</td>\n",
       "      <td>0.0</td>\n",
       "      <td>0.0</td>\n",
       "      <td>1.00</td>\n",
       "      <td>1.0</td>\n",
       "    </tr>\n",
       "    <tr>\n",
       "      <th>pubs_closed</th>\n",
       "      <td>197.0</td>\n",
       "      <td>4.670051e-01</td>\n",
       "      <td>5.001813e-01</td>\n",
       "      <td>0.0</td>\n",
       "      <td>0.0</td>\n",
       "      <td>0.0</td>\n",
       "      <td>1.00</td>\n",
       "      <td>1.0</td>\n",
       "    </tr>\n",
       "    <tr>\n",
       "      <th>shops_closed</th>\n",
       "      <td>197.0</td>\n",
       "      <td>4.670051e-01</td>\n",
       "      <td>5.001813e-01</td>\n",
       "      <td>0.0</td>\n",
       "      <td>0.0</td>\n",
       "      <td>0.0</td>\n",
       "      <td>1.00</td>\n",
       "      <td>1.0</td>\n",
       "    </tr>\n",
       "    <tr>\n",
       "      <th>eating_places_closed</th>\n",
       "      <td>197.0</td>\n",
       "      <td>4.670051e-01</td>\n",
       "      <td>5.001813e-01</td>\n",
       "      <td>0.0</td>\n",
       "      <td>0.0</td>\n",
       "      <td>0.0</td>\n",
       "      <td>1.00</td>\n",
       "      <td>1.0</td>\n",
       "    </tr>\n",
       "    <tr>\n",
       "      <th>stay_at_home</th>\n",
       "      <td>197.0</td>\n",
       "      <td>3.959391e-01</td>\n",
       "      <td>4.902974e-01</td>\n",
       "      <td>0.0</td>\n",
       "      <td>0.0</td>\n",
       "      <td>0.0</td>\n",
       "      <td>1.00</td>\n",
       "      <td>1.0</td>\n",
       "    </tr>\n",
       "    <tr>\n",
       "      <th>household_mixing_indoors_banned</th>\n",
       "      <td>197.0</td>\n",
       "      <td>6.446701e-01</td>\n",
       "      <td>4.798326e-01</td>\n",
       "      <td>0.0</td>\n",
       "      <td>0.0</td>\n",
       "      <td>1.0</td>\n",
       "      <td>1.00</td>\n",
       "      <td>1.0</td>\n",
       "    </tr>\n",
       "    <tr>\n",
       "      <th>wfh</th>\n",
       "      <td>197.0</td>\n",
       "      <td>9.644670e-01</td>\n",
       "      <td>1.855943e-01</td>\n",
       "      <td>0.0</td>\n",
       "      <td>1.0</td>\n",
       "      <td>1.0</td>\n",
       "      <td>1.00</td>\n",
       "      <td>1.0</td>\n",
       "    </tr>\n",
       "    <tr>\n",
       "      <th>rule_of_6_indoors</th>\n",
       "      <td>197.0</td>\n",
       "      <td>3.197970e-01</td>\n",
       "      <td>4.675860e-01</td>\n",
       "      <td>0.0</td>\n",
       "      <td>0.0</td>\n",
       "      <td>0.0</td>\n",
       "      <td>1.00</td>\n",
       "      <td>1.0</td>\n",
       "    </tr>\n",
       "    <tr>\n",
       "      <th>curfew</th>\n",
       "      <td>197.0</td>\n",
       "      <td>0.000000e+00</td>\n",
       "      <td>0.000000e+00</td>\n",
       "      <td>0.0</td>\n",
       "      <td>0.0</td>\n",
       "      <td>0.0</td>\n",
       "      <td>0.00</td>\n",
       "      <td>0.0</td>\n",
       "    </tr>\n",
       "    <tr>\n",
       "      <th>eat_out_to_help_out</th>\n",
       "      <td>197.0</td>\n",
       "      <td>0.000000e+00</td>\n",
       "      <td>0.000000e+00</td>\n",
       "      <td>0.0</td>\n",
       "      <td>0.0</td>\n",
       "      <td>0.0</td>\n",
       "      <td>0.00</td>\n",
       "      <td>0.0</td>\n",
       "    </tr>\n",
       "  </tbody>\n",
       "</table>\n",
       "</div>"
      ],
      "text/plain": [
       "                                                    count          mean  \\\n",
       "hospitalCases                                       197.0  9.498249e+03   \n",
       "newCasesByPublishDate                               197.0  1.378103e+04   \n",
       "newAdmissions                                       197.0  8.507259e+02   \n",
       "newDeaths28DaysByDeathDate                          197.0  2.289289e+02   \n",
       "cumPeopleVaccinatedCompleteByPublishDate            197.0  1.416895e+07   \n",
       "cumPeopleVaccinatedFirstDoseByPublishDate           197.0  2.985160e+07   \n",
       "cumPeopleVaccinatedSecondDoseByPublishDate          197.0  1.416895e+07   \n",
       "cumVaccinationCompleteCoverageByPublishDatePerc...  197.0  2.464213e+01   \n",
       "newVaccinesGivenByPublishDate                       196.0  4.142787e+05   \n",
       "schools_closed                                      197.0  2.893401e-01   \n",
       "pubs_closed                                         197.0  4.670051e-01   \n",
       "shops_closed                                        197.0  4.670051e-01   \n",
       "eating_places_closed                                197.0  4.670051e-01   \n",
       "stay_at_home                                        197.0  3.959391e-01   \n",
       "household_mixing_indoors_banned                     197.0  6.446701e-01   \n",
       "wfh                                                 197.0  9.644670e-01   \n",
       "rule_of_6_indoors                                   197.0  3.197970e-01   \n",
       "curfew                                              197.0  0.000000e+00   \n",
       "eat_out_to_help_out                                 197.0  0.000000e+00   \n",
       "\n",
       "                                                             std        min  \\\n",
       "hospitalCases                                       1.210291e+04      872.0   \n",
       "newCasesByPublishDate                               1.423665e+04     1649.0   \n",
       "newAdmissions                                       1.097829e+03       80.0   \n",
       "newDeaths28DaysByDeathDate                          3.824126e+02        4.0   \n",
       "cumPeopleVaccinatedCompleteByPublishDate            1.342032e+07   391399.0   \n",
       "cumPeopleVaccinatedFirstDoseByPublishDate           1.305618e+07  2286572.0   \n",
       "cumPeopleVaccinatedSecondDoseByPublishDate          1.342032e+07   391399.0   \n",
       "cumVaccinationCompleteCoverageByPublishDatePerc...  2.333461e+01        0.7   \n",
       "newVaccinesGivenByPublishDate                       1.548697e+05    60405.0   \n",
       "schools_closed                                      4.546114e-01        0.0   \n",
       "pubs_closed                                         5.001813e-01        0.0   \n",
       "shops_closed                                        5.001813e-01        0.0   \n",
       "eating_places_closed                                5.001813e-01        0.0   \n",
       "stay_at_home                                        4.902974e-01        0.0   \n",
       "household_mixing_indoors_banned                     4.798326e-01        0.0   \n",
       "wfh                                                 1.855943e-01        0.0   \n",
       "rule_of_6_indoors                                   4.675860e-01        0.0   \n",
       "curfew                                              0.000000e+00        0.0   \n",
       "eat_out_to_help_out                                 0.000000e+00        0.0   \n",
       "\n",
       "                                                           25%         50%  \\\n",
       "hospitalCases                                           1364.0      3244.0   \n",
       "newCasesByPublishDate                                   3030.0      6573.0   \n",
       "newAdmissions                                            161.0       361.0   \n",
       "newDeaths28DaysByDeathDate                                12.0        34.0   \n",
       "cumPeopleVaccinatedCompleteByPublishDate              815816.0  10152039.0   \n",
       "cumPeopleVaccinatedFirstDoseByPublishDate           20275451.0  32932448.0   \n",
       "cumPeopleVaccinatedSecondDoseByPublishDate            815816.0  10152039.0   \n",
       "cumVaccinationCompleteCoverageByPublishDatePerc...         1.4        17.7   \n",
       "newVaccinesGivenByPublishDate                         287547.5    412406.0   \n",
       "schools_closed                                             0.0         0.0   \n",
       "pubs_closed                                                0.0         0.0   \n",
       "shops_closed                                               0.0         0.0   \n",
       "eating_places_closed                                       0.0         0.0   \n",
       "stay_at_home                                               0.0         0.0   \n",
       "household_mixing_indoors_banned                            0.0         1.0   \n",
       "wfh                                                        1.0         1.0   \n",
       "rule_of_6_indoors                                          0.0         0.0   \n",
       "curfew                                                     0.0         0.0   \n",
       "eat_out_to_help_out                                        0.0         0.0   \n",
       "\n",
       "                                                            75%         max  \n",
       "hospitalCases                                          12894.00     39254.0  \n",
       "newCasesByPublishDate                                  20479.00     55761.0  \n",
       "newAdmissions                                            936.00      4583.0  \n",
       "newDeaths28DaysByDeathDate                               225.00      1359.0  \n",
       "cumPeopleVaccinatedCompleteByPublishDate            27921294.00  37287384.0  \n",
       "cumPeopleVaccinatedFirstDoseByPublishDate           40460576.00  46589211.0  \n",
       "cumPeopleVaccinatedSecondDoseByPublishDate          27921294.00  37287384.0  \n",
       "cumVaccinationCompleteCoverageByPublishDatePerc...        48.60        64.8  \n",
       "newVaccinesGivenByPublishDate                         535336.25    844285.0  \n",
       "schools_closed                                             1.00         1.0  \n",
       "pubs_closed                                                1.00         1.0  \n",
       "shops_closed                                               1.00         1.0  \n",
       "eating_places_closed                                       1.00         1.0  \n",
       "stay_at_home                                               1.00         1.0  \n",
       "household_mixing_indoors_banned                            1.00         1.0  \n",
       "wfh                                                        1.00         1.0  \n",
       "rule_of_6_indoors                                          1.00         1.0  \n",
       "curfew                                                     0.00         0.0  \n",
       "eat_out_to_help_out                                        0.00         0.0  "
      ]
     },
     "metadata": {},
     "execution_count": 77
    }
   ],
   "metadata": {}
  },
  {
   "cell_type": "markdown",
   "source": [
    "### Exploring correlations"
   ],
   "metadata": {}
  },
  {
   "cell_type": "code",
   "execution_count": 79,
   "source": [
    "# Compute the correlation matrix\r\n",
    "corr = df.corr()\r\n",
    "\r\n",
    "# Generate a mask for the upper triangle\r\n",
    "mask = np.triu(np.ones_like(corr, dtype=bool))\r\n",
    "\r\n",
    "# Set up the matplotlib figure\r\n",
    "f, ax = plt.subplots(figsize=(11, 9))\r\n",
    "\r\n",
    "# Generate a custom diverging colormap\r\n",
    "cmap = sns.diverging_palette(230, 20, as_cmap=True)\r\n",
    "\r\n",
    "# Draw the heatmap with the mask and correct aspect ratio\r\n",
    "sns.heatmap(corr, mask=mask, cmap=cmap, vmax=.3, center=0,\r\n",
    "            square=True, linewidths=.5, cbar_kws={\"shrink\": .5})"
   ],
   "outputs": [
    {
     "output_type": "execute_result",
     "data": {
      "text/plain": [
       "<AxesSubplot:>"
      ]
     },
     "metadata": {},
     "execution_count": 79
    },
    {
     "output_type": "display_data",
     "data": {
      "image/png": "[encoded data removed]",
      "text/plain": [
       "<Figure size 792x648 with 2 Axes>"
      ]
     },
     "metadata": {}
    }
   ],
   "metadata": {}
  },
  {
   "cell_type": "code",
   "execution_count": 82,
   "source": [
    "feature = 'stay_at_home'\r\n",
    "fig = px.line(df, x=\"date\", y=feature, title=f'{feature}')\r\n",
    "fig.show()"
   ],
   "outputs": [
    {
     "output_type": "display_data",
     "data": {
      "application/vnd.plotly.v1+json": {
       "config": {
        "plotlyServerURL": "https://plot.ly"
       },
       "data": [
        {
         "hovertemplate": "date=%{x}<br>stay_at_home=%{y}<extra></extra>",
         "legendgroup": "",
         "line": {
          "color": "#636efa",
          "dash": "solid"
         },
         "marker": {
          "symbol": "circle"
         },
         "mode": "lines",
         "name": "",
         "orientation": "v",
         "showlegend": false,
         "type": "scatter",
         "x": [
          "2021-07-25T00:00:00",
          "2021-07-24T00:00:00",
          "2021-07-23T00:00:00",
          "2021-07-22T00:00:00",
          "2021-07-21T00:00:00",
          "2021-07-20T00:00:00",
          "2021-07-19T00:00:00",
          "2021-07-18T00:00:00",
          "2021-07-17T00:00:00",
          "2021-07-16T00:00:00",
          "2021-07-15T00:00:00",
          "2021-07-14T00:00:00",
          "2021-07-13T00:00:00",
          "2021-07-12T00:00:00",
          "2021-07-11T00:00:00",
          "2021-07-10T00:00:00",
          "2021-07-09T00:00:00",
          "2021-07-08T00:00:00",
          "2021-07-07T00:00:00",
          "2021-07-06T00:00:00",
          "2021-07-05T00:00:00",
          "2021-07-04T00:00:00",
          "2021-07-03T00:00:00",
          "2021-07-02T00:00:00",
          "2021-07-01T00:00:00",
          "2021-06-30T00:00:00",
          "2021-06-29T00:00:00",
          "2021-06-28T00:00:00",
          "2021-06-27T00:00:00",
          "2021-06-26T00:00:00",
          "2021-06-25T00:00:00",
          "2021-06-24T00:00:00",
          "2021-06-23T00:00:00",
          "2021-06-22T00:00:00",
          "2021-06-21T00:00:00",
          "2021-06-20T00:00:00",
          "2021-06-19T00:00:00",
          "2021-06-18T00:00:00",
          "2021-06-17T00:00:00",
          "2021-06-16T00:00:00",
          "2021-06-15T00:00:00",
          "2021-06-14T00:00:00",
          "2021-06-13T00:00:00",
          "2021-06-12T00:00:00",
          "2021-06-11T00:00:00",
          "2021-06-10T00:00:00",
          "2021-06-09T00:00:00",
          "2021-06-08T00:00:00",
          "2021-06-07T00:00:00",
          "2021-06-06T00:00:00",
          "2021-06-05T00:00:00",
          "2021-06-04T00:00:00",
          "2021-06-03T00:00:00",
          "2021-06-02T00:00:00",
          "2021-06-01T00:00:00",
          "2021-05-31T00:00:00",
          "2021-05-30T00:00:00",
          "2021-05-29T00:00:00",
          "2021-05-28T00:00:00",
          "2021-05-27T00:00:00",
          "2021-05-26T00:00:00",
          "2021-05-25T00:00:00",
          "2021-05-24T00:00:00",
          "2021-05-23T00:00:00",
          "2021-05-22T00:00:00",
          "2021-05-21T00:00:00",
          "2021-05-20T00:00:00",
          "2021-05-19T00:00:00",
          "2021-05-18T00:00:00",
          "2021-05-17T00:00:00",
          "2021-05-16T00:00:00",
          "2021-05-15T00:00:00",
          "2021-05-14T00:00:00",
          "2021-05-13T00:00:00",
          "2021-05-12T00:00:00",
          "2021-05-11T00:00:00",
          "2021-05-10T00:00:00",
          "2021-05-09T00:00:00",
          "2021-05-08T00:00:00",
          "2021-05-07T00:00:00",
          "2021-05-06T00:00:00",
          "2021-05-05T00:00:00",
          "2021-05-04T00:00:00",
          "2021-05-03T00:00:00",
          "2021-05-02T00:00:00",
          "2021-05-01T00:00:00",
          "2021-04-30T00:00:00",
          "2021-04-29T00:00:00",
          "2021-04-28T00:00:00",
          "2021-04-27T00:00:00",
          "2021-04-26T00:00:00",
          "2021-04-25T00:00:00",
          "2021-04-24T00:00:00",
          "2021-04-23T00:00:00",
          "2021-04-22T00:00:00",
          "2021-04-21T00:00:00",
          "2021-04-20T00:00:00",
          "2021-04-19T00:00:00",
          "2021-04-18T00:00:00",
          "2021-04-17T00:00:00",
          "2021-04-16T00:00:00",
          "2021-04-15T00:00:00",
          "2021-04-14T00:00:00",
          "2021-04-13T00:00:00",
          "2021-04-12T00:00:00",
          "2021-04-11T00:00:00",
          "2021-04-10T00:00:00",
          "2021-04-09T00:00:00",
          "2021-04-08T00:00:00",
          "2021-04-07T00:00:00",
          "2021-04-06T00:00:00",
          "2021-04-05T00:00:00",
          "2021-04-04T00:00:00",
          "2021-04-03T00:00:00",
          "2021-04-02T00:00:00",
          "2021-04-01T00:00:00",
          "2021-03-31T00:00:00",
          "2021-03-30T00:00:00",
          "2021-03-29T00:00:00",
          "2021-03-28T00:00:00",
          "2021-03-27T00:00:00",
          "2021-03-26T00:00:00",
          "2021-03-25T00:00:00",
          "2021-03-24T00:00:00",
          "2021-03-23T00:00:00",
          "2021-03-22T00:00:00",
          "2021-03-21T00:00:00",
          "2021-03-20T00:00:00",
          "2021-03-19T00:00:00",
          "2021-03-18T00:00:00",
          "2021-03-17T00:00:00",
          "2021-03-16T00:00:00",
          "2021-03-15T00:00:00",
          "2021-03-14T00:00:00",
          "2021-03-13T00:00:00",
          "2021-03-12T00:00:00",
          "2021-03-11T00:00:00",
          "2021-03-10T00:00:00",
          "2021-03-09T00:00:00",
          "2021-03-08T00:00:00",
          "2021-03-07T00:00:00",
          "2021-03-06T00:00:00",
          "2021-03-05T00:00:00",
          "2021-03-04T00:00:00",
          "2021-03-03T00:00:00",
          "2021-03-02T00:00:00",
          "2021-03-01T00:00:00",
          "2021-02-28T00:00:00",
          "2021-02-27T00:00:00",
          "2021-02-26T00:00:00",
          "2021-02-25T00:00:00",
          "2021-02-24T00:00:00",
          "2021-02-23T00:00:00",
          "2021-02-22T00:00:00",
          "2021-02-21T00:00:00",
          "2021-02-20T00:00:00",
          "2021-02-19T00:00:00",
          "2021-02-18T00:00:00",
          "2021-02-17T00:00:00",
          "2021-02-16T00:00:00",
          "2021-02-15T00:00:00",
          "2021-02-14T00:00:00",
          "2021-02-13T00:00:00",
          "2021-02-12T00:00:00",
          "2021-02-11T00:00:00",
          "2021-02-10T00:00:00",
          "2021-02-09T00:00:00",
          "2021-02-08T00:00:00",
          "2021-02-07T00:00:00",
          "2021-02-06T00:00:00",
          "2021-02-05T00:00:00",
          "2021-02-04T00:00:00",
          "2021-02-03T00:00:00",
          "2021-02-02T00:00:00",
          "2021-02-01T00:00:00",
          "2021-01-31T00:00:00",
          "2021-01-30T00:00:00",
          "2021-01-29T00:00:00",
          "2021-01-28T00:00:00",
          "2021-01-27T00:00:00",
          "2021-01-26T00:00:00",
          "2021-01-25T00:00:00",
          "2021-01-24T00:00:00",
          "2021-01-23T00:00:00",
          "2021-01-22T00:00:00",
          "2021-01-21T00:00:00",
          "2021-01-20T00:00:00",
          "2021-01-19T00:00:00",
          "2021-01-18T00:00:00",
          "2021-01-17T00:00:00",
          "2021-01-16T00:00:00",
          "2021-01-15T00:00:00",
          "2021-01-14T00:00:00",
          "2021-01-13T00:00:00",
          "2021-01-12T00:00:00",
          "2021-01-11T00:00:00",
          "2021-01-10T00:00:00"
         ],
         "xaxis": "x",
         "y": [
          0,
          0,
          0,
          0,
          0,
          0,
          0,
          0,
          0,
          0,
          0,
          0,
          0,
          0,
          0,
          0,
          0,
          0,
          0,
          0,
          0,
          0,
          0,
          0,
          0,
          0,
          0,
          0,
          0,
          0,
          0,
          0,
          0,
          0,
          0,
          0,
          0,
          0,
          0,
          0,
          0,
          0,
          0,
          0,
          0,
          0,
          0,
          0,
          0,
          0,
          0,
          0,
          0,
          0,
          0,
          0,
          0,
          0,
          0,
          0,
          0,
          0,
          0,
          0,
          0,
          0,
          0,
          0,
          0,
          0,
          0,
          0,
          0,
          0,
          0,
          0,
          0,
          0,
          0,
          0,
          0,
          0,
          0,
          0,
          0,
          0,
          0,
          0,
          0,
          0,
          0,
          0,
          0,
          0,
          0,
          0,
          0,
          0,
          0,
          0,
          0,
          0,
          0,
          0,
          0,
          0,
          0,
          0,
          0,
          0,
          0,
          0,
          0,
          0,
          0,
          0,
          0,
          0,
          0,
          1,
          1,
          1,
          1,
          1,
          1,
          1,
          1,
          1,
          1,
          1,
          1,
          1,
          1,
          1,
          1,
          1,
          1,
          1,
          1,
          1,
          1,
          1,
          1,
          1,
          1,
          1,
          1,
          1,
          1,
          1,
          1,
          1,
          1,
          1,
          1,
          1,
          1,
          1,
          1,
          1,
          1,
          1,
          1,
          1,
          1,
          1,
          1,
          1,
          1,
          1,
          1,
          1,
          1,
          1,
          1,
          1,
          1,
          1,
          1,
          1,
          1,
          1,
          1,
          1,
          1,
          1,
          1,
          1,
          1,
          1,
          1,
          1,
          1,
          1,
          1,
          1,
          1
         ],
         "yaxis": "y"
        }
       ],
       "layout": {
        "legend": {
         "tracegroupgap": 0
        },
        "template": {
         "data": {
          "bar": [
           {
            "error_x": {
             "color": "#2a3f5f"
            },
            "error_y": {
             "color": "#2a3f5f"
            },
            "marker": {
             "line": {
              "color": "#E5ECF6",
              "width": 0.5
             },
             "pattern": {
              "fillmode": "overlay",
              "size": 10,
              "solidity": 0.2
             }
            },
            "type": "bar"
           }
          ],
          "barpolar": [
           {
            "marker": {
             "line": {
              "color": "#E5ECF6",
              "width": 0.5
             },
             "pattern": {
              "fillmode": "overlay",
              "size": 10,
              "solidity": 0.2
             }
            },
            "type": "barpolar"
           }
          ],
          "carpet": [
           {
            "aaxis": {
             "endlinecolor": "#2a3f5f",
             "gridcolor": "white",
             "linecolor": "white",
             "minorgridcolor": "white",
             "startlinecolor": "#2a3f5f"
            },
            "baxis": {
             "endlinecolor": "#2a3f5f",
             "gridcolor": "white",
             "linecolor": "white",
             "minorgridcolor": "white",
             "startlinecolor": "#2a3f5f"
            },
            "type": "carpet"
           }
          ],
          "choropleth": [
           {
            "colorbar": {
             "outlinewidth": 0,
             "ticks": ""
            },
            "type": "choropleth"
           }
          ],
          "contour": [
           {
            "colorbar": {
             "outlinewidth": 0,
             "ticks": ""
            },
            "colorscale": [
             [
              0,
              "#0d0887"
             ],
             [
              0.1111111111111111,
              "#46039f"
             ],
             [
              0.2222222222222222,
              "#7201a8"
             ],
             [
              0.3333333333333333,
              "#9c179e"
             ],
             [
              0.4444444444444444,
              "#bd3786"
             ],
             [
              0.5555555555555556,
              "#d8576b"
             ],
             [
              0.6666666666666666,
              "#ed7953"
             ],
             [
              0.7777777777777778,
              "#fb9f3a"
             ],
             [
              0.8888888888888888,
              "#fdca26"
             ],
             [
              1,
              "#f0f921"
             ]
            ],
            "type": "contour"
           }
          ],
          "contourcarpet": [
           {
            "colorbar": {
             "outlinewidth": 0,
             "ticks": ""
            },
            "type": "contourcarpet"
           }
          ],
          "heatmap": [
           {
            "colorbar": {
             "outlinewidth": 0,
             "ticks": ""
            },
            "colorscale": [
             [
              0,
              "#0d0887"
             ],
             [
              0.1111111111111111,
              "#46039f"
             ],
             [
              0.2222222222222222,
              "#7201a8"
             ],
             [
              0.3333333333333333,
              "#9c179e"
             ],
             [
              0.4444444444444444,
              "#bd3786"
             ],
             [
              0.5555555555555556,
              "#d8576b"
             ],
             [
              0.6666666666666666,
              "#ed7953"
             ],
             [
              0.7777777777777778,
              "#fb9f3a"
             ],
             [
              0.8888888888888888,
              "#fdca26"
             ],
             [
              1,
              "#f0f921"
             ]
            ],
            "type": "heatmap"
           }
          ],
          "heatmapgl": [
           {
            "colorbar": {
             "outlinewidth": 0,
             "ticks": ""
            },
            "colorscale": [
             [
              0,
              "#0d0887"
             ],
             [
              0.1111111111111111,
              "#46039f"
             ],
             [
              0.2222222222222222,
              "#7201a8"
             ],
             [
              0.3333333333333333,
              "#9c179e"
             ],
             [
              0.4444444444444444,
              "#bd3786"
             ],
             [
              0.5555555555555556,
              "#d8576b"
             ],
             [
              0.6666666666666666,
              "#ed7953"
             ],
             [
              0.7777777777777778,
              "#fb9f3a"
             ],
             [
              0.8888888888888888,
              "#fdca26"
             ],
             [
              1,
              "#f0f921"
             ]
            ],
            "type": "heatmapgl"
           }
          ],
          "histogram": [
           {
            "marker": {
             "pattern": {
              "fillmode": "overlay",
              "size": 10,
              "solidity": 0.2
             }
            },
            "type": "histogram"
           }
          ],
          "histogram2d": [
           {
            "colorbar": {
             "outlinewidth": 0,
             "ticks": ""
            },
            "colorscale": [
             [
              0,
              "#0d0887"
             ],
             [
              0.1111111111111111,
              "#46039f"
             ],
             [
              0.2222222222222222,
              "#7201a8"
             ],
             [
              0.3333333333333333,
              "#9c179e"
             ],
             [
              0.4444444444444444,
              "#bd3786"
             ],
             [
              0.5555555555555556,
              "#d8576b"
             ],
             [
              0.6666666666666666,
              "#ed7953"
             ],
             [
              0.7777777777777778,
              "#fb9f3a"
             ],
             [
              0.8888888888888888,
              "#fdca26"
             ],
             [
              1,
              "#f0f921"
             ]
            ],
            "type": "histogram2d"
           }
          ],
          "histogram2dcontour": [
           {
            "colorbar": {
             "outlinewidth": 0,
             "ticks": ""
            },
            "colorscale": [
             [
              0,
              "#0d0887"
             ],
             [
              0.1111111111111111,
              "#46039f"
             ],
             [
              0.2222222222222222,
              "#7201a8"
             ],
             [
              0.3333333333333333,
              "#9c179e"
             ],
             [
              0.4444444444444444,
              "#bd3786"
             ],
             [
              0.5555555555555556,
              "#d8576b"
             ],
             [
              0.6666666666666666,
              "#ed7953"
             ],
             [
              0.7777777777777778,
              "#fb9f3a"
             ],
             [
              0.8888888888888888,
              "#fdca26"
             ],
             [
              1,
              "#f0f921"
             ]
            ],
            "type": "histogram2dcontour"
           }
          ],
          "mesh3d": [
           {
            "colorbar": {
             "outlinewidth": 0,
             "ticks": ""
            },
            "type": "mesh3d"
           }
          ],
          "parcoords": [
           {
            "line": {
             "colorbar": {
              "outlinewidth": 0,
              "ticks": ""
             }
            },
            "type": "parcoords"
           }
          ],
          "pie": [
           {
            "automargin": true,
            "type": "pie"
           }
          ],
          "scatter": [
           {
            "marker": {
             "colorbar": {
              "outlinewidth": 0,
              "ticks": ""
             }
            },
            "type": "scatter"
           }
          ],
          "scatter3d": [
           {
            "line": {
             "colorbar": {
              "outlinewidth": 0,
              "ticks": ""
             }
            },
            "marker": {
             "colorbar": {
              "outlinewidth": 0,
              "ticks": ""
             }
            },
            "type": "scatter3d"
           }
          ],
          "scattercarpet": [
           {
            "marker": {
             "colorbar": {
              "outlinewidth": 0,
              "ticks": ""
             }
            },
            "type": "scattercarpet"
           }
          ],
          "scattergeo": [
           {
            "marker": {
             "colorbar": {
              "outlinewidth": 0,
              "ticks": ""
             }
            },
            "type": "scattergeo"
           }
          ],
          "scattergl": [
           {
            "marker": {
             "colorbar": {
              "outlinewidth": 0,
              "ticks": ""
             }
            },
            "type": "scattergl"
           }
          ],
          "scattermapbox": [
           {
            "marker": {
             "colorbar": {
              "outlinewidth": 0,
              "ticks": ""
             }
            },
            "type": "scattermapbox"
           }
          ],
          "scatterpolar": [
           {
            "marker": {
             "colorbar": {
              "outlinewidth": 0,
              "ticks": ""
             }
            },
            "type": "scatterpolar"
           }
          ],
          "scatterpolargl": [
           {
            "marker": {
             "colorbar": {
              "outlinewidth": 0,
              "ticks": ""
             }
            },
            "type": "scatterpolargl"
           }
          ],
          "scatterternary": [
           {
            "marker": {
             "colorbar": {
              "outlinewidth": 0,
              "ticks": ""
             }
            },
            "type": "scatterternary"
           }
          ],
          "surface": [
           {
            "colorbar": {
             "outlinewidth": 0,
             "ticks": ""
            },
            "colorscale": [
             [
              0,
              "#0d0887"
             ],
             [
              0.1111111111111111,
              "#46039f"
             ],
             [
              0.2222222222222222,
              "#7201a8"
             ],
             [
              0.3333333333333333,
              "#9c179e"
             ],
             [
              0.4444444444444444,
              "#bd3786"
             ],
             [
              0.5555555555555556,
              "#d8576b"
             ],
             [
              0.6666666666666666,
              "#ed7953"
             ],
             [
              0.7777777777777778,
              "#fb9f3a"
             ],
             [
              0.8888888888888888,
              "#fdca26"
             ],
             [
              1,
              "#f0f921"
             ]
            ],
            "type": "surface"
           }
          ],
          "table": [
           {
            "cells": {
             "fill": {
              "color": "#EBF0F8"
             },
             "line": {
              "color": "white"
             }
            },
            "header": {
             "fill": {
              "color": "#C8D4E3"
             },
             "line": {
              "color": "white"
             }
            },
            "type": "table"
           }
          ]
         },
         "layout": {
          "annotationdefaults": {
           "arrowcolor": "#2a3f5f",
           "arrowhead": 0,
           "arrowwidth": 1
          },
          "autotypenumbers": "strict",
          "coloraxis": {
           "colorbar": {
            "outlinewidth": 0,
            "ticks": ""
           }
          },
          "colorscale": {
           "diverging": [
            [
             0,
             "#8e0152"
            ],
            [
             0.1,
             "#c51b7d"
            ],
            [
             0.2,
             "#de77ae"
            ],
            [
             0.3,
             "#f1b6da"
            ],
            [
             0.4,
             "#fde0ef"
            ],
            [
             0.5,
             "#f7f7f7"
            ],
            [
             0.6,
             "#e6f5d0"
            ],
            [
             0.7,
             "#b8e186"
            ],
            [
             0.8,
             "#7fbc41"
            ],
            [
             0.9,
             "#4d9221"
            ],
            [
             1,
             "#276419"
            ]
           ],
           "sequential": [
            [
             0,
             "#0d0887"
            ],
            [
             0.1111111111111111,
             "#46039f"
            ],
            [
             0.2222222222222222,
             "#7201a8"
            ],
            [
             0.3333333333333333,
             "#9c179e"
            ],
            [
             0.4444444444444444,
             "#bd3786"
            ],
            [
             0.5555555555555556,
             "#d8576b"
            ],
            [
             0.6666666666666666,
             "#ed7953"
            ],
            [
             0.7777777777777778,
             "#fb9f3a"
            ],
            [
             0.8888888888888888,
             "#fdca26"
            ],
            [
             1,
             "#f0f921"
            ]
           ],
           "sequentialminus": [
            [
             0,
             "#0d0887"
            ],
            [
             0.1111111111111111,
             "#46039f"
            ],
            [
             0.2222222222222222,
             "#7201a8"
            ],
            [
             0.3333333333333333,
             "#9c179e"
            ],
            [
             0.4444444444444444,
             "#bd3786"
            ],
            [
             0.5555555555555556,
             "#d8576b"
            ],
            [
             0.6666666666666666,
             "#ed7953"
            ],
            [
             0.7777777777777778,
             "#fb9f3a"
            ],
            [
             0.8888888888888888,
             "#fdca26"
            ],
            [
             1,
             "#f0f921"
            ]
           ]
          },
          "colorway": [
           "#636efa",
           "#EF553B",
           "#00cc96",
           "#ab63fa",
           "#FFA15A",
           "#19d3f3",
           "#FF6692",
           "#B6E880",
           "#FF97FF",
           "#FECB52"
          ],
          "font": {
           "color": "#2a3f5f"
          },
          "geo": {
           "bgcolor": "white",
           "lakecolor": "white",
           "landcolor": "#E5ECF6",
           "showlakes": true,
           "showland": true,
           "subunitcolor": "white"
          },
          "hoverlabel": {
           "align": "left"
          },
          "hovermode": "closest",
          "mapbox": {
           "style": "light"
          },
          "paper_bgcolor": "white",
          "plot_bgcolor": "#E5ECF6",
          "polar": {
           "angularaxis": {
            "gridcolor": "white",
            "linecolor": "white",
            "ticks": ""
           },
           "bgcolor": "#E5ECF6",
           "radialaxis": {
            "gridcolor": "white",
            "linecolor": "white",
            "ticks": ""
           }
          },
          "scene": {
           "xaxis": {
            "backgroundcolor": "#E5ECF6",
            "gridcolor": "white",
            "gridwidth": 2,
            "linecolor": "white",
            "showbackground": true,
            "ticks": "",
            "zerolinecolor": "white"
           },
           "yaxis": {
            "backgroundcolor": "#E5ECF6",
            "gridcolor": "white",
            "gridwidth": 2,
            "linecolor": "white",
            "showbackground": true,
            "ticks": "",
            "zerolinecolor": "white"
           },
           "zaxis": {
            "backgroundcolor": "#E5ECF6",
            "gridcolor": "white",
            "gridwidth": 2,
            "linecolor": "white",
            "showbackground": true,
            "ticks": "",
            "zerolinecolor": "white"
           }
          },
          "shapedefaults": {
           "line": {
            "color": "#2a3f5f"
           }
          },
          "ternary": {
           "aaxis": {
            "gridcolor": "white",
            "linecolor": "white",
            "ticks": ""
           },
           "baxis": {
            "gridcolor": "white",
            "linecolor": "white",
            "ticks": ""
           },
           "bgcolor": "#E5ECF6",
           "caxis": {
            "gridcolor": "white",
            "linecolor": "white",
            "ticks": ""
           }
          },
          "title": {
           "x": 0.05
          },
          "xaxis": {
           "automargin": true,
           "gridcolor": "white",
           "linecolor": "white",
           "ticks": "",
           "title": {
            "standoff": 15
           },
           "zerolinecolor": "white",
           "zerolinewidth": 2
          },
          "yaxis": {
           "automargin": true,
           "gridcolor": "white",
           "linecolor": "white",
           "ticks": "",
           "title": {
            "standoff": 15
           },
           "zerolinecolor": "white",
           "zerolinewidth": 2
          }
         }
        },
        "title": {
         "text": "stay_at_home"
        },
        "xaxis": {
         "anchor": "y",
         "domain": [
          0,
          1
         ],
         "title": {
          "text": "date"
         }
        },
        "yaxis": {
         "anchor": "x",
         "domain": [
          0,
          1
         ],
         "title": {
          "text": "stay_at_home"
         }
        }
       }
      }
     },
     "metadata": {}
    }
   ],
   "metadata": {}
  },
  {
   "cell_type": "markdown",
   "source": [
    "### Modelling 'Stay at home rule'"
   ],
   "metadata": {}
  },
  {
   "cell_type": "code",
   "execution_count": 114,
   "source": [
    "stats_features = ['hospitalCases',\r\n",
    "                'newCasesByPublishDate',\r\n",
    "                'newAdmissions',\r\n",
    "                'newDeaths28DaysByDeathDate',\r\n",
    "                'cumPeopleVaccinatedCompleteByPublishDate',\r\n",
    "                'cumPeopleVaccinatedFirstDoseByPublishDate',\r\n",
    "                'cumPeopleVaccinatedSecondDoseByPublishDate',\r\n",
    "                'cumVaccinationCompleteCoverageByPublishDatePercentage',\r\n",
    "                'newVaccinesGivenByPublishDate', 'stay_at_home']"
   ],
   "outputs": [],
   "metadata": {}
  },
  {
   "cell_type": "code",
   "execution_count": 117,
   "source": [
    "# Creating a data set to use covid stats to model 'stay at home'\r\n",
    "model_df = df[stats_features].dropna()\r\n",
    "# Splitting into features and target\r\n",
    "X = model_df.drop(columns=['stay_at_home'])\r\n",
    "y = model_df['stay_at_home']\r\n",
    "print(f'The shape of X is: {X.shape}, the shape of y is: {y.shape}')"
   ],
   "outputs": [
    {
     "output_type": "stream",
     "name": "stdout",
     "text": [
      "The shape of X is: (196, 9), the shape of y is: (196,)\n"
     ]
    }
   ],
   "metadata": {}
  },
  {
   "cell_type": "code",
   "execution_count": 118,
   "source": [
    "plt.hist(y)"
   ],
   "outputs": [
    {
     "output_type": "execute_result",
     "data": {
      "text/plain": [
       "(array([119.,   0.,   0.,   0.,   0.,   0.,   0.,   0.,   0.,  77.]),\n",
       " array([0. , 0.1, 0.2, 0.3, 0.4, 0.5, 0.6, 0.7, 0.8, 0.9, 1. ]),\n",
       " <BarContainer object of 10 artists>)"
      ]
     },
     "metadata": {},
     "execution_count": 118
    },
    {
     "output_type": "display_data",
     "data": {
      "image/png": "[encoded data removed]",
      "text/plain": [
       "<Figure size 432x288 with 1 Axes>"
      ]
     },
     "metadata": {}
    }
   ],
   "metadata": {}
  },
  {
   "cell_type": "code",
   "execution_count": 119,
   "source": [
    "# Train test split\r\n",
    "from sklearn.model_selection import train_test_split\r\n",
    "X_train, X_test, y_train, y_test = train_test_split(X, y, test_size=0.33, random_state=42, stratify=y)"
   ],
   "outputs": [],
   "metadata": {}
  },
  {
   "cell_type": "code",
   "execution_count": 120,
   "source": [
    "from sklearn.linear_model import LogisticRegression\r\n",
    "clf = LogisticRegression()\r\n",
    "clf.fit(X_train, y_train)\r\n",
    "y_pred = clf.predict(X_test)"
   ],
   "outputs": [],
   "metadata": {}
  },
  {
   "cell_type": "code",
   "execution_count": 121,
   "source": [
    "from sklearn import metrics\r\n",
    "\r\n",
    "# Consusion matrix\r\n",
    "confusion_matrix = metrics.plot_confusion_matrix(clf, X_test, y_test)"
   ],
   "outputs": [
    {
     "output_type": "display_data",
     "data": {
      "image/png": "[encoded data removed]",
      "text/plain": [
       "<Figure size 432x288 with 2 Axes>"
      ]
     },
     "metadata": {}
    }
   ],
   "metadata": {}
  },
  {
   "cell_type": "code",
   "execution_count": 122,
   "source": [
    "# Accuracy\r\n",
    "metrics.accuracy_score(y_test, y_pred)"
   ],
   "outputs": [
    {
     "output_type": "execute_result",
     "data": {
      "text/plain": [
       "0.9846153846153847"
      ]
     },
     "metadata": {},
     "execution_count": 122
    }
   ],
   "metadata": {}
  },
  {
   "cell_type": "code",
   "execution_count": 123,
   "source": [
    "# Accuracy\r\n",
    "metrics.f1_score(y_test, y_pred)"
   ],
   "outputs": [
    {
     "output_type": "execute_result",
     "data": {
      "text/plain": [
       "0.9803921568627451"
      ]
     },
     "metadata": {},
     "execution_count": 123
    }
   ],
   "metadata": {}
  },
  {
   "cell_type": "code",
   "execution_count": 124,
   "source": [
    "y_pred_proba = clf.predict_proba(X_test)[:,1]\r\n",
    "fpr, tpr, threshold = metrics.roc_curve(y_test, y_pred_proba)\r\n",
    "plt.plot(fpr, tpr)\r\n",
    "\r\n",
    "auc = metrics.roc_auc_score(y_test, y_pred_proba)\r\n",
    "print('AUC: ', round(auc,2))"
   ],
   "outputs": [
    {
     "output_type": "stream",
     "name": "stdout",
     "text": [
      "AUC:  1.0\n"
     ]
    },
    {
     "output_type": "display_data",
     "data": {
      "image/png": "[encoded data removed]",
      "text/plain": [
       "<Figure size 432x288 with 1 Axes>"
      ]
     },
     "metadata": {}
    }
   ],
   "metadata": {}
  }
 ],
 "metadata": {
  "orig_nbformat": 4,
  "language_info": {
   "name": "python",
   "version": "3.7.10",
   "mimetype": "text/x-python",
   "codemirror_mode": {
    "name": "ipython",
    "version": 3
   },
   "pygments_lexer": "ipython3",
   "nbconvert_exporter": "python",
   "file_extension": ".py"
  },
  "kernelspec": {
   "name": "python3",
   "display_name": "Python 3.7.10 64-bit ('montVenv': conda)"
  },
  "interpreter": {
   "hash": "6d529639a3043f15ea50218449268f84f9ab6e6d9f9b2bbc7e080e4513256e12"
  }
 },
 "nbformat": 4,
 "nbformat_minor": 2
}