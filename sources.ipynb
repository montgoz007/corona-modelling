{
 "cells": [
  {
   "cell_type": "markdown",
   "source": [
    "Cases\r\n",
    "https://api.coronavirus.data.gov.uk/v2/data?areaType=overview&metric=newCasesByPublishDate&metric=hospitalCases&format=csv&release=2021-10-08\r\n",
    "\r\n",
    "Admissions\r\n",
    "https://api.coronavirus.data.gov.uk/v2/data?areaType=overview&metric=newAdmissions&format=csv&release=2021-10-08\r\n",
    "\r\n",
    "Deaths\r\n",
    "https://api.coronavirus.data.gov.uk/v2/data?areaType=overview&metric=newDeaths28DaysByDeathDate&format=csv&release=2021-10-08\r\n",
    "\r\n",
    "Vaccinations\r\n",
    "https://api.coronavirus.data.gov.uk/v2/data?areaType=overview&metric=cumPeopleVaccinatedCompleteByPublishDate&metric=cumPeopleVaccinatedFirstDoseByPublishDate&metric=cumPeopleVaccinatedSecondDoseByPublishDate&metric=newVaccinesGivenByPublishDate&metric=cumVaccinationCompleteCoverageByPublishDatePercentage&format=csv&release=2021-10-08\r\n",
    "\r\n"
   ],
   "metadata": {}
  }
 ],
 "metadata": {
  "orig_nbformat": 4,
  "language_info": {
   "name": "python"
  }
 },
 "nbformat": 4,
 "nbformat_minor": 2
}